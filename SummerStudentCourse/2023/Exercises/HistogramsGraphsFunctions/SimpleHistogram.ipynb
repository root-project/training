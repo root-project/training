{
 "cells": [
  {
   "cell_type": "markdown",
   "metadata": {},
   "source": [
    "# Create a Simple Histogram - C++ version\n",
    "\n",
    "builds and draws a histogram with the following features:\n",
    "\n",
    "- The number of bins is 50 and the x axis ranges from 0 to 10.\n",
    "- It is filled with random numbers distributed according to an exponential distribution which has a rate = 0.5.\n",
    "- Its line width is thicker than the default one.\n"
   ]
  },
  {
   "cell_type": "markdown",
   "metadata": {},
   "source": [
    "We now create our histogram"
   ]
  },
  {
   "cell_type": "code",
   "execution_count": null,
   "metadata": {},
   "outputs": [],
   "source": [
    "TH1D h(\"myHisto\", \"Exponential distribution; time; Observed events\", 50, 0, 10);"
   ]
  },
  {
   "cell_type": "markdown",
   "metadata": {},
   "source": [
    "We use the ROOT random number generator, e.g TRandom3\n",
    "See https://root.cern.ch/doc/master/classTRandom.html for the list of available PRNG in ROOT and the available functions to generate random numbers according to some specific distributions.\n",
    "\n",
    "Note that the parameter to pass to  `TRandom::Exp` is the exponetial decay parameter, the inverse of the exponential rate."
   ]
  },
  {
   "cell_type": "code",
   "execution_count": null,
   "metadata": {},
   "outputs": [],
   "source": [
    "TRandom3 r(111);\n",
    "double rate = 0.5;\n",
    "double tau = 1./rate;\n",
    "for (int i = 0; i < 1000; i++)\n",
    "    h.Fill(r.Exp(tau));"
   ]
  },
  {
   "cell_type": "markdown",
   "metadata": {},
   "source": [
    "Time for styling the histogram setting a thicker line and use jsroot"
   ]
  },
  {
   "cell_type": "code",
   "execution_count": null,
   "metadata": {},
   "outputs": [],
   "source": [
    "%jsroot on\n",
    "h.SetLineWidth(3);\n",
    "TCanvas c;\n",
    "h.Draw();\n",
    "c.Draw();"
   ]
  },
  {
   "cell_type": "markdown",
   "metadata": {
    "collapsed": true
   },
   "source": [
    "We can also fill the histogram with blue color.\n",
    "We don't need to re-draw the histogram. It is enough to call `TCanvas::Draw()`"
   ]
  },
  {
   "cell_type": "code",
   "execution_count": null,
   "metadata": {},
   "outputs": [],
   "source": [
    "h.SetFillColor(kBlue);\n",
    "c.Draw();"
   ]
  }
 ],
 "metadata": {
  "kernelspec": {
   "display_name": "ROOT C++",
   "language": "c++",
   "name": "root"
  },
  "language_info": {
   "codemirror_mode": "text/x-c++src",
   "file_extension": ".C",
   "mimetype": " text/x-c++src",
   "name": "c++"
  }
 },
 "nbformat": 4,
 "nbformat_minor": 2
}
