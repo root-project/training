{
 "cells": [
  {
   "cell_type": "markdown",
   "metadata": {},
   "source": [
    "# Building a Graph \n",
    "\n",
    "Create a graph with the following features: \n",
    "- The title of the plot is My graph.\n",
    "- The x and y axis have labels my_{X} and my_{Y} respectively.\n",
    "- It has three points with the following coordinates (1,0), (2,3), (3,4).\n",
    "- The marker is a full square. Its coulour is red.\n",
    "- An orange line joins the points."
   ]
  },
  {
   "cell_type": "markdown",
   "metadata": {},
   "source": [
    "We now create the TGraph class "
   ]
  },
  {
   "cell_type": "code",
   "execution_count": null,
   "metadata": {},
   "outputs": [],
   "source": [
    "auto g = new TGraph();"
   ]
  },
  {
   "cell_type": "markdown",
   "metadata": {},
   "source": [
    "We fill now the Graph with the points"
   ]
  },
  {
   "cell_type": "code",
   "execution_count": null,
   "metadata": {},
   "outputs": [],
   "source": [
    "double x[] = {1,2,3};\n",
    "double y[] = {0,3,4};"
   ]
  },
  {
   "cell_type": "code",
   "execution_count": null,
   "metadata": {},
   "outputs": [],
   "source": [
    "for (int i = 0; i < 3; i++)\n",
    "    g->SetPoint(i,x[i],y[i]);"
   ]
  },
  {
   "cell_type": "markdown",
   "metadata": {},
   "source": [
    "Before drawing it we set its graphic style"
   ]
  },
  {
   "cell_type": "code",
   "execution_count": null,
   "metadata": {},
   "outputs": [],
   "source": [
    "g->SetTitle(\"My graph;my_{X};my_{Y}\");\n",
    "g->SetLineColor(kOrange);\n",
    "g->SetLineWidth(2);\n",
    "g->SetMarkerStyle(kFullSquare);\n",
    "g->SetMarkerColor(kRed);"
   ]
  },
  {
   "cell_type": "markdown",
   "metadata": {},
   "source": [
    "We draw the Graph in a ROOT canvas using options: \n",
    "- `\"A\"` to draw the axis\n",
    "- `\"P\"` to draw the points\n",
    "- `\"L\"` to connect the points with a line\n",
    "\n",
    "See [TGraphPainter](https://root.cern.ch/doc/master/classTGraphPainter.html) for all the drawing options"
   ]
  },
  {
   "cell_type": "code",
   "execution_count": null,
   "metadata": {},
   "outputs": [],
   "source": [
    "auto c = new TCanvas();\n",
    "g->Draw(\"APL\");\n",
    "c->Draw();"
   ]
  },
  {
   "cell_type": "markdown",
   "metadata": {},
   "source": [
    "Change marker style, colour as well as line colour and thickness. Make the plot interactive. Re-draw the plot and interact with it!"
   ]
  },
  {
   "cell_type": "code",
   "execution_count": null,
   "metadata": {},
   "outputs": [],
   "source": [
    "g->SetMarkerStyle(kFullCircle);\n",
    "g->SetMarkerColor(kBlue);\n",
    "g->SetLineColor(kGreen);"
   ]
  },
  {
   "cell_type": "markdown",
   "metadata": {
    "collapsed": true
   },
   "source": [
    "Now we set also the grid on the canvas."
   ]
  },
  {
   "cell_type": "code",
   "execution_count": null,
   "metadata": {},
   "outputs": [],
   "source": [
    "c->SetGrid();\n",
    "c->Draw();"
   ]
  }
 ],
 "metadata": {
  "kernelspec": {
   "display_name": "ROOT C++",
   "language": "c++",
   "name": "root"
  },
  "language_info": {
   "codemirror_mode": "text/x-c++src",
   "file_extension": ".C",
   "mimetype": " text/x-c++src",
   "name": "c++"
  }
 },
 "nbformat": 4,
 "nbformat_minor": 2
}
