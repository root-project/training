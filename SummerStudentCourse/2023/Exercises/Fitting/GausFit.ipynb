{
 "cells": [
  {
   "cell_type": "markdown",
   "metadata": {},
   "source": [
    "# Example:  Gauss Histogram Fitting \n",
    "\n",
    "This example shows how to fit an histogram using ROOT "
   ]
  },
  {
   "cell_type": "markdown",
   "metadata": {},
   "source": [
    "Create First an empty histogram with 64 bins with range [-8,8]"
   ]
  },
  {
   "cell_type": "code",
   "execution_count": null,
   "metadata": {},
   "outputs": [],
   "source": [
    "TH1D h1(\"h1\",\"h1\",64,-8,8);"
   ]
  },
  {
   "cell_type": "markdown",
   "metadata": {},
   "source": [
    "Fill the histogram with 1000 Gaussian Random number with mean=1 and sigma=2"
   ]
  },
  {
   "cell_type": "code",
   "execution_count": null,
   "metadata": {},
   "outputs": [],
   "source": [
    "for (int i = 0; i < 1000; ++i) {\n",
    "    h1.Fill(gRandom->Gaus(1,2));\n",
    "}"
   ]
  },
  {
   "cell_type": "markdown",
   "metadata": {},
   "source": [
    "Note, we could also use the function h1.FillRandom(\"gaus\"), but we need to set the right parameters of the Gaussian function before.\n",
    "\n",
    "We plot then the histogram (using JSROOT)"
   ]
  },
  {
   "cell_type": "code",
   "execution_count": null,
   "metadata": {},
   "outputs": [],
   "source": [
    "%jsroot on\n",
    "h1.DrawCopy();\n",
    "gPad->Draw();"
   ]
  },
  {
   "cell_type": "markdown",
   "metadata": {},
   "source": [
    "### Part1: Fit the Histogram with a Gaussian function\n",
    "\n",
    "Note that before fitting we need to create the fitting function and set its initial parameter values. \n",
    "For a Gaussian function the setting of initial values is not really needed, because they can be computed automatically by ROOT. "
   ]
  },
  {
   "cell_type": "code",
   "execution_count": null,
   "metadata": {},
   "outputs": [],
   "source": [
    "// declare here some variables which will be used afterwards\n",
    "TF1 * f1 = nullptr; \n",
    "TFitResultPtr res; "
   ]
  },
  {
   "cell_type": "markdown",
   "metadata": {},
   "source": [
    "Create the Gaussian Fit function"
   ]
  },
  {
   "cell_type": "code",
   "execution_count": null,
   "metadata": {},
   "outputs": [],
   "source": [
    "f1 = new TF1(\"f1\",\"gaus\",-8,8);"
   ]
  },
  {
   "cell_type": "markdown",
   "metadata": {},
   "source": [
    "Set the initial parametger values (e.g. Constant = 100, mean = 0, sigma =1)"
   ]
  },
  {
   "cell_type": "code",
   "execution_count": null,
   "metadata": {},
   "outputs": [],
   "source": [
    "f1->SetParameters(100,0,1);  "
   ]
  },
  {
   "cell_type": "markdown",
   "metadata": {},
   "source": [
    "Fit now the histogram using the Fit method in ROOT. \n",
    "- By default the least-square method is used. \n",
    "- For likelihood fits we need to use the option `\"L\"`\n",
    "- for Pearson chi-square (expected error) , option `\"P\"`.\n",
    "\n",
    "Use also  option `\"S\"` to create a TFitResult object that is returned to the user.\n",
    "To compute the error using MINOS, use the `\"E\"` option\n"
   ]
  },
  {
   "cell_type": "code",
   "execution_count": null,
   "metadata": {},
   "outputs": [],
   "source": [
    "ROOT::Math::MinimizerOptions::SetDefaultMinimizer(\"Minuit2\");"
   ]
  },
  {
   "cell_type": "code",
   "execution_count": null,
   "metadata": {},
   "outputs": [],
   "source": [
    "res  = h1.Fit(f1, \"S   E\");"
   ]
  },
  {
   "cell_type": "code",
   "execution_count": null,
   "metadata": {},
   "outputs": [],
   "source": [
    "gStyle->SetOptFit(1111);\n",
    "gPad->SetLogy(true); // to set log scale in y\n",
    "gPad->Draw();"
   ]
  },
  {
   "cell_type": "markdown",
   "metadata": {},
   "source": [
    "Print the result of the Fit from the returned TFitResult object"
   ]
  },
  {
   "cell_type": "code",
   "execution_count": null,
   "metadata": {},
   "outputs": [],
   "source": [
    "res->Print();"
   ]
  },
  {
   "cell_type": "markdown",
   "metadata": {},
   "source": [
    "We can plot the fit residuals using , see https://root.cern.ch/doc/master/classTRatioPlot.html "
   ]
  },
  {
   "cell_type": "code",
   "execution_count": null,
   "metadata": {},
   "outputs": [],
   "source": [
    "auto rp1 = new TRatioPlot(&h1);\n",
    "rp1->Draw();\n",
    "rp1->GetLowerRefYaxis()->SetTitle(\"ratio\");\n",
    "rp1->GetUpperRefYaxis()->SetTitle(\"entries\");\n",
    "gPad->Draw();"
   ]
  },
  {
   "cell_type": "markdown",
   "metadata": {},
   "source": [
    "We can print also the Chisquare value of the fit. \n",
    "- if we have done a Neyman Chi2 fit we print the Chi2 computed using the bin values with observed errors (Neyman Chi2)\n",
    "- if we have done a Likelihood fit  we compute a Chi2 from the Poisson likelihood (see this [paper](https://cds.cern.ch/record/148303?ln=en) from Baker-Cousins).\n",
    "\n",
    "Note that in the first case the empty bins are not used, while in the second one all bins are used including empty ones. "
   ]
  },
  {
   "cell_type": "code",
   "execution_count": null,
   "metadata": {},
   "outputs": [],
   "source": [
    "//std::cout << \"Neyman chi2             = \" << h1.Chisquare(f1) << \"/ NDF = \" << f1->GetNDF() << std::endl;\n",
    "std::cout << \"Poisson likelihood chi2 = \" << h1.Chisquare(f1,\"L\") << \"/ NDF = \" << h1.GetNbinsX()-f1->GetNpar() << std::endl;"
   ]
  },
  {
   "cell_type": "markdown",
   "metadata": {},
   "source": [
    "Get the correlation matrix of the fit from the TFitResult class and print it "
   ]
  },
  {
   "cell_type": "code",
   "execution_count": null,
   "metadata": {},
   "outputs": [],
   "source": [
    "auto corrMatrix = res->GetCorrelationMatrix(); \n",
    "corrMatrix.Print(); "
   ]
  },
  {
   "cell_type": "code",
   "execution_count": null,
   "metadata": {},
   "outputs": [],
   "source": [
    "std::cout  << \"Gaussian sigma = \" << f1->GetParameter(\"Sigma\") << \"  +/- \" << f1->GetParError(f1->GetParNumber(\"Sigma\")) << std::endl;"
   ]
  },
  {
   "cell_type": "markdown",
   "metadata": {},
   "source": [
    "If we want to access the MINOS asymmetric error, we can get them from the FitResult object"
   ]
  },
  {
   "cell_type": "code",
   "execution_count": null,
   "metadata": {},
   "outputs": [],
   "source": [
    "std::cout  << \"Gaussian sigma = \" << res->Parameter(2) << \"  + \" << res->UpperError(2) << \"  \" << res->LowerError(2) << std::endl;"
   ]
  }
 ],
 "metadata": {
  "kernelspec": {
   "display_name": "ROOT C++",
   "language": "c++",
   "name": "root"
  },
  "language_info": {
   "codemirror_mode": "text/x-c++src",
   "file_extension": ".C",
   "mimetype": " text/x-c++src",
   "name": "c++"
  }
 },
 "nbformat": 4,
 "nbformat_minor": 1
}
