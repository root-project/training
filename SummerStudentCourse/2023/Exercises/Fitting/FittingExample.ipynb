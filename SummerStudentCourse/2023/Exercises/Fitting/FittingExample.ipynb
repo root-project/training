{
 "cells": [
  {
   "cell_type": "markdown",
   "metadata": {},
   "source": [
    "# Fitting Example\n",
    "\n",
    "This is a fitting example using Python for fitting an histogram with a \n",
    "signal function plus a background function. \n",
    "The functions are implmeneted in C++ but used from Python"
   ]
  },
  {
   "cell_type": "code",
   "execution_count": null,
   "metadata": {},
   "outputs": [],
   "source": [
    "import ROOT"
   ]
  },
  {
   "cell_type": "markdown",
   "metadata": {},
   "source": [
    "Inject into the interpreter the functions."
   ]
  },
  {
   "cell_type": "code",
   "execution_count": null,
   "metadata": {},
   "outputs": [],
   "source": [
    "%%cpp -d\n",
    "//Define functions for fitting \n",
    "// Quadratic background function\n",
    "double background(double *x, double *par) {\n",
    "  return par[0] + par[1]*x[0] + par[2]*x[0]*x[0];\n",
    "}\n",
    "\n",
    "// Lorenzian Peak function\n",
    "double lorentzianPeak(double *x, double *par) {\n",
    "  return (0.5*par[0]*par[1]/TMath::Pi()) /\n",
    "    TMath::Max(1.e-10,(x[0]-par[2])*(x[0]-par[2])\n",
    "    + .25*par[1]*par[1]);\n",
    "}\n",
    "\n",
    "// Sum of background and peak function\n",
    "double fitFunction(double *x, double *par) {\n",
    "  return background(x, par) + lorentzianPeak(x, &par[3]);\n",
    "}"
   ]
  },
  {
   "cell_type": "markdown",
   "metadata": {},
   "source": [
    "Construct the histogram containing the input data"
   ]
  },
  {
   "cell_type": "code",
   "execution_count": null,
   "metadata": {},
   "outputs": [],
   "source": [
    "nbins = 60\n",
    "data = [ 6,1,10,12,6,13,23,22,15,21,\n",
    "         23,26,36,25,27,35,40,44,66,81,\n",
    "         75,57,48,45,46,41,35,36,53,32,\n",
    "         40,37,38,31,36,44,42,37,32,32,\n",
    "         43,44,35,33,33,39,29,41,32,44,\n",
    "         26,39,29,35,32,21,21,15,25,15 ]\n",
    "xlow = 0\n",
    "xup = 3\n",
    "\n",
    "histo = ROOT.TH1D('histo', 'Lorentzian Peak on Quadratic Background', nbins, xlow, xup)\n",
    "\n",
    "for i in range(nbins):\n",
    "   histo.SetBinContent(i+1, data[i])"
   ]
  },
  {
   "cell_type": "markdown",
   "metadata": {},
   "source": [
    "Create the function and try to fit it without setting any parameter.\n",
    "Note we are using Minuit2 as minimizer"
   ]
  },
  {
   "cell_type": "code",
   "execution_count": null,
   "metadata": {},
   "outputs": [],
   "source": [
    "%jsroot on\n",
    "c = ROOT.TCanvas()\n",
    "nparams = 6\n",
    "fitFcn = ROOT.TF1('fitFcn', ROOT.fitFunction, xlow, xup, nparams)\n",
    "\n",
    "\n",
    "ROOT.Math.MinimizerOptions.SetDefaultMinimizer(\"Minuit2\");\n",
    "\n",
    "histo.Fit(fitFcn)\n",
    "c.Draw()"
   ]
  },
  {
   "cell_type": "markdown",
   "metadata": {},
   "source": [
    "The fit did not converge !!\n",
    "We need to set some sensible initial parameters ans then we try to fit again.\n",
    "After fitting we draw the histogram with the error bars."
   ]
  },
  {
   "cell_type": "code",
   "execution_count": null,
   "metadata": {},
   "outputs": [],
   "source": [
    "fitFcn.SetParameter(4, 0.2); # width\n",
    "fitFcn.SetParameter(5, 1);   # peak\n",
    "histo.Fit(fitFcn)\n",
    "histo.Draw('E')\n",
    "c.Draw()"
   ]
  },
  {
   "cell_type": "markdown",
   "metadata": {},
   "source": [
    "Much better now !!!\n",
    "\n",
    "We can now make a nicer plot drawing the signal and background components. \n",
    "We construct a TF1 for the background and Lorentzian functions and draw them in the same canvas.\n",
    "We save the fit results and set the parameters of the functions accordingly"
   ]
  },
  {
   "cell_type": "code",
   "execution_count": null,
   "metadata": {},
   "outputs": [],
   "source": [
    "pars = fitFcn.GetParameters()\n",
    "backFcn = ROOT.TF1('backFcn', ROOT.background, xlow, xup, 3)\n",
    "backFcn.SetLineColor(ROOT.kGreen)\n",
    "backFcn.Draw('Same')\n",
    "backFcn.SetParameters(pars[0], pars[1], pars[2])\n",
    "c.Draw()"
   ]
  },
  {
   "cell_type": "code",
   "execution_count": null,
   "metadata": {},
   "outputs": [],
   "source": [
    "signalFcn = ROOT.TF1('signalFcn', ROOT.lorentzianPeak, xlow, xup, 3)\n",
    "signalFcn.SetLineColor(ROOT.kBlue)\n",
    "signalFcn.SetParameters(pars[3], pars[4], pars[5])\n",
    "signalFcn.Draw('Same')\n",
    "c.Draw()"
   ]
  },
  {
   "cell_type": "markdown",
   "metadata": {},
   "source": [
    "We add here a legend to the plot"
   ]
  },
  {
   "cell_type": "code",
   "execution_count": null,
   "metadata": {},
   "outputs": [],
   "source": [
    "legend = ROOT.TLegend(0.45, 0.65, 0.73, 0.85)\n",
    "legend.SetTextFont(72)\n",
    "legend.SetTextSize(0.04)\n",
    "legend.AddEntry(histo, 'Data', 'LE')\n",
    "legend.AddEntry(backFcn, 'Background fit', 'L')\n",
    "legend.AddEntry(signalFcn, 'Signal fit', 'L')\n",
    "legend.AddEntry(fitFcn, 'Global Fit', 'L')\n",
    "legend.Draw('Same')\n",
    "c.Draw()"
   ]
  }
 ],
 "metadata": {
  "kernelspec": {
   "display_name": "Python 3 (ipykernel)",
   "language": "python",
   "name": "python3"
  },
  "language_info": {
   "codemirror_mode": {
    "name": "ipython",
    "version": 3
   },
   "file_extension": ".py",
   "mimetype": "text/x-python",
   "name": "python",
   "nbconvert_exporter": "python",
   "pygments_lexer": "ipython3",
   "version": "3.8.9"
  }
 },
 "nbformat": 4,
 "nbformat_minor": 2
}
