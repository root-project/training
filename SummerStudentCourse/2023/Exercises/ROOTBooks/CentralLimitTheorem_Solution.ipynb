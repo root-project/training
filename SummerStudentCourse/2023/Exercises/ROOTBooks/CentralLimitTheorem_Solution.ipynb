{
 "cells": [
  {
   "cell_type": "markdown",
   "metadata": {},
   "source": [
    "# Exercise: Central Limit Theorem\n",
    "\n",
    "In this exercise we will show what is the Central Limit Theorem and how it applies "
   ]
  },
  {
   "cell_type": "markdown",
   "metadata": {},
   "source": [
    "### Part 1: Generate random number according to a uniform distriobution"
   ]
  },
  {
   "cell_type": "markdown",
   "metadata": {},
   "source": [
    "The first goal is to generate *n* random numbers according to a uniform distribution between [-1,1], fill an histogram and compute the average of the generated numbers.\n",
    "Display also the obtained histogram.\n",
    "\n",
    "Let's start with n = 10"
   ]
  },
  {
   "cell_type": "code",
   "execution_count": 1,
   "metadata": {
    "collapsed": false
   },
   "outputs": [],
   "source": [
    "int n = 10; \n",
    "TRandom3 r(0);  // initialize with zero to have a random seed "
   ]
  },
  {
   "cell_type": "markdown",
   "metadata": {
    "collapsed": true
   },
   "source": [
    "Create and book the histogram"
   ]
  },
  {
   "cell_type": "code",
   "execution_count": 2,
   "metadata": {
    "collapsed": true
   },
   "outputs": [],
   "source": [
    "auto h1 = new TH1D(\"h1\",\"Distribution of generated values\",100,-1,1);"
   ]
  },
  {
   "cell_type": "markdown",
   "metadata": {
    "collapsed": true
   },
   "source": [
    "Generate the numbers and fill the histogram.\n",
    "You can compute the average directly or let the histogram computing it for you"
   ]
  },
  {
   "cell_type": "code",
   "execution_count": 3,
   "metadata": {
    "collapsed": false
   },
   "outputs": [],
   "source": [
    "for (int i = 0; i < n; ++i) {\n",
    "    double x = r.Uniform(-1,1);\n",
    "    h1->Fill(x);        \n",
    "}"
   ]
  },
  {
   "cell_type": "markdown",
   "metadata": {
    "collapsed": false,
    "scrolled": true
   },
   "source": [
    "Display the histogram and print out the average result"
   ]
  },
  {
   "cell_type": "code",
   "execution_count": 4,
   "metadata": {
    "collapsed": false
   },
   "outputs": [
    {
     "data": {
      "image/png": "[encoded data removed]",
      "text/plain": [
       "<IPython.core.display.Image object>"
      ]
     },
     "metadata": {},
     "output_type": "display_data"
    },
    {
     "name": "stdout",
     "output_type": "stream",
     "text": [
      "sample mean = 0.265254\n"
     ]
    },
    {
     "name": "stderr",
     "output_type": "stream",
     "text": [
      "Info in <TCanvas::MakeDefCanvas>:  created default TCanvas with name c1\n"
     ]
    }
   ],
   "source": [
    "h1->Draw();\n",
    "gPad->Draw();\n",
    "std::cout << \"sample mean = \" << h1->GetMean() << std::endl;"
   ]
  },
  {
   "cell_type": "markdown",
   "metadata": {},
   "source": [
    "### Part 2: Study the distribution of the sample mean composed  of *n* numbers uniformly distributed\n",
    "\n",
    "Now repeat many times what has been done before to study the distribution of the average, $\\mu$. The exercise will show that this distribution will converge very quickly to a Gaussian distribution. It is enough to have a very small \n",
    "$n$ to get already a pretty good Gaussian. \n",
    "For having the sigma of the distribution indipendent on the number of generated events $n$, we will \n",
    "make an histogram of $\\sqrt{n}  \\times \\mu$."
   ]
  },
  {
   "cell_type": "markdown",
   "metadata": {},
   "source": [
    "Do then as following: \n",
    "*  Make a loop where for each time $n$ uniform numbers are generated and their average $\\mu$ is computed. \n",
    "*  Make an histogram now of $\\sqrt{n}  \\times \\mu$.\n",
    "\n",
    "Start using a very small $n$ (e.g. $n=2$) but use for the loop, which performs the generation of $n$ numbers, a large value (e.g. $n_{experiments} = 10000$. "
   ]
  },
  {
   "cell_type": "code",
   "execution_count": 5,
   "metadata": {
    "collapsed": false
   },
   "outputs": [],
   "source": [
    "auto hout = new TH1D(\"h\",\"Sample Mean Distribution\",50,-2,2);\n",
    "int nexp = 10000;  "
   ]
  },
  {
   "cell_type": "code",
   "execution_count": 6,
   "metadata": {
    "collapsed": false
   },
   "outputs": [
    {
     "data": {
      "image/png": "[encoded data removed]",
      "text/plain": [
       "<IPython.core.display.Image object>"
      ]
     },
     "metadata": {},
     "output_type": "display_data"
    }
   ],
   "source": [
    "n = 2;\n",
    "hout->Reset(); // for running this cell a second time\n",
    "for (int iexp = 0; iexp < nexp; ++iexp){ \n",
    "    h1->Reset();\n",
    "    for (int i = 0; i < n; ++i) {\n",
    "        h1->Fill(r.Uniform(-1,1));\n",
    "    }\n",
    "    double average = sqrt(n)*h1->GetMean();\n",
    "    hout->Fill(average);\n",
    "}\n",
    "hout->Draw();\n",
    "gPad->Draw();"
   ]
  },
  {
   "cell_type": "markdown",
   "metadata": {
    "collapsed": false
   },
   "source": [
    "### Part 3: Fit the obtained histogram with a Gaussian function\n",
    "\n",
    "we perform now a fit with a Gaussian distribution and see how the obtained data agree with the function"
   ]
  },
  {
   "cell_type": "code",
   "execution_count": 7,
   "metadata": {
    "collapsed": false
   },
   "outputs": [
    {
     "data": {
      "image/png": "[encoded data removed]",
      "text/plain": [
       "<IPython.core.display.Image object>"
      ]
     },
     "metadata": {},
     "output_type": "display_data"
    },
    {
     "name": "stdout",
     "output_type": "stream",
     "text": [
      " FCN=226.458 FROM MIGRAD    STATUS=CONVERGED      59 CALLS          60 TOTAL\n",
      "                     EDM=9.76666e-11    STRATEGY= 1      ERROR MATRIX ACCURATE \n",
      "  EXT PARAMETER                                   STEP         FIRST   \n",
      "  NO.   NAME      VALUE            ERROR          SIZE      DERIVATIVE \n",
      "   1  Constant     5.32296e+02   6.54072e+00   3.96502e-02   5.18912e-07\n",
      "   2  Mean         3.63931e-03   6.37389e-03   4.68616e-05  -6.85231e-04\n",
      "   3  Sigma        5.95212e-01   4.63812e-03   1.58913e-05   5.77603e-03\n"
     ]
    }
   ],
   "source": [
    "hout->Fit(\"gaus\");\n",
    "gPad->Draw();\n",
    "gStyle->SetOptFit(1111);"
   ]
  },
  {
   "cell_type": "markdown",
   "metadata": {},
   "source": [
    "Repeat the operation above by increasing $n$ to a larger value (e.g. $n=10$). For the Central Limit Theorem as $n$ is increased the obtained distribution will converge to a Gaussian. "
   ]
  },
  {
   "cell_type": "markdown",
   "metadata": {},
   "source": [
    "**Question** : What is the computed standard deviation of the distribution when we generate $n$ uniform number between [-1,1] ? \n",
    "What will be then the $\\sigma$ if I generate the number between $[-\\sqrt{3},\\sqrt{3}]$ ?"
   ]
  },
  {
   "cell_type": "markdown",
   "metadata": {},
   "source": [
    "**Answer** : $\\sigma = 2/\\sqrt{12}$ if we generate between [-1,1] and $\\sigma = 1$ if $x \\ \\epsilon \\ [-\\sqrt{3},\\sqrt{3}]$"
   ]
  },
  {
   "cell_type": "code",
   "execution_count": null,
   "metadata": {
    "collapsed": true
   },
   "outputs": [],
   "source": []
  }
 ],
 "metadata": {
  "kernelspec": {
   "display_name": "ROOT C++",
   "language": "c++",
   "name": "root"
  },
  "language_info": {
   "codemirror_mode": "text/x-c++src",
   "file_extension": ".C",
   "mimetype": " text/x-c++src",
   "name": "c++"
  }
 },
 "nbformat": 4,
 "nbformat_minor": 1
}
