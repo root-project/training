{
 "cells": [
  {
   "cell_type": "markdown",
   "metadata": {},
   "source": [
    "## $H \\to \\gamma \\gamma$ Fit\n",
    "\n",
    "This is an example of fitting the 2-photon invariant mass to determine the number of Higgs signal events.\n",
    "\n",
    "We have a data set consists of ~ 30000 di-photon invariant mass values from a tetx file (**Hgg.txt**) which should be in the current directory. \n",
    "\n",
    "We perform a binned maximum likelihood fit (for reducing the CPU time) using RooFit.  "
   ]
  },
  {
   "cell_type": "markdown",
   "metadata": {},
   "source": [
    "### 1. Reading Input data set"
   ]
  },
  {
   "cell_type": "code",
   "execution_count": 1,
   "metadata": {
    "collapsed": false
   },
   "outputs": [
    {
     "name": "stdout",
     "output_type": "stream",
     "text": [
      "Read 30770 from the file \n"
     ]
    }
   ],
   "source": [
    "TTree tree(\"tree\",\"tree\");\n",
    "int nevt = tree.ReadFile(\"Hgg.txt\",\"x\");\n",
    "if (nevt <= 0) {\n",
    "    Error(\"fitHgg\",\"Error reading data from input file \");\n",
    "}\n",
    "std::cout << \"Read \" << nevt << \" from the file \" << std::endl;"
   ]
  },
  {
   "cell_type": "markdown",
   "metadata": {},
   "source": [
    "### 2.  Create of histogram representing the  data\n",
    "\n",
    "We make an histogram with 100 bins from 110 to 160 where we fill the invariant mass data from the tree"
   ]
  },
  {
   "cell_type": "code",
   "execution_count": 2,
   "metadata": {
    "collapsed": false
   },
   "outputs": [
    {
     "data": {
      "image/png": "[encoded data removed]",
      "text/plain": [
       "<IPython.core.display.Image object>"
      ]
     },
     "metadata": {},
     "output_type": "display_data"
    },
    {
     "name": "stderr",
     "output_type": "stream",
     "text": [
      "Info in <TCanvas::MakeDefCanvas>:  created default TCanvas with name c1\n"
     ]
    }
   ],
   "source": [
    "auto h1 = new TH1D(\"h1\",\"Invariant Mass distribution;Mass;\",100,110,160);\n",
    "tree.Draw(\"x >> h1\");\n",
    "h1->Draw(); gPad->Draw();"
   ]
  },
  {
   "cell_type": "markdown",
   "metadata": {
    "collapsed": true
   },
   "source": [
    "### 3. Model creation\n",
    "\n",
    "We make now the model using the capabilities of TF1 using the NSUM operator (normalized sum of functions). \n",
    "\n",
    "We assume a Gaussian distribution for the signal and a double  exponential distribution for the background as following: \n",
    "\n",
    "$$ P(x | \\mu , \\nu ) = n_{sig} \\times G(x | M , \\sigma) + n_{bkg} \\times E(x|a_1,a_2)$$\n",
    "\n",
    "where $G (x | M , \\sigma)$ is the Gaussian distribution for the signal and $E(x|a_1,a_2)$ is the exponential distribution describing the background. \n",
    "\n",
    "$$E(x|a_1,a_2) = \\frac{ e^{( - a1 * x/100 - a2 * (x/100)^2 )}}{\\int e^{-(.....)} dx }$$ "
   ]
  },
  {
   "cell_type": "code",
   "execution_count": 3,
   "metadata": {
    "collapsed": false
   },
   "outputs": [],
   "source": [
    "auto fsig = new TF1(\"fsig\",\"[Constant]*TMath::Gaus(x,[Mass],[Sigma])\");"
   ]
  },
  {
   "cell_type": "code",
   "execution_count": 4,
   "metadata": {
    "collapsed": false
   },
   "outputs": [],
   "source": [
    "auto fbkg = new TF1(\"fbkg\",\"[Constant]*exp(-([a1]*x)/100.-[a2]*(x/100)*(x/100))\");"
   ]
  },
  {
   "cell_type": "code",
   "execution_count": 5,
   "metadata": {
    "collapsed": false
   },
   "outputs": [],
   "source": [
    "auto fmodel = new TF1(\"model\",\"NSUM(fsig,fbkg)\",110,160);"
   ]
  },
  {
   "cell_type": "markdown",
   "metadata": {},
   "source": [
    "### 4. Fit the data \n",
    "\n",
    "We do first a fit to the histogram using the bacground only function to get reasanable values for the parameters"
   ]
  },
  {
   "cell_type": "code",
   "execution_count": 6,
   "metadata": {
    "collapsed": false
   },
   "outputs": [
    {
     "data": {
      "image/png": "[encoded data removed]",
      "text/plain": [
       "<IPython.core.display.Image object>"
      ]
     },
     "metadata": {},
     "output_type": "display_data"
    },
    {
     "name": "stdout",
     "output_type": "stream",
     "text": [
      " FCN=54.4763 FROM MIGRAD    STATUS=CONVERGED     705 CALLS         706 TOTAL\n",
      "                     EDM=4.98443e-07    STRATEGY= 1      ERROR MATRIX ACCURATE \n",
      "  EXT PARAMETER                                   STEP         FIRST   \n",
      "  NO.   NAME      VALUE            ERROR          SIZE      DERIVATIVE \n",
      "   1  Constant     4.06721e+05   1.46258e+05   1.03461e+01  -2.03344e-07\n",
      "   2  a1           7.65662e+00   5.46741e-01   2.25974e-05   1.18029e-01\n",
      "   3  a2          -1.65020e+00   2.06545e-01   1.70941e-05   1.68232e-01\n",
      "                               ERR DEF= 0.5\n"
     ]
    }
   ],
   "source": [
    "fbkg->SetParameter(\"Constant\",1.E7);\n",
    "fbkg->SetParameter(\"a1\",8);\n",
    "fbkg->SetParameter(\"a2\",2);\n",
    "fbkg->SetRange(110,160); fbkg->Draw();\n",
    "h1->Fit(fbkg,\"L\");\n",
    "gPad->Draw();"
   ]
  },
  {
   "cell_type": "markdown",
   "metadata": {},
   "source": [
    "#### Full data fit using the created model (Higgs signal + background)\n",
    "\n",
    "We first set initial parameter in the function"
   ]
  },
  {
   "cell_type": "code",
   "execution_count": 7,
   "metadata": {
    "collapsed": false
   },
   "outputs": [
    {
     "name": "stdout",
     "output_type": "stream",
     "text": [
      "Composition based function: model. Ndim = 1, Npar = 6 \n",
      "List of  Parameters: \n",
      "               Coeff0 =    1.000000 \n",
      "               Coeff1 =    1.000000 \n",
      "                 Mass =    0.000000 \n",
      "                Sigma =    0.000000 \n",
      "                   a1 =    0.000000 \n",
      "                   a2 =    0.000000 \n"
     ]
    }
   ],
   "source": [
    "fmodel->Print(\"V\")"
   ]
  },
  {
   "cell_type": "code",
   "execution_count": 8,
   "metadata": {
    "collapsed": false
   },
   "outputs": [],
   "source": [
    "fmodel->SetParameter(\"Coeff0\",100);\n",
    "fmodel->SetParameter(\"Coeff1\",10000);\n",
    "fmodel->SetParameter(\"Mass\",124);\n",
    "fmodel->SetParameter(\"Sigma\",1);\n",
    "fmodel->SetParameter(\"a1\",fbkg->GetParameter(\"a1\"));\n",
    "fmodel->SetParameter(\"a2\",fbkg->GetParameter(\"a2\"));"
   ]
  },
  {
   "cell_type": "markdown",
   "metadata": {},
   "source": [
    "Now we fit the histogram. We perform a Binned likelihood fit (option L)"
   ]
  },
  {
   "cell_type": "code",
   "execution_count": 9,
   "metadata": {
    "collapsed": false
   },
   "outputs": [
    {
     "data": {
      "image/png": "[encoded data removed]",
      "text/plain": [
       "<IPython.core.display.Image object>"
      ]
     },
     "metadata": {},
     "output_type": "display_data"
    },
    {
     "name": "stdout",
     "output_type": "stream",
     "text": [
      " FCN=47.2816 FROM MIGRAD    STATUS=CONVERGED     438 CALLS         439 TOTAL\n",
      "                     EDM=2.02859e-08    STRATEGY= 1      ERROR MATRIX ACCURATE \n",
      "  EXT PARAMETER                                   STEP         FIRST   \n",
      "  NO.   NAME      VALUE            ERROR          SIZE      DERIVATIVE \n",
      "   1  Coeff0       1.38465e+02   4.74881e+01   1.57304e-01   8.89228e-07\n",
      "   2  Coeff1       1.52468e+04   9.90382e+01   4.18454e-01  -4.91478e-07\n",
      "   3  Mass         1.24082e+02   5.43537e-01   2.36556e-03   8.67132e-05\n",
      "   4  Sigma        1.49393e+00   5.06967e-01   1.79900e-03  -2.26318e-04\n",
      "   5  a1           8.63915e+00   8.99238e-01   1.98631e-04  -1.45447e-03\n",
      "   6  a2          -2.02929e+00   3.40231e-01   7.49424e-05  -3.99939e-03\n",
      "                               ERR DEF= 0.5\n"
     ]
    }
   ],
   "source": [
    "res = h1->Fit(fmodel,\"L S\");\n",
    "fmodel->Draw();\n",
    "h1->Draw();\n",
    "gPad->Draw();"
   ]
  },
  {
   "cell_type": "markdown",
   "metadata": {},
   "source": [
    "The number of signal/background events are equal to the Coefficients in the Normalized sum function divided by the bin width"
   ]
  },
  {
   "cell_type": "code",
   "execution_count": 10,
   "metadata": {
    "collapsed": false
   },
   "outputs": [
    {
     "name": "stdout",
     "output_type": "stream",
     "text": [
      "Number of Higgs events = 276.93 +/- 94.9761\n",
      "Number of Backg. events = 30493.6 +/- 198.076\n"
     ]
    }
   ],
   "source": [
    "double bw = h1->GetBinWidth(1);\n",
    "std::cout << \"Number of Higgs events = \" << res->Parameter(0)/bw << \" +/- \" << res->ParError(0)/bw << std::endl;\n",
    "std::cout << \"Number of Backg. events = \" << res->Parameter(1)/bw << \" +/- \" << res->ParError(1)/bw << std::endl;"
   ]
  },
  {
   "cell_type": "markdown",
   "metadata": {},
   "source": [
    "### 4. Compute the Significance\n",
    "\n",
    "For computing the significance we look at the Delta of the Likelihood obtained by fitting fixing the number of signal events to be zero and the full fit. \n",
    "The significance is equal to $\\sqrt {\\Delta logL}$.\n",
    "\n",
    "We do then a background only fit "
   ]
  },
  {
   "cell_type": "code",
   "execution_count": 11,
   "metadata": {
    "collapsed": false
   },
   "outputs": [],
   "source": [
    "auto fmodel2 = new TF1(*fmodel); \n",
    "fmodel2->FixParameter(0,0);\n",
    "fmodel2->FixParameter(2, res->Parameter(2));\n",
    "fmodel2->FixParameter(3, res->Parameter(3));\n",
    "fmodel2->SetLineColor(kBlue); "
   ]
  },
  {
   "cell_type": "code",
   "execution_count": 12,
   "metadata": {
    "collapsed": false
   },
   "outputs": [
    {
     "data": {
      "image/png": "[encoded data removed]",
      "text/plain": [
       "<IPython.core.display.Image object>"
      ]
     },
     "metadata": {},
     "output_type": "display_data"
    },
    {
     "name": "stdout",
     "output_type": "stream",
     "text": [
      " FCN=54.4763 FROM MIGRAD    STATUS=CONVERGED      71 CALLS          72 TOTAL\n",
      "                     EDM=2.36908e-10    STRATEGY= 1      ERROR MATRIX ACCURATE \n",
      "  EXT PARAMETER                                   STEP         FIRST   \n",
      "  NO.   NAME      VALUE            ERROR          SIZE      DERIVATIVE \n",
      "   1  Coeff0       0.00000e+00     fixed    \n",
      "   2  Coeff1       1.53852e+04   8.77083e+01   4.48973e-01  -3.80926e-08\n",
      "   3  Mass         1.24082e+02     fixed    \n",
      "   4  Sigma        1.49393e+00     fixed    \n",
      "   5  a1           7.65633e+00   8.41843e-01   2.12848e-04  -3.53384e-04\n",
      "   6  a2          -1.65010e+00   3.17685e-01   8.03222e-05  -9.45216e-04\n",
      "                               ERR DEF= 0.5\n"
     ]
    }
   ],
   "source": [
    "res2 = h1->Fit(fmodel2,\"L S +\");\n",
    "gPad->Draw();"
   ]
  },
  {
   "cell_type": "code",
   "execution_count": 13,
   "metadata": {
    "collapsed": false
   },
   "outputs": [
    {
     "name": "stdout",
     "output_type": "stream",
     "text": [
      "Significance is = 2.68229\n"
     ]
    }
   ],
   "source": [
    "std::cout << \"Significance is = \" << sqrt( res2->MinFcnValue() - res->MinFcnValue() ) << std::endl;"
   ]
  },
  {
   "cell_type": "code",
   "execution_count": null,
   "metadata": {
    "collapsed": true
   },
   "outputs": [],
   "source": []
  }
 ],
 "metadata": {
  "kernelspec": {
   "display_name": "ROOT C++",
   "language": "c++",
   "name": "root"
  },
  "language_info": {
   "codemirror_mode": "text/x-c++src",
   "file_extension": ".C",
   "mimetype": " text/x-c++src",
   "name": "c++"
  }
 },
 "nbformat": 4,
 "nbformat_minor": 0
}
