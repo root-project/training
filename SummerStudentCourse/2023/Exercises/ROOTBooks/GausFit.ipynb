{
 "cells": [
  {
   "cell_type": "markdown",
   "metadata": {},
   "source": [
    "# Exercise:  Gauss Histogram Fitting \n",
    "\n",
    "This example shows how to fit an histogram using ROOT "
   ]
  },
  {
   "cell_type": "markdown",
   "metadata": {},
   "source": [
    "Create First an empty histogram with 50 bins with range [-10,10]"
   ]
  },
  {
   "cell_type": "code",
   "execution_count": 1,
   "metadata": {
    "collapsed": false
   },
   "outputs": [],
   "source": []
  },
  {
   "cell_type": "markdown",
   "metadata": {},
   "source": [
    "Fill the histogram with 10000 Gaussian Random number with mean=1 and sigma=2"
   ]
  },
  {
   "cell_type": "code",
   "execution_count": 2,
   "metadata": {
    "collapsed": false
   },
   "outputs": [],
   "source": []
  },
  {
   "cell_type": "markdown",
   "metadata": {},
   "source": [
    "Note, we could also use the function h1.FillRandom(\"gaus\"), but we need to set the right parameters of the Gaussian function before."
   ]
  },
  {
   "cell_type": "code",
   "execution_count": 3,
   "metadata": {
    "collapsed": false,
    "scrolled": true
   },
   "outputs": [
    {
     "data": {
      "image/png": "[encoded data removed]",
      "text/plain": [
       "<IPython.core.display.Image object>"
      ]
     },
     "metadata": {},
     "output_type": "display_data"
    },
    {
     "name": "stderr",
     "output_type": "stream",
     "text": [
      "Info in <TCanvas::MakeDefCanvas>:  created default TCanvas with name c1\n"
     ]
    }
   ],
   "source": [
    "h1->Draw(); \n",
    "gPad->Draw();"
   ]
  },
  {
   "cell_type": "markdown",
   "metadata": {},
   "source": [
    "### Part1: Fit the Histogram with a Gaussian function\n",
    "\n",
    "Note that before fitting we need to create the fitting function and set its initial parameter values. \n",
    "For a Gaussian function the setting of initial values is not really needed, because they can be computed automatically by ROOT. "
   ]
  },
  {
   "cell_type": "code",
   "execution_count": 4,
   "metadata": {
    "collapsed": false
   },
   "outputs": [],
   "source": [
    "// declare here some variables which will be used afterwards\n",
    "TF1 * f1 = nullptr; \n",
    "TFitResultPtr res; "
   ]
  },
  {
   "cell_type": "markdown",
   "metadata": {},
   "source": [
    "Create the Gaussian Fit function"
   ]
  },
  {
   "cell_type": "code",
   "execution_count": 5,
   "metadata": {
    "collapsed": false
   },
   "outputs": [],
   "source": []
  },
  {
   "cell_type": "markdown",
   "metadata": {},
   "source": [
    "Set the initial parametger values (e.g. Constant = 100, mean = 0, sigma =1)"
   ]
  },
  {
   "cell_type": "code",
   "execution_count": 6,
   "metadata": {
    "collapsed": false
   },
   "outputs": [],
   "source": [
    " "
   ]
  },
  {
   "cell_type": "markdown",
   "metadata": {},
   "source": [
    "Fit now the histogram using the Fit method in ROOT. By default the least-square method is used. \n",
    "For likelihood fits we need to use the option \"L\", for Pearson chi-square (expected error) , option \"P\".\n",
    "\n",
    "Use also  option \"S\" to create a TFitResult object that is returned to the user.\n",
    "To compute the error using MINOS, use the \"E\" option\n"
   ]
  },
  {
   "cell_type": "code",
   "execution_count": 7,
   "metadata": {
    "collapsed": false
   },
   "outputs": [
    {
     "name": "stdout",
     "output_type": "stream",
     "text": [
      " FCN=35.8313 FROM MINOS     STATUS=SUCCESSFUL     21 CALLS         171 TOTAL\n",
      "                     EDM=4.34905e-11    STRATEGY= 1      ERROR MATRIX ACCURATE \n",
      "  EXT PARAMETER                                   STEP         FIRST   \n",
      "  NO.   NAME      VALUE            ERROR          SIZE      DERIVATIVE \n",
      "   1  Constant     7.40284e+01   3.02687e+00  -2.34163e-02   1.36540e-04\n",
      "   2  Mean         1.02275e+00   6.85129e-02  -4.53464e-04  -6.98304e-03\n",
      "   3  Sigma        2.08774e+00   5.45912e-02   5.45912e-02   8.36253e-02\n"
     ]
    }
   ],
   "source": []
  },
  {
   "cell_type": "code",
   "execution_count": 8,
   "metadata": {
    "collapsed": false
   },
   "outputs": [
    {
     "data": {
      "image/png": "[encoded data removed]",
      "text/plain": [
       "<IPython.core.display.Image object>"
      ]
     },
     "metadata": {},
     "output_type": "display_data"
    }
   ],
   "source": [
    "gStyle->SetOptFit(1);\n",
    "gPad->SetLogy(true); // to set log scale in y\n",
    "gPad->Draw();"
   ]
  },
  {
   "cell_type": "markdown",
   "metadata": {},
   "source": [
    "Print the result of the Fit from the returned TFitResult object"
   ]
  },
  {
   "cell_type": "code",
   "execution_count": 9,
   "metadata": {
    "collapsed": false
   },
   "outputs": [
    {
     "name": "stdout",
     "output_type": "stream",
     "text": [
      "\n",
      "****************************************\n",
      "Minimizer is Minuit / Migrad\n",
      "Chi2                      =      35.8313\n",
      "NDf                       =           29\n",
      "Edm                       =  4.34905e-11\n",
      "NCalls                    =           84\n",
      "Constant                  =      74.0284   +/-   3.02687     \n",
      "Mean                      =      1.02275   +/-   0.0685129   \n",
      "Sigma                     =      2.08774   +/-   0.0545912    \t (limited)\n"
     ]
    }
   ],
   "source": []
  },
  {
   "cell_type": "markdown",
   "metadata": {},
   "source": [
    "Get the correlation matrix of the fit from the TFitResult class and print it "
   ]
  },
  {
   "cell_type": "code",
   "execution_count": 10,
   "metadata": {
    "collapsed": false
   },
   "outputs": [
    {
     "name": "stdout",
     "output_type": "stream",
     "text": [
      "\n",
      "3x3 matrix is as follows\n",
      "\n",
      "     |      0    |      1    |      2    |\n",
      "--------------------------------------------\n",
      "   0 |          1    0.007838     -0.6161 \n",
      "   1 |   0.007838           1    -0.02071 \n",
      "   2 |    -0.6161    -0.02071           1 \n",
      "\n"
     ]
    }
   ],
   "source": []
  },
  {
   "cell_type": "code",
   "execution_count": 11,
   "metadata": {
    "collapsed": false
   },
   "outputs": [
    {
     "name": "stdout",
     "output_type": "stream",
     "text": [
      "Gaussian sigma = 2.08774  +/- 0.0545912\n"
     ]
    }
   ],
   "source": [
    "std::cout  << \"Gaussian sigma = \" << f1->GetParameter(\"Sigma\") << \"  +/- \" << f1->GetParError(f1->GetParNumber(\"Sigma\")) << std::endl;"
   ]
  },
  {
   "cell_type": "markdown",
   "metadata": {},
   "source": [
    "If we want to access the MINOS asymmetric error, we can get them from the FitResult object"
   ]
  },
  {
   "cell_type": "code",
   "execution_count": 12,
   "metadata": {
    "collapsed": false
   },
   "outputs": [
    {
     "name": "stdout",
     "output_type": "stream",
     "text": [
      "Gaussian sigma = 2.08774  + 0.0547402  -0.0544955\n"
     ]
    }
   ],
   "source": [
    "std::cout  << \"Gaussian sigma = \" << res->Parameter(2) << \"  + \" << res->UpperError(2) << \"  \" << res->LowerError(2) << std::endl;"
   ]
  },
  {
   "cell_type": "markdown",
   "metadata": {},
   "source": [
    "### Part 2:  Fit Bias Study\n",
    "\n",
    "We study now the Fit Bias for the sigma parameter. We can look at the difference obtained by using 3 different fit methods: \n",
    "\n",
    "1. Chisquare fit using the observed error (default case in ROOT) \n",
    "2. Chisquare fit using the expected error (option \"P\" - Pearson chi2)\n",
    "3. Binned maximum likelihood fit (option \"L\")"
   ]
  },
  {
   "cell_type": "code",
   "execution_count": 13,
   "metadata": {
    "collapsed": false
   },
   "outputs": [],
   "source": [
    "TH1 * hs = nullptr;"
   ]
  },
  {
   "cell_type": "code",
   "execution_count": 14,
   "metadata": {
    "collapsed": false
   },
   "outputs": [],
   "source": [
    "hs = new TH1D(\"hs\",\"Sigma pull distribution\",50,-5,5);"
   ]
  },
  {
   "cell_type": "markdown",
   "metadata": {},
   "source": [
    "Generate 1000 pseudo-experiments, where for each one of them generate an histogram as above (50 bins, in [-10,10] and fill it with 1000 Gaussian distributed numbers with $\\mu=1$ and $\\sigma=2$. \n",
    "For each pseudo-experiment, fit the histogram and look at the obtained $\\sigma$ value from the fit. \n",
    "Fill the *Sigma pull histogram*, *hs* with $(\\sigma_{FIT} - \\sigma_{TRUE})/\\sigma_{FIT-ERROR}$. \n",
    "\n",
    "$\\sigma_{TRUE} = 2$ in this case and $\\sigma_{FIT-ERROR}$ is the uncertainty obtained from the fit.\n",
    "\n",
    "Do for one of the three cases (Neyman chi2 (default), Likelihood fit (option *L*) or Pearson chi2 (option *P*)"
   ]
  },
  {
   "cell_type": "code",
   "execution_count": 37,
   "metadata": {
    "collapsed": false
   },
   "outputs": [],
   "source": [
    "hs->Reset(); // in case we run a second time\n",
    "for (int iexp = 0; iexp < 1000; ++iexp) { \n",
    "\n",
    "    \n",
    "    \n",
    "}    "
   ]
  },
  {
   "cell_type": "markdown",
   "metadata": {},
   "source": [
    "Fit the obtained Pull distribution with a Gaussian function"
   ]
  },
  {
   "cell_type": "code",
   "execution_count": 38,
   "metadata": {
    "collapsed": false
   },
   "outputs": [
    {
     "data": {
      "image/png": "[encoded data removed]",
      "text/plain": [
       "<IPython.core.display.Image object>"
      ]
     },
     "metadata": {},
     "output_type": "display_data"
    },
    {
     "name": "stdout",
     "output_type": "stream",
     "text": [
      " FCN=32.888 FROM MIGRAD    STATUS=CONVERGED      67 CALLS          68 TOTAL\n",
      "                     EDM=9.71287e-10    STRATEGY= 1      ERROR MATRIX ACCURATE \n",
      "  EXT PARAMETER                                   STEP         FIRST   \n",
      "  NO.   NAME      VALUE            ERROR          SIZE      DERIVATIVE \n",
      "   1  Constant     4.35718e+01   1.87591e+00   4.15121e-03   6.07857e-06\n",
      "   2  Mean         1.40669e+00   5.28813e-02   1.38598e-04  -1.32539e-04\n",
      "   3  Sigma        1.34365e+00   4.37347e-02   2.34254e-05   4.67991e-03\n"
     ]
    }
   ],
   "source": []
  },
  {
   "cell_type": "markdown",
   "metadata": {
    "collapsed": true
   },
   "source": [
    "### Part 3:  Study the chi2 distribution\n",
    "\n",
    "Using the likelihood definition described in the Baker-Cousins paper we can use the likelihood at the minimum as a chi2. We study its distribution using pseudo-experiments.\n",
    "We can compare what we obtain if we use the Baker-Cousins likelihood-value in a likelihood fit or the chi2 obtained when doing a\n",
    "chi2 Fit (Neyman or Pearson chi2). "
   ]
  },
  {
   "cell_type": "code",
   "execution_count": 17,
   "metadata": {
    "collapsed": true
   },
   "outputs": [],
   "source": [
    "TH1 * hchi = nullptr;\n",
    "TF1 * fchi = nullptr; "
   ]
  },
  {
   "cell_type": "code",
   "execution_count": 18,
   "metadata": {
    "collapsed": false
   },
   "outputs": [],
   "source": [
    "hchi = new TH1D(\"hchi\",\"chi-squared distribution\",100,0,100);"
   ]
  },
  {
   "cell_type": "markdown",
   "metadata": {},
   "source": [
    "The Baker-Cousins likelihood-value is obtained from the FitResult class as \n",
    "$2 \\times$ *result->MinFcnValue()*\n",
    "*result->Chi2()* returns instead the Chi2 obtained from the data-function resuduals.\n",
    "\n",
    "Genersate now 10000 pseudo-experiments and for each of them create, fill and fit an histogram as before. \n",
    "But now make an histogram of the chi2 distribution, either using *2 result->MinFcnValue()* if doing a likelihood fit or\n",
    "using *result->Chi2()* in case of a chi2 fit"
   ]
  },
  {
   "cell_type": "code",
   "execution_count": 31,
   "metadata": {
    "collapsed": false
   },
   "outputs": [],
   "source": [
    "hchi->Reset(); // in case we run a second time\n",
    "for (int iexp = 0; iexp < 10000; ++iexp) { \n",
    "  \n",
    "}"
   ]
  },
  {
   "cell_type": "code",
   "execution_count": 32,
   "metadata": {
    "collapsed": false
   },
   "outputs": [
    {
     "data": {
      "image/png": "[encoded data removed]",
      "text/plain": [
       "<IPython.core.display.Image object>"
      ]
     },
     "metadata": {},
     "output_type": "display_data"
    }
   ],
   "source": [
    "hchi->Draw(); gPad->Draw();"
   ]
  },
  {
   "cell_type": "markdown",
   "metadata": {},
   "source": [
    "Fit the obtained chi2 distribution with a chi2 probability density function\n",
    "using as function parameter a constant and the number of degree of freedom of the chi2. "
   ]
  },
  {
   "cell_type": "code",
   "execution_count": null,
   "metadata": {
    "collapsed": true
   },
   "outputs": [],
   "source": [
    "fchi = new TF1(\"fchi\",\"[0]*ROOT::Math::chisquared_pdf(x,[1])\",0,100);\n",
    "fchi->SetParameters(hchi->GetEntries()*hchi->GetBinWidth(1), hchi->GetMean());"
   ]
  },
  {
   "cell_type": "code",
   "execution_count": 33,
   "metadata": {
    "collapsed": false
   },
   "outputs": [
    {
     "name": "stdout",
     "output_type": "stream",
     "text": [
      " FCN=36.7462 FROM MIGRAD    STATUS=CONVERGED      30 CALLS          31 TOTAL\n",
      "                     EDM=8.65428e-09    STRATEGY= 1      ERROR MATRIX ACCURATE \n",
      "  EXT PARAMETER                                   STEP         FIRST   \n",
      "  NO.   NAME      VALUE            ERROR          SIZE      DERIVATIVE \n",
      "   1  p0           9.99914e+03   9.99964e+01   4.21291e-01   1.58918e-09\n",
      "   2  p1           4.76988e+01   9.66641e-02   4.07363e-04   9.62387e-04\n",
      "                               ERR DEF= 0.5\n"
     ]
    }
   ],
   "source": [
    "hchi->Fit(fchi,\"L\");"
   ]
  },
  {
   "cell_type": "code",
   "execution_count": 34,
   "metadata": {
    "collapsed": false
   },
   "outputs": [
    {
     "data": {
      "image/png": "[encoded data removed]",
      "text/plain": [
       "<IPython.core.display.Image object>"
      ]
     },
     "metadata": {},
     "output_type": "display_data"
    }
   ],
   "source": [
    "hchi->Draw(); gPad->Draw();"
   ]
  },
  {
   "cell_type": "markdown",
   "metadata": {},
   "source": [
    "Which of the two obtained quantities (Baker-Cousins lieklihood or Neyman chi2) agree better with a real chi2 distribution ? "
   ]
  }
 ],
 "metadata": {
  "kernelspec": {
   "display_name": "ROOT C++",
   "language": "c++",
   "name": "root"
  },
  "language_info": {
   "codemirror_mode": "text/x-c++src",
   "file_extension": ".C",
   "mimetype": " text/x-c++src",
   "name": "c++"
  }
 },
 "nbformat": 4,
 "nbformat_minor": 0
}
