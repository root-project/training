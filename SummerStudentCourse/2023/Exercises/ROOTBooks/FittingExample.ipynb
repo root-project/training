{
 "cells": [
  {
   "cell_type": "markdown",
   "metadata": {},
   "source": [
    "# Fitting Example"
   ]
  },
  {
   "cell_type": "code",
   "execution_count": 1,
   "metadata": {},
   "outputs": [
    {
     "name": "stdout",
     "output_type": "stream",
     "text": [
      "Welcome to JupyROOT 6.10/06\n"
     ]
    }
   ],
   "source": [
    "import ROOT"
   ]
  },
  {
   "cell_type": "markdown",
   "metadata": {},
   "source": [
    "Inject into the interpreter the functions."
   ]
  },
  {
   "cell_type": "code",
   "execution_count": 2,
   "metadata": {
    "collapsed": true
   },
   "outputs": [],
   "source": [
    "%%cpp -d\n",
    "//Define functions for fitting \n",
    "// Quadratic background function\n",
    "double background(double *x, double *par) {\n",
    "  return par[0] + par[1]*x[0] + par[2]*x[0]*x[0];\n",
    "}\n",
    "\n",
    "// Lorenzian Peak function\n",
    "double lorentzianPeak(double *x, double *par) {\n",
    "  return (0.5*par[0]*par[1]/TMath::Pi()) /\n",
    "    TMath::Max(1.e-10,(x[0]-par[2])*(x[0]-par[2])\n",
    "    + .25*par[1]*par[1]);\n",
    "}\n",
    "\n",
    "// Sum of background and peak function\n",
    "double fitFunction(double *x, double *par) {\n",
    "  return background(x, par) + lorentzianPeak(x, &par[3]);\n",
    "}"
   ]
  },
  {
   "cell_type": "markdown",
   "metadata": {},
   "source": [
    "Construct the histogram containing the input data"
   ]
  },
  {
   "cell_type": "code",
   "execution_count": 3,
   "metadata": {
    "collapsed": true
   },
   "outputs": [],
   "source": [
    "# Your code here"
   ]
  },
  {
   "cell_type": "markdown",
   "metadata": {},
   "source": [
    "Create the function and try to fit it without setting any parameter. Activate the interactive visualisation with ```%jsroot on```. \n",
    "Remember that in order to embed a plot in a notebook, you'll need to create a **TCanvas** and draw it explicitly."
   ]
  },
  {
   "cell_type": "code",
   "execution_count": 1,
   "metadata": {},
   "outputs": [],
   "source": [
    "# Your code here"
   ]
  },
  {
   "cell_type": "markdown",
   "metadata": {},
   "source": [
    "Less than optimal. Set parameters and fit again, draw histogram with error bars"
   ]
  },
  {
   "cell_type": "code",
   "execution_count": 2,
   "metadata": {},
   "outputs": [],
   "source": [
    "# Your code here"
   ]
  },
  {
   "cell_type": "markdown",
   "metadata": {},
   "source": [
    "Much better. Now time to beautify the plot. Construct a TF1 for the background and Lorentzian functions and draw them in the same canvas.\n",
    "We save the fit results and set the parameters of the functions accordingly"
   ]
  },
  {
   "cell_type": "code",
   "execution_count": 3,
   "metadata": {},
   "outputs": [],
   "source": [
    "# Your code here"
   ]
  },
  {
   "cell_type": "markdown",
   "metadata": {},
   "source": [
    "We can now add a legend"
   ]
  },
  {
   "cell_type": "code",
   "execution_count": 4,
   "metadata": {},
   "outputs": [],
   "source": [
    "# Your code here"
   ]
  }
 ],
 "metadata": {
  "kernelspec": {
   "display_name": "Python 2",
   "language": "python",
   "name": "python2"
  },
  "language_info": {
   "codemirror_mode": {
    "name": "ipython",
    "version": 2
   },
   "file_extension": ".py",
   "mimetype": "text/x-python",
   "name": "python",
   "nbconvert_exporter": "python",
   "pygments_lexer": "ipython2",
   "version": "2.7.13"
  }
 },
 "nbformat": 4,
 "nbformat_minor": 2
}
