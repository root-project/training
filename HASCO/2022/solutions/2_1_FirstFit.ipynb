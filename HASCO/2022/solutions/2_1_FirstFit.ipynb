{
 "cells": [
  {
   "cell_type": "code",
   "execution_count": null,
   "id": "dc870257",
   "metadata": {},
   "outputs": [],
   "source": [
    "import ROOT"
   ]
  },
  {
   "cell_type": "code",
   "execution_count": null,
   "id": "dd401ba2",
   "metadata": {},
   "outputs": [],
   "source": [
    "# Preparation of the histogram to fit\n",
    "\n",
    "# Create First an empty histogram with 50 bins with range [-10,10]\n",
    "h1 = ROOT.TH1D(\"h1\", \"h1\", 50, -10, 10)\n",
    "\n",
    "# Fill the histogram with 10000 Gaussian Random number with mean=1 and\n",
    "# sigma=2\n",
    "# Hint: Find the TRandom3 documentation.\n",
    "# Hint 2: If you don't find what you are looking for, check also the TRandom functions on TRandom3's\n",
    "# documentation\n",
    "randomGenerator = ROOT.TRandom3()\n",
    "for i in range(1000):\n",
    "    h1.Fill(randomGenerator.Gaus(1, 2))"
   ]
  },
  {
   "cell_type": "code",
   "execution_count": null,
   "id": "ab481de6",
   "metadata": {},
   "outputs": [],
   "source": [
    "# Before Fitting we need to create the fitting function and set its initial\n",
    "# parameter values.\n",
    "\n",
    "f1 = ROOT.TF1(\"f1\", \"gaus\", -10, 10) # We use new to have this surviving the scope\n",
    "f1.SetParameters(100, 0, 1)\n",
    "\n",
    "# We fit now the histogram using the Fit method in ROOT. By default the\n",
    "# least-square method is used. For likelihood fits we need to use the option\n",
    "# \"L\". The option \"S\" is used to create a TFitResult object that is returned\n",
    "# to the user.\n",
    "\n",
    "res = h1.Fit(f1, \"L S\")\n",
    "\n",
    "res.Print()\n",
    "\n",
    "# We now get the correlation matrix of the fit from the TFitResult class\n",
    "\n",
    "corrMatrix = res.GetCorrelationMatrix()\n",
    "\n",
    "corrMatrix.Print()\n",
    "\n",
    "print(\"Gaussian sigma =\", f1.GetParameter(\"Sigma\"), \"+/-\",\n",
    "                          f1.GetParError(f1.GetParNumber(\"Sigma\")))\n",
    "\n",
    "# Let's now draw the histogram\n",
    "h1.Draw()\n",
    "ROOT.gPad.Draw()"
   ]
  }
 ],
 "metadata": {
  "kernelspec": {
   "display_name": "Python 3 (ipykernel)",
   "language": "python",
   "name": "python3"
  },
  "language_info": {
   "codemirror_mode": {
    "name": "ipython",
    "version": 3
   },
   "file_extension": ".py",
   "mimetype": "text/x-python",
   "name": "python",
   "nbconvert_exporter": "python",
   "pygments_lexer": "ipython3",
   "version": "3.10.5"
  }
 },
 "nbformat": 4,
 "nbformat_minor": 5
}
