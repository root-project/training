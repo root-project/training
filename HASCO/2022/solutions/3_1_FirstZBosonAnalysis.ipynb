{
 "cells": [
  {
   "cell_type": "code",
   "execution_count": null,
   "id": "133d743e",
   "metadata": {},
   "outputs": [],
   "source": [
    "import ROOT"
   ]
  },
  {
   "cell_type": "code",
   "execution_count": null,
   "id": "e176dc28",
   "metadata": {},
   "outputs": [],
   "source": [
    "# define the C++ functions that are used in the analysis\n",
    "\n",
    "ROOT.gInterpreter.Declare(\"\"\"\n",
    "using ROOT::VecOps::RVec;\n",
    "using namespace ROOT::Math;\n",
    "\n",
    "auto makeP4(RVec<Float_t>& pt, RVec<Float_t>& eta, RVec<Float_t>& phi, RVec<Float_t>& mass) {\n",
    "    std::vector<LorentzVector<PtEtaPhiM4D<float> >> out;\n",
    "    for(std::size_t i = 0; i < pt.size(); ++i) {\n",
    "        out.emplace_back(pt[i], eta[i], phi[i], mass[i]);\n",
    "    }\n",
    "    return out;\n",
    "}\n",
    "\"\"\")"
   ]
  },
  {
   "cell_type": "code",
   "execution_count": null,
   "id": "f40db7ba",
   "metadata": {},
   "outputs": [],
   "source": [
    "# open the DoubleElectron dataset and declare the analysis\n",
    "\n",
    "rdf = ROOT.RDataFrame(\"Events\", \"../../rdf-analysis/*_DoubleElectron.root\");\n",
    "\n",
    "rdf = rdf.Range(0, 100000) # comment out to treat full DoubleElectron dataset\n",
    "\n",
    "rdf = rdf.Filter(\"nElectron == 2\")\n",
    "rdf = rdf.Define(\"Electron_p4\", \"makeP4(Electron_pt, Electron_eta, Electron_phi, Electron_mass)\")\n",
    "rdf = rdf.Define(\"Dielectron_mass\", \"(Electron_p4[0] + Electron_p4[1]).mass()\")\n",
    "h = rdf.Histo1D((\"Dielectron_mass\", \"Dielectron mass;m_{ee} (GeV);N_{Events}\", 1000, 0, 200), \"Dielectron_mass\")"
   ]
  },
  {
   "cell_type": "code",
   "execution_count": null,
   "id": "3982b41b",
   "metadata": {},
   "outputs": [],
   "source": [
    "# define the fit function, do the fit in a range around the peak and draw the histogram\n",
    "mass_min = 70\n",
    "mass_max = 110\n",
    "# The range of the TF1 is also used for normalizing the PDFs.\n",
    "# That's why they must be consistent with the fit range, otherwise the result is wrong.\n",
    "model = ROOT.TF1(\"model\", \"NSUM(expo, gaus)\", mass_min, mass_max)\n",
    "\n",
    "n_events = rdf.Count().GetValue()\n",
    "model.SetParameters(n_events * 0.5, n_events * 0.5, -0.02, 90, 30)\n",
    "\n",
    "h.Fit(model, \"\", \"\", mass_min, mass_max)\n",
    "\n",
    "h.Draw(\"E\") # draw with error bars\n",
    "\n",
    "ROOT.gStyle.SetOptFit(1111) # include the fit result in the plot\n",
    "\n",
    "ROOT.gPad.Draw()"
   ]
  }
 ],
 "metadata": {
  "kernelspec": {
   "display_name": "Python 3 (ipykernel)",
   "language": "python",
   "name": "python3"
  },
  "language_info": {
   "codemirror_mode": {
    "name": "ipython",
    "version": 3
   },
   "file_extension": ".py",
   "mimetype": "text/x-python",
   "name": "python",
   "nbconvert_exporter": "python",
   "pygments_lexer": "ipython3",
   "version": "3.10.5"
  }
 },
 "nbformat": 4,
 "nbformat_minor": 5
}
