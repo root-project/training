{
 "cells": [
  {
   "cell_type": "code",
   "execution_count": null,
   "id": "f97af340",
   "metadata": {},
   "outputs": [],
   "source": [
    "import ROOT"
   ]
  },
  {
   "cell_type": "code",
   "execution_count": null,
   "id": "cc6abc6c",
   "metadata": {},
   "outputs": [],
   "source": [
    "# Create the graph on the heap (with 'new') so that it survives the end of the macro\n",
    "g = ROOT.TGraph()\n",
    "\n",
    "# Set the points\n",
    "x = [1, 2, 3]\n",
    "y = [0, 3, 4]\n",
    "for i in range(3):\n",
    "    g.SetPoint(i, x[i], y[i])\n",
    "\n",
    "# Set the style\n",
    "g.SetTitle(\"My graph;my_{X};my_{Y}\")\n",
    "g.SetLineColor(ROOT.kOrange)\n",
    "g.SetLineWidth(2)\n",
    "g.SetMarkerStyle(ROOT.kFullSquare)\n",
    "g.SetMarkerColor(ROOT.kRed)\n",
    "\n",
    "# Draw!\n",
    "g.Draw(\"APL\")\n",
    "ROOT.gPad.Draw()"
   ]
  }
 ],
 "metadata": {
  "kernelspec": {
   "display_name": "Python 3 (ipykernel)",
   "language": "python",
   "name": "python3"
  },
  "language_info": {
   "codemirror_mode": {
    "name": "ipython",
    "version": 3
   },
   "file_extension": ".py",
   "mimetype": "text/x-python",
   "name": "python",
   "nbconvert_exporter": "python",
   "pygments_lexer": "ipython3",
   "version": "3.10.5"
  }
 },
 "nbformat": 4,
 "nbformat_minor": 5
}
