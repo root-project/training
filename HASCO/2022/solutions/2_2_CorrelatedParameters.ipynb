{
 "cells": [
  {
   "cell_type": "code",
   "execution_count": null,
   "id": "b6d18368",
   "metadata": {},
   "outputs": [],
   "source": [
    "import ROOT"
   ]
  },
  {
   "cell_type": "code",
   "execution_count": null,
   "id": "abdc7b94",
   "metadata": {},
   "outputs": [],
   "source": [
    "# Preparation of the histogram to fit\n",
    "\n",
    "# Create First an empty histogram\n",
    "h1 = ROOT.TH1D(\"h1\", \"h1\", 64, 0, 16)"
   ]
  },
  {
   "cell_type": "code",
   "execution_count": null,
   "id": "f7697b8f",
   "metadata": {},
   "outputs": [],
   "source": [
    "# Create the exponential PDF and fill the histogram\n",
    "expo = ROOT.TF1(\"expo\", \"[A] * exp(-([B] + x))\")\n",
    "expo.SetParameter(0, 1) # set initial parameters \n",
    "expo.SetParameter(1, 1)\n",
    "\n",
    "h1.FillRandom(\"expo\", 10000)"
   ]
  },
  {
   "cell_type": "code",
   "execution_count": null,
   "id": "64a00457",
   "metadata": {},
   "outputs": [],
   "source": [
    "# We fit now the histogram using the Fit method in ROOT.\n",
    "# The option \"S\" is used to create a TFitResult object that is returned\n",
    "# to the user.\n",
    "\n",
    "res = h1.Fit(expo, \"S\")\n",
    "\n",
    "res.Print()\n",
    "\n",
    "# We now get the correlation matrix of the fit from the TFitResult class\n",
    "\n",
    "corrMatrix = res.GetCorrelationMatrix()\n",
    "\n",
    "corrMatrix.Print()\n",
    "\n",
    "# Let's now draw the histogram\n",
    "h1.Draw()\n",
    "ROOT.gPad.Draw()"
   ]
  },
  {
   "cell_type": "markdown",
   "id": "df1bdfaa",
   "metadata": {},
   "source": [
    "The parameters A and B are completely correlated, as they have the equivalent effect on the PDF shape: an overall normalization."
   ]
  }
 ],
 "metadata": {
  "kernelspec": {
   "display_name": "Python 3 (ipykernel)",
   "language": "python",
   "name": "python3"
  },
  "language_info": {
   "codemirror_mode": {
    "name": "ipython",
    "version": 3
   },
   "file_extension": ".py",
   "mimetype": "text/x-python",
   "name": "python",
   "nbconvert_exporter": "python",
   "pygments_lexer": "ipython3",
   "version": "3.10.5"
  }
 },
 "nbformat": 4,
 "nbformat_minor": 5
}
