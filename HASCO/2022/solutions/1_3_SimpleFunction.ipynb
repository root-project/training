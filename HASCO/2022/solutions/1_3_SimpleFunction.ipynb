{
 "cells": [
  {
   "cell_type": "code",
   "execution_count": null,
   "id": "f97af340",
   "metadata": {},
   "outputs": [],
   "source": [
    "import ROOT"
   ]
  },
  {
   "cell_type": "code",
   "execution_count": null,
   "id": "cc6abc6c",
   "metadata": {},
   "outputs": [],
   "source": [
    "# Create a function with formula \"cos(x)\" and draw it\n",
    "f1 = ROOT.TF1(\"f1\", \"cos(x)\", 0., 10.)\n",
    "f1.Draw()\n",
    "\n",
    "# Create another function based on \"cos(x)\" with a parameter\n",
    "f2 = ROOT.TF1(\"f2\", \"cos(x/[0])\", 0., 10.)\n",
    "f2.SetParameter(0, 2)\n",
    "f2.SetLineColor(ROOT.kBlue)\n",
    "f2.Draw(\"Same\")\n",
    "ROOT.gPad.Draw()"
   ]
  }
 ],
 "metadata": {
  "kernelspec": {
   "display_name": "Python 3 (ipykernel)",
   "language": "python",
   "name": "python3"
  },
  "language_info": {
   "codemirror_mode": {
    "name": "ipython",
    "version": 3
   },
   "file_extension": ".py",
   "mimetype": "text/x-python",
   "name": "python",
   "nbconvert_exporter": "python",
   "pygments_lexer": "ipython3",
   "version": "3.10.5"
  }
 },
 "nbformat": 4,
 "nbformat_minor": 5
}
