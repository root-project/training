{
 "cells": [
  {
   "cell_type": "code",
   "execution_count": null,
   "id": "b301bf8e",
   "metadata": {},
   "outputs": [],
   "source": [
    "import ROOT"
   ]
  },
  {
   "cell_type": "markdown",
   "id": "cdc633fd",
   "metadata": {},
   "source": [
    "### Exercise 1"
   ]
  },
  {
   "cell_type": "markdown",
   "id": "cf638bcf",
   "metadata": {},
   "source": [
    "1. **Question**: Further improve the plot with the pull distribution by visualizing also the post-fit uncertainty of the model. Figure out how to do this by reading the documentation of [RooAbsPdf::plotOn()](https://root.cern.ch/doc/master/classRooAbsPdf.html#aa0f2f98d89525302a06a1b7f1b0c2aa6)."
   ]
  },
  {
   "cell_type": "markdown",
   "id": "bebf375c",
   "metadata": {},
   "source": [
    "1. **Answer**: this can be done with the `VisualizeError()` option like this:\n",
    "```python\n",
    "model.plotOn(x_frame, Name=\"model\", VisualizeError=fit_result);\n",
    "```\n",
    "Note that the uncertainty is relatively small because we have a large number of events."
   ]
  },
  {
   "cell_type": "markdown",
   "id": "9a261718",
   "metadata": {},
   "source": [
    "### Exercise 2"
   ]
  },
  {
   "cell_type": "markdown",
   "id": "ca779987",
   "metadata": {},
   "source": [
    "2. **Question**: Look at the [rf203_ranges.py RooFit tutorial](https://root.cern/doc/master/rf203__ranges_8py.html) to learn how to restrict the fit to a subrange. Redo the convoluted template fit to the $y$ variable, but restricted to the range from 3 to 7.\n",
    "\n",
    "   Why does the uncertainty of the `resolution` parameter increase, even though we are not excluding that much signal and `resolution` doesn't affect the background?"
   ]
  },
  {
   "cell_type": "markdown",
   "id": "45985504",
   "metadata": {},
   "source": [
    "2. **Answer**: Define a new subrange for $y$ with `y.setRange(\"subrange\", 3, 7)` and call `fitTo` with the `Range=\"subrange\"` keyword argument.\n",
    "\n",
    "The uncertainty on the `resolution` will increase, because also the sidebands with only background help to constrain the signal: they require that the resolution must be small enough for the signal to leak not too much in the sidebands."
   ]
  },
  {
   "cell_type": "markdown",
   "id": "01da889e",
   "metadata": {},
   "source": [
    "### Exercise 3"
   ]
  },
  {
   "cell_type": "markdown",
   "id": "bcbc7394",
   "metadata": {},
   "source": [
    "3. **Question**: Interpret the likelihood plot over `n_sig`. Why is the profile NLL always below the other plotted NLL?"
   ]
  },
  {
   "cell_type": "markdown",
   "id": "5477eda4",
   "metadata": {},
   "source": [
    "3. **Answer**: From the likelihood plot, we can read the best fit parameter value at the minimum and the uncertainties at the points where the NLL is offset by 0.5 from the minimum (see yesterdays statistics lecture on parameter estimation).\n",
    "\n",
    "The red curve with the profile NLL is always lower than the NLL with the nuisance parameters fixed to the best-fit values, because for each value of the parameter of interest (POI), the nuisance parameters are optimized again. That's why the linklihood is always higher, or the negative log-likelihood lower.\n",
    "\n",
    "The uncertainties from the fixed likelihood can be interpreted as statistical uncertainties only, while the uncertainties from the profile liklihood include the systematic uncertainties associated to the unknown nuisance parameters."
   ]
  },
  {
   "cell_type": "markdown",
   "id": "7b8fc976",
   "metadata": {},
   "source": [
    "### Exercise 4"
   ]
  },
  {
   "cell_type": "markdown",
   "id": "eeb0dc1e",
   "metadata": {},
   "source": [
    "4. **Question**: In a fresh notebook, open the `RooWorkspace` we wrote to disk and create new toy data according to the 2D model. Re-fit the model to the new toy dataset."
   ]
  },
  {
   "cell_type": "markdown",
   "id": "a44f61aa",
   "metadata": {},
   "source": [
    "4. **Answer**:"
   ]
  },
  {
   "cell_type": "code",
   "execution_count": null,
   "id": "b3e998ba",
   "metadata": {},
   "outputs": [],
   "source": [
    "file = ROOT.TFile.Open(\"../notebooks/myworkspace.root\", \"READ\")"
   ]
  },
  {
   "cell_type": "code",
   "execution_count": null,
   "id": "71f51bc8",
   "metadata": {},
   "outputs": [],
   "source": [
    "ws = file.Get(\"myworkspace\")"
   ]
  },
  {
   "cell_type": "code",
   "execution_count": null,
   "id": "aef4eb3f",
   "metadata": {},
   "outputs": [],
   "source": [
    "ws.Print()"
   ]
  },
  {
   "cell_type": "code",
   "execution_count": null,
   "id": "0fab2de8",
   "metadata": {},
   "outputs": [],
   "source": [
    "data_xy = ws[\"model_xy\"].generate([ws[\"x\"], ws[\"y\"]])"
   ]
  },
  {
   "cell_type": "code",
   "execution_count": null,
   "id": "997dbdb8",
   "metadata": {},
   "outputs": [],
   "source": [
    "fit_result_xy = ws[\"model_xy\"].fitTo(data_xy, PrintLevel=-1, Save=True)"
   ]
  },
  {
   "cell_type": "code",
   "execution_count": null,
   "id": "be075ae1",
   "metadata": {},
   "outputs": [],
   "source": [
    "fit_result_xy.Print()"
   ]
  },
  {
   "cell_type": "markdown",
   "id": "479315e5",
   "metadata": {},
   "source": [
    "### Exercise 5"
   ]
  },
  {
   "cell_type": "markdown",
   "id": "bbdf730a",
   "metadata": {},
   "source": [
    "5. **Question**: Which parameters are strongly (anti)correlated in the final 2D fit? Can you explain why?"
   ]
  },
  {
   "cell_type": "markdown",
   "id": "0cd9cc20",
   "metadata": {},
   "source": [
    "5. **Answer**: if you print the correlation matrix of the fit result with `fit_result_xy.correlationMatrix().Print()`, you should see this:\n",
    "\n",
    "```txt\n",
    "     |      0    |      1    |      2    |      3    |      4    |      5    \n",
    "-----------------------------------------------------------------------------\n",
    "   0 |          1     0.05982    -0.08723   -0.008045      -0.116     -0.1308\n",
    "   1 |    0.05982           1     -0.3631     -0.1182      -0.254      0.1301\n",
    "   2 |   -0.08723     -0.3631           1      0.1724      0.3704     -0.1896\n",
    "   3 |  -0.008045     -0.1182      0.1724           1     0.07469    -0.06765\n",
    "   4 |     -0.116      -0.254      0.3704     0.07469           1     -0.1167\n",
    "   5 |    -0.1308      0.1301     -0.1896    -0.06765     -0.1167           1\n",
    "```\n",
    "The strongest (anti-)correlations are between parameters 1 and 2, which are `n_sig` and `n_bkg`, and parameters 2 and 4, which are `n_sig` and `sigma`.\n",
    "\n",
    "These correlations make intuitive sense: the sum of `n_sig` and `n_bkg` must be constant to match the total number of observed events, which is why they are anticorrelated. If `n_sig` would be larger, `n_bkg` needs to decrease. The positive correlation between `n_sig` and the signal width for $x$ (`sigma`) is also understandable: if the width of the signal distribution would be larger, the distribution would be less peaked, and it would need to be scaled up to still match the peak in the center."
   ]
  }
 ],
 "metadata": {
  "kernelspec": {
   "display_name": "Python 3 (ipykernel)",
   "language": "python",
   "name": "python3"
  },
  "language_info": {
   "codemirror_mode": {
    "name": "ipython",
    "version": 3
   },
   "file_extension": ".py",
   "mimetype": "text/x-python",
   "name": "python",
   "nbconvert_exporter": "python",
   "pygments_lexer": "ipython3",
   "version": "3.11.3"
  }
 },
 "nbformat": 4,
 "nbformat_minor": 5
}
