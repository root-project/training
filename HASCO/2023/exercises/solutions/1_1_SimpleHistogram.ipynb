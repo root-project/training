{
 "cells": [
  {
   "cell_type": "code",
   "execution_count": null,
   "id": "f97af340",
   "metadata": {},
   "outputs": [],
   "source": [
    "import ROOT"
   ]
  },
  {
   "cell_type": "code",
   "execution_count": null,
   "id": "cc6abc6c",
   "metadata": {},
   "outputs": [],
   "source": [
    "# Create a histogram with 50 bins and an x axis ranging from 0 to 10\n",
    "h = ROOT.TH1D(\"myHisto\", \"Exponential distribution; Observed events;time\", 50, 0, 10)\n",
    "\n",
    "# Fill it with random numbers distributed according to an Exponential distribution\n",
    "# Use the global ROOT TRandom instance for generating random numbers.\n",
    "rate = 0.5\n",
    "for i in range(1000):\n",
    "    h.Fill(ROOT.gRandom.Exp(1./rate))\n",
    "# Note: it's not good to write a loop over many entries in Python, for performance reason.\n",
    "# The preferred way is to create a function object with the right parameters,\n",
    "# and then use TF1::FillRandom():\n",
    "#\n",
    "# f1 = ROOT.TF1(\"f1\", \"[coef]*exp(-x*[rate])\", 0, 10)\n",
    "# f1.SetParameters(1.0, rate)\n",
    "# h.FillRandom(\"f1\", 1000)\n",
    "\n",
    "# Change its line width with a thicker one\n",
    "h.SetLineWidth(3)\n",
    "\n",
    "# Draw!\n",
    "h.Draw()\n",
    "ROOT.gPad.Draw()"
   ]
  }
 ],
 "metadata": {
  "kernelspec": {
   "display_name": "Python 3 (ipykernel)",
   "language": "python",
   "name": "python3"
  },
  "language_info": {
   "codemirror_mode": {
    "name": "ipython",
    "version": 3
   },
   "file_extension": ".py",
   "mimetype": "text/x-python",
   "name": "python",
   "nbconvert_exporter": "python",
   "pygments_lexer": "ipython3",
   "version": "3.10.5"
  }
 },
 "nbformat": 4,
 "nbformat_minor": 5
}
