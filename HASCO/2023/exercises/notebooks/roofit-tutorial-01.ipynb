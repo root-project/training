{
 "cells": [
  {
   "cell_type": "markdown",
   "id": "1abf29ff",
   "metadata": {
    "slideshow": {
     "slide_type": "slide"
    }
   },
   "source": [
    "# RooFit Tutorial: Introduction to Unbinned Likelihood Models\n",
    "\n",
    "Jonas Rembser (CERN), 2023"
   ]
  },
  {
   "cell_type": "markdown",
   "id": "f3d339eb",
   "metadata": {
    "slideshow": {
     "slide_type": "slide"
    }
   },
   "source": [
    "## Setup"
   ]
  },
  {
   "cell_type": "markdown",
   "id": "e41bfd73",
   "metadata": {
    "slideshow": {
     "slide_type": "fragment"
    }
   },
   "source": [
    "Import ROOT and NumPy:"
   ]
  },
  {
   "cell_type": "code",
   "execution_count": null,
   "id": "08efb8bf",
   "metadata": {
    "slideshow": {
     "slide_type": "-"
    }
   },
   "outputs": [],
   "source": [
    "import ROOT\n",
    "import numpy as np"
   ]
  },
  {
   "cell_type": "markdown",
   "id": "0ce79b4b",
   "metadata": {
    "slideshow": {
     "slide_type": "skip"
    }
   },
   "source": [
    "Silence the RooFit logging:"
   ]
  },
  {
   "cell_type": "code",
   "execution_count": null,
   "id": "d477912c",
   "metadata": {
    "slideshow": {
     "slide_type": "skip"
    }
   },
   "outputs": [],
   "source": [
    "ROOT.RooMsgService.instance().setGlobalKillBelow(ROOT.RooFit.FATAL)"
   ]
  },
  {
   "cell_type": "markdown",
   "id": "6b3d2661",
   "metadata": {
    "slideshow": {
     "slide_type": "slide"
    }
   },
   "source": [
    "## The basics"
   ]
  },
  {
   "cell_type": "markdown",
   "id": "9d9847cd",
   "metadata": {
    "slideshow": {
     "slide_type": "-"
    }
   },
   "source": [
    "Mathematical concepts are represented by C++ objects:\n",
    "\n",
    "\n",
    "![roofit_classes.png](roofit_classes.png)"
   ]
  },
  {
   "cell_type": "markdown",
   "id": "ac5fd52d",
   "metadata": {
    "slideshow": {
     "slide_type": "slide"
    }
   },
   "source": [
    "### Creating your first RooFit model"
   ]
  },
  {
   "cell_type": "code",
   "execution_count": null,
   "id": "a46b42d9",
   "metadata": {
    "slideshow": {
     "slide_type": "fragment"
    }
   },
   "outputs": [],
   "source": [
    "import ROOT"
   ]
  },
  {
   "cell_type": "markdown",
   "id": "51da97a8",
   "metadata": {
    "slideshow": {
     "slide_type": "-"
    }
   },
   "source": [
    "Observable:"
   ]
  },
  {
   "cell_type": "code",
   "execution_count": null,
   "id": "42086510",
   "metadata": {},
   "outputs": [],
   "source": [
    "x = ROOT.RooRealVar(\"x\", \"x\", 0, 0, 10)"
   ]
  },
  {
   "cell_type": "markdown",
   "id": "eb1bd8e8",
   "metadata": {
    "slideshow": {
     "slide_type": "fragment"
    }
   },
   "source": [
    "Parameters:"
   ]
  },
  {
   "cell_type": "code",
   "execution_count": null,
   "id": "393f6cd0",
   "metadata": {},
   "outputs": [],
   "source": [
    "mean = ROOT.RooRealVar(\"mean\", \"mean of gaussian\", 5, 0, 10)\n",
    "sigma = ROOT.RooRealVar(\"sigma\", \"width of gaussian\", 1, 0.1, 10)"
   ]
  },
  {
   "cell_type": "markdown",
   "id": "b0b507fa",
   "metadata": {
    "slideshow": {
     "slide_type": "fragment"
    }
   },
   "source": [
    "Gaussian PDF:"
   ]
  },
  {
   "cell_type": "code",
   "execution_count": null,
   "id": "1857092f",
   "metadata": {},
   "outputs": [],
   "source": [
    "gauss = ROOT.RooGaussian(\"gauss\", \"gaussian PDF\", x, mean, sigma)"
   ]
  },
  {
   "cell_type": "markdown",
   "id": "c88520df",
   "metadata": {
    "slideshow": {
     "slide_type": "slide"
    }
   },
   "source": [
    "PDF inspection:"
   ]
  },
  {
   "cell_type": "code",
   "execution_count": null,
   "id": "03807768",
   "metadata": {
    "slideshow": {
     "slide_type": "-"
    }
   },
   "outputs": [],
   "source": [
    "gauss.Print(\"t\")"
   ]
  },
  {
   "cell_type": "markdown",
   "id": "87b63284",
   "metadata": {
    "slideshow": {
     "slide_type": "slide"
    }
   },
   "source": [
    "### Toy dataset generation and fitting"
   ]
  },
  {
   "cell_type": "markdown",
   "id": "e03de1f1",
   "metadata": {
    "slideshow": {
     "slide_type": "fragment"
    }
   },
   "source": [
    "Generate a toy dataset with 9000 entries sampled from the Gaussian PDF:"
   ]
  },
  {
   "cell_type": "code",
   "execution_count": null,
   "id": "a653e5c1",
   "metadata": {
    "slideshow": {
     "slide_type": "-"
    }
   },
   "outputs": [],
   "source": [
    "data = gauss.generate({x}, 9000)"
   ]
  },
  {
   "cell_type": "code",
   "execution_count": null,
   "id": "774624d9",
   "metadata": {
    "slideshow": {
     "slide_type": "fragment"
    }
   },
   "outputs": [],
   "source": [
    "data.Print()"
   ]
  },
  {
   "cell_type": "markdown",
   "id": "61c336c7",
   "metadata": {
    "slideshow": {
     "slide_type": "slide"
    }
   },
   "source": [
    "Fit the PDF to the toy data, saving the fit result:"
   ]
  },
  {
   "cell_type": "code",
   "execution_count": null,
   "id": "62c0ad9c",
   "metadata": {
    "slideshow": {
     "slide_type": "-"
    }
   },
   "outputs": [],
   "source": [
    "fit_result = gauss.fitTo(data, PrintLevel=-1, Save=True)"
   ]
  },
  {
   "cell_type": "code",
   "execution_count": null,
   "id": "6f6dd356",
   "metadata": {
    "slideshow": {
     "slide_type": "fragment"
    }
   },
   "outputs": [],
   "source": [
    "fit_result.Print()"
   ]
  },
  {
   "cell_type": "markdown",
   "id": "eabd42b9",
   "metadata": {
    "slideshow": {
     "slide_type": "fragment"
    }
   },
   "source": [
    "Inspect the correlation of your model parameters:"
   ]
  },
  {
   "cell_type": "code",
   "execution_count": null,
   "id": "bc50ad92",
   "metadata": {},
   "outputs": [],
   "source": [
    "fit_result.correlationMatrix().Print()"
   ]
  },
  {
   "cell_type": "markdown",
   "id": "7ef30dfd",
   "metadata": {
    "slideshow": {
     "slide_type": "slide"
    }
   },
   "source": [
    "## Plotting the data and the model"
   ]
  },
  {
   "cell_type": "markdown",
   "id": "591a4acb",
   "metadata": {
    "slideshow": {
     "slide_type": "fragment"
    }
   },
   "source": [
    "Create a `RooPlot` object on which the data and PDF is plotted:"
   ]
  },
  {
   "cell_type": "code",
   "execution_count": null,
   "id": "2f121004",
   "metadata": {
    "slideshow": {
     "slide_type": "-"
    }
   },
   "outputs": [],
   "source": [
    "x_frame = x.frame(Title=\"Gaussian PDF with data\")"
   ]
  },
  {
   "cell_type": "code",
   "execution_count": null,
   "id": "a5b929dc",
   "metadata": {
    "slideshow": {
     "slide_type": "fragment"
    }
   },
   "outputs": [],
   "source": [
    "data.plotOn(x_frame)\n",
    "gauss.plotOn(x_frame);"
   ]
  },
  {
   "cell_type": "markdown",
   "id": "15da3a82",
   "metadata": {
    "slideshow": {
     "slide_type": "fragment"
    }
   },
   "source": [
    "Draw the RooPlot on a `TCanvas`:"
   ]
  },
  {
   "cell_type": "code",
   "execution_count": null,
   "id": "8e653537",
   "metadata": {
    "slideshow": {
     "slide_type": "-"
    }
   },
   "outputs": [],
   "source": [
    "c1 = ROOT.TCanvas(\"c1\", \"c1\", 500, 300)\n",
    "x_frame.Draw()\n",
    "c1.Draw()"
   ]
  },
  {
   "cell_type": "markdown",
   "id": "cfa980ad",
   "metadata": {
    "slideshow": {
     "slide_type": "slide"
    }
   },
   "source": [
    "### Importing RooFit datasets from a ROOT file"
   ]
  },
  {
   "cell_type": "markdown",
   "id": "5ecdce0a",
   "metadata": {
    "slideshow": {
     "slide_type": "skip"
    }
   },
   "source": [
    "Export the dataset to a ROOT file so we can show how to import it:"
   ]
  },
  {
   "cell_type": "code",
   "execution_count": null,
   "id": "a8d42d29",
   "metadata": {
    "slideshow": {
     "slide_type": "skip"
    }
   },
   "outputs": [],
   "source": [
    "data.convertToTreeStore()\n",
    "\n",
    "output_file = ROOT.TFile(\"dataset.root\", \"RECREATE\")\n",
    "data.store().tree().SetName(\"mytree\")\n",
    "data.store().tree().SetTitle(\"My measured data\")\n",
    "data.store().tree().Write()\n",
    "output_file.Close()\n",
    "\n",
    "data.convertToVectorStore()"
   ]
  },
  {
   "cell_type": "markdown",
   "id": "c9710583",
   "metadata": {
    "slideshow": {
     "slide_type": "fragment"
    }
   },
   "source": [
    "ROOT file with a TTree that stores the data you want to fit:"
   ]
  },
  {
   "cell_type": "code",
   "execution_count": null,
   "id": "61adef68",
   "metadata": {},
   "outputs": [],
   "source": [
    "input_file = ROOT.TFile(\"dataset.root\", \"READ\") # file contains a TTree called \"mytree\""
   ]
  },
  {
   "cell_type": "markdown",
   "id": "b4c1b5d5",
   "metadata": {
    "slideshow": {
     "slide_type": "fragment"
    }
   },
   "source": [
    "Import to `RooDataSet` using the constructor that takes a TTree:"
   ]
  },
  {
   "cell_type": "code",
   "execution_count": null,
   "id": "1b399ef2",
   "metadata": {
    "slideshow": {
     "slide_type": "-"
    }
   },
   "outputs": [],
   "source": [
    "dataset = ROOT.RooDataSet(\"dataset\", \"dataset\", input_file.mytree, {x})"
   ]
  },
  {
   "cell_type": "markdown",
   "id": "ab861434",
   "metadata": {
    "slideshow": {
     "slide_type": "fragment"
    }
   },
   "source": [
    "Don't forget to close the file:"
   ]
  },
  {
   "cell_type": "code",
   "execution_count": null,
   "id": "89c61a57",
   "metadata": {},
   "outputs": [],
   "source": [
    "input_file.Close()"
   ]
  },
  {
   "cell_type": "markdown",
   "id": "ac42b349",
   "metadata": {
    "slideshow": {
     "slide_type": "fragment"
    }
   },
   "source": [
    "You will see again the dataset with the observable `x`:"
   ]
  },
  {
   "cell_type": "code",
   "execution_count": null,
   "id": "3cde00d6",
   "metadata": {},
   "outputs": [],
   "source": [
    "dataset.Print()"
   ]
  },
  {
   "cell_type": "markdown",
   "id": "a0dd7bc4",
   "metadata": {
    "slideshow": {
     "slide_type": "slide"
    }
   },
   "source": [
    "### Exporting your RooFit datasets"
   ]
  },
  {
   "cell_type": "markdown",
   "id": "fdce5f23",
   "metadata": {
    "slideshow": {
     "slide_type": "fragment"
    }
   },
   "source": [
    "You can export a RooDataSet to NumPy or Pandas:"
   ]
  },
  {
   "cell_type": "code",
   "execution_count": null,
   "id": "c6b19de2",
   "metadata": {
    "slideshow": {
     "slide_type": "-"
    }
   },
   "outputs": [],
   "source": [
    "df = data.to_pandas()"
   ]
  },
  {
   "cell_type": "code",
   "execution_count": null,
   "id": "2ae95197",
   "metadata": {
    "slideshow": {
     "slide_type": "fragment"
    }
   },
   "outputs": [],
   "source": [
    "df"
   ]
  },
  {
   "cell_type": "markdown",
   "id": "a4aa71ca",
   "metadata": {
    "slideshow": {
     "slide_type": "slide"
    }
   },
   "source": [
    "## Composite PDFs"
   ]
  },
  {
   "cell_type": "markdown",
   "id": "d71367fc",
   "metadata": {},
   "source": [
    "Composite PDF: model with mutiple components, like signal and background."
   ]
  },
  {
   "cell_type": "markdown",
   "id": "a4c14e51",
   "metadata": {
    "slideshow": {
     "slide_type": "fragment"
    }
   },
   "source": [
    "Adding random \"background\" values sampled from exponential PDF to the dataset. We use NumPy for that to showcase how NumPy arrays can be imported to `RooDataSet`:"
   ]
  },
  {
   "cell_type": "code",
   "execution_count": null,
   "id": "d65ccea0",
   "metadata": {
    "slideshow": {
     "slide_type": "-"
    }
   },
   "outputs": [],
   "source": [
    "exp_tau = -0.18\n",
    "arr_new = np.concatenate([data.to_numpy()[\"x\"],\n",
    "                          np.random.exponential(-1./exp_tau, size=4* data.numEntries())])"
   ]
  },
  {
   "cell_type": "markdown",
   "id": "c0a80ea4",
   "metadata": {
    "slideshow": {
     "slide_type": "fragment"
    }
   },
   "source": [
    "Import the new array back to a RooDataSet:"
   ]
  },
  {
   "cell_type": "code",
   "execution_count": null,
   "id": "8ff1789d",
   "metadata": {
    "slideshow": {
     "slide_type": "-"
    }
   },
   "outputs": [],
   "source": [
    "data_x = ROOT.RooDataSet.from_numpy({\"x\" : arr_new[arr_new < x.getMax()]}, {x}, name=\"data_new\")"
   ]
  },
  {
   "cell_type": "code",
   "execution_count": null,
   "id": "950f047f",
   "metadata": {
    "slideshow": {
     "slide_type": "fragment"
    }
   },
   "outputs": [],
   "source": [
    "data_x.Print()"
   ]
  },
  {
   "cell_type": "markdown",
   "id": "4b70d5d5",
   "metadata": {
    "slideshow": {
     "slide_type": "slide"
    }
   },
   "source": [
    "Visualize the dataset:"
   ]
  },
  {
   "cell_type": "code",
   "execution_count": null,
   "id": "57dfc72f",
   "metadata": {
    "slideshow": {
     "slide_type": "-"
    }
   },
   "outputs": [],
   "source": [
    "x_frame = x.frame(Title=\"Plotting Gaussian plus exp. background\")\n",
    "data_x.plotOn(x_frame)\n",
    "\n",
    "c2 = ROOT.TCanvas()\n",
    "x_frame.Draw()\n",
    "c2.Draw()"
   ]
  },
  {
   "cell_type": "markdown",
   "id": "546770b7",
   "metadata": {
    "slideshow": {
     "slide_type": "slide"
    }
   },
   "source": [
    "### Creating the composite fit model"
   ]
  },
  {
   "cell_type": "markdown",
   "id": "05579001",
   "metadata": {
    "slideshow": {
     "slide_type": "fragment"
    }
   },
   "source": [
    "Create exponential PDF with parameter \"tau\":"
   ]
  },
  {
   "cell_type": "code",
   "execution_count": null,
   "id": "2cfcc2a8",
   "metadata": {
    "slideshow": {
     "slide_type": "-"
    }
   },
   "outputs": [],
   "source": [
    "tau = ROOT.RooRealVar(\"tau\", \"tau\", -0.2, -10.0, -0.01)\n",
    "expo = ROOT.RooExponential(\"expo\", \"expo\", x, tau)"
   ]
  },
  {
   "cell_type": "markdown",
   "id": "4bc4ab2e",
   "metadata": {
    "slideshow": {
     "slide_type": "fragment"
    }
   },
   "source": [
    "Define parameters for the number of signal and background events:"
   ]
  },
  {
   "cell_type": "code",
   "execution_count": null,
   "id": "4cc2e2ad",
   "metadata": {
    "slideshow": {
     "slide_type": "-"
    }
   },
   "outputs": [],
   "source": [
    "n_sig = ROOT.RooRealVar(\"n_sig\", \"n_sig\", 10000, 1000, 100000)\n",
    "n_bkg = ROOT.RooRealVar(\"n_bkg\", \"n_bkg\", 50000, 5000, 500000)"
   ]
  },
  {
   "cell_type": "markdown",
   "id": "267330d1",
   "metadata": {
    "slideshow": {
     "slide_type": "fragment"
    }
   },
   "source": [
    "Composite model that automatically includes a Poisson term for the total number of events:"
   ]
  },
  {
   "cell_type": "code",
   "execution_count": null,
   "id": "3c56a310",
   "metadata": {
    "slideshow": {
     "slide_type": "-"
    }
   },
   "outputs": [],
   "source": [
    "model = ROOT.RooAddPdf(\"model\", \"model\", [gauss, expo], [n_sig, n_bkg])"
   ]
  },
  {
   "cell_type": "markdown",
   "id": "dd8e94d7",
   "metadata": {
    "slideshow": {
     "slide_type": "slide"
    }
   },
   "source": [
    "Do the fit:"
   ]
  },
  {
   "cell_type": "code",
   "execution_count": null,
   "id": "e8e5e178",
   "metadata": {
    "slideshow": {
     "slide_type": "-"
    }
   },
   "outputs": [],
   "source": [
    "fit_result = model.fitTo(data_x, PrintLevel=-1, Save=True)\n",
    "fit_result.Print()"
   ]
  },
  {
   "cell_type": "markdown",
   "id": "28139c6c",
   "metadata": {
    "slideshow": {
     "slide_type": "slide"
    }
   },
   "source": [
    "## Creating a nice plot"
   ]
  },
  {
   "cell_type": "markdown",
   "id": "94e7c1a6",
   "metadata": {
    "slideshow": {
     "slide_type": "fragment"
    }
   },
   "source": [
    "Create RooPlot and draw data, PDF, and components:"
   ]
  },
  {
   "cell_type": "code",
   "execution_count": null,
   "id": "c15ba330",
   "metadata": {
    "slideshow": {
     "slide_type": "-"
    }
   },
   "outputs": [],
   "source": [
    "x_frame = x.frame(Title=\"Gaussian plus exp. background\")\n",
    "\n",
    "data_x.plotOn(x_frame, Name=\"data\")\n",
    "\n",
    "model.plotOn(x_frame, Components=gauss, LineColor=\"r\", LineStyle=\"--\", Name=\"gauss\")\n",
    "model.plotOn(x_frame, Components=expo, LineColor=\"k\", LineStyle=\"--\", Name=\"expo\")\n",
    "model.plotOn(x_frame, Name=\"model\");"
   ]
  },
  {
   "cell_type": "markdown",
   "id": "c884c1e6",
   "metadata": {
    "slideshow": {
     "slide_type": "fragment"
    }
   },
   "source": [
    "Add a legend:"
   ]
  },
  {
   "cell_type": "code",
   "execution_count": null,
   "id": "c04a0f05",
   "metadata": {},
   "outputs": [],
   "source": [
    "legend = ROOT.TLegend(0.7, 0.55, 0.92, 0.87)\n",
    "legend.SetBorderSize(0)\n",
    "legend.SetFillStyle(0)\n",
    "legend.AddEntry(x_frame.findObject(\"data\"), \"data\", \"P\")\n",
    "\n",
    "for name in [\"model\", \"gauss\", \"expo\"]:\n",
    "    legend.AddEntry(x_frame.findObject(name), name, \"L\")"
   ]
  },
  {
   "cell_type": "markdown",
   "id": "cbba30e0",
   "metadata": {
    "slideshow": {
     "slide_type": "slide"
    }
   },
   "source": [
    "Create a second frame with the residuals:"
   ]
  },
  {
   "cell_type": "code",
   "execution_count": null,
   "id": "16bfc73c",
   "metadata": {
    "slideshow": {
     "slide_type": "-"
    }
   },
   "outputs": [],
   "source": [
    "resid_hist = x_frame.residHist()\n",
    "\n",
    "resid_frame = x.frame(Title=\";x;residuals\")\n",
    "resid_frame.addPlotable(resid_hist, \"P\")"
   ]
  },
  {
   "cell_type": "markdown",
   "id": "c2c563cd",
   "metadata": {
    "slideshow": {
     "slide_type": "slide"
    }
   },
   "source": [
    "Create a canvas that is divided into two drawing pads:"
   ]
  },
  {
   "cell_type": "code",
   "execution_count": null,
   "id": "6d7bc819",
   "metadata": {
    "slideshow": {
     "slide_type": "-"
    }
   },
   "outputs": [],
   "source": [
    "c3 = ROOT.TCanvas(\"c3\", \"c3\", 600, 600)\n",
    "c3.Divide(1, 2)"
   ]
  },
  {
   "cell_type": "markdown",
   "id": "a64b11cb",
   "metadata": {
    "slideshow": {
     "slide_type": "fragment"
    }
   },
   "source": [
    "First pad is for the main plot and the legend:"
   ]
  },
  {
   "cell_type": "code",
   "execution_count": null,
   "id": "e66671bd",
   "metadata": {},
   "outputs": [],
   "source": [
    "pad_1 = c3.cd(1)\n",
    "x_frame.Draw()\n",
    "legend.Draw()\n",
    "pad_1.SetPad(0.0, 0.2, 1, 1)"
   ]
  },
  {
   "cell_type": "markdown",
   "id": "ccc85d3b",
   "metadata": {
    "slideshow": {
     "slide_type": "fragment"
    }
   },
   "source": [
    "Second pad is for the residuals:"
   ]
  },
  {
   "cell_type": "code",
   "execution_count": null,
   "id": "9de06c13",
   "metadata": {
    "slideshow": {
     "slide_type": "fragment"
    }
   },
   "outputs": [],
   "source": [
    "pad_2 = c3.cd(2)\n",
    "pad_2.SetPad(0., 0.0, 1, 0.25)\n",
    "resid_frame.Draw()\n",
    "resid_frame.GetXaxis().SetLabelSize(0.12)\n",
    "resid_frame.GetYaxis().SetLabelSize(0.12)\n",
    "resid_frame.GetYaxis().SetTitleSize(0.12)\n",
    "resid_frame.GetYaxis().SetTitleOffset(0.25)"
   ]
  },
  {
   "cell_type": "markdown",
   "id": "c71b41cd",
   "metadata": {
    "slideshow": {
     "slide_type": "slide"
    }
   },
   "source": [
    "Draw the canvas:"
   ]
  },
  {
   "cell_type": "code",
   "execution_count": null,
   "id": "d6542c19",
   "metadata": {
    "slideshow": {
     "slide_type": "-"
    }
   },
   "outputs": [],
   "source": [
    "c3.Draw()"
   ]
  },
  {
   "cell_type": "markdown",
   "id": "62904a81",
   "metadata": {
    "slideshow": {
     "slide_type": "slide"
    }
   },
   "source": [
    "## Template fits with convolutions"
   ]
  },
  {
   "cell_type": "markdown",
   "id": "9aefef79",
   "metadata": {},
   "source": [
    "A **template** PDF is based on *histogram shape*, and not expressed by an analytical function."
   ]
  },
  {
   "cell_type": "markdown",
   "id": "092a720e",
   "metadata": {
    "slideshow": {
     "slide_type": "fragment"
    }
   },
   "source": [
    "Imagine you have a histogram giving the expected signal shape:"
   ]
  },
  {
   "cell_type": "code",
   "execution_count": null,
   "id": "f3aa45bd",
   "metadata": {
    "slideshow": {
     "slide_type": "-"
    }
   },
   "outputs": [],
   "source": [
    "template_hist = ROOT.TH1D(\"h1\", \"h1\", 100, 0, 10)\n",
    "f1 = ROOT.TF1(\"f1\", \"std::exp(-std::abs((x-5)))\", 0, 10)\n",
    "template_hist.FillRandom(\"f1\", 100000)"
   ]
  },
  {
   "cell_type": "code",
   "execution_count": null,
   "id": "240f981f",
   "metadata": {
    "slideshow": {
     "slide_type": "fragment"
    }
   },
   "outputs": [],
   "source": [
    "c4 = ROOT.TCanvas(\"c4\", \"c4\", 600, 400)\n",
    "template_hist.Draw()\n",
    "c4.Draw()"
   ]
  },
  {
   "cell_type": "markdown",
   "id": "18cebe81",
   "metadata": {
    "slideshow": {
     "slide_type": "slide"
    }
   },
   "source": [
    "Getting the template PDF into RooFit:"
   ]
  },
  {
   "cell_type": "markdown",
   "id": "19c06da9",
   "metadata": {
    "slideshow": {
     "slide_type": "fragment"
    }
   },
   "source": [
    "1. Create a corresponding observable:"
   ]
  },
  {
   "cell_type": "code",
   "execution_count": null,
   "id": "46be1876",
   "metadata": {},
   "outputs": [],
   "source": [
    "y = ROOT.RooRealVar(\"y\", \"y\", 0, 0, 10)"
   ]
  },
  {
   "cell_type": "markdown",
   "id": "d79b6b28",
   "metadata": {
    "slideshow": {
     "slide_type": "fragment"
    }
   },
   "source": [
    "2. Convert the `TH1` into a `RooDataHist`:"
   ]
  },
  {
   "cell_type": "code",
   "execution_count": null,
   "id": "06368090",
   "metadata": {},
   "outputs": [],
   "source": [
    "roo_template_hist = ROOT.RooDataHist(\"roo_template_hist\", \"roo_template_hist\", y, template_hist)"
   ]
  },
  {
   "cell_type": "markdown",
   "id": "4d75b238",
   "metadata": {
    "slideshow": {
     "slide_type": "fragment"
    }
   },
   "source": [
    "3. Create a `RooHistPdf` based of the RooFit histogram:"
   ]
  },
  {
   "cell_type": "code",
   "execution_count": null,
   "id": "6e2a1628",
   "metadata": {},
   "outputs": [],
   "source": [
    "sig_raw_y = ROOT.RooHistPdf(\"sig__raw_y\", \"sig_raw_y\", y, roo_template_hist)"
   ]
  },
  {
   "cell_type": "markdown",
   "id": "1e7d8534",
   "metadata": {
    "slideshow": {
     "slide_type": "slide"
    }
   },
   "source": [
    "### Creating a full composite model"
   ]
  },
  {
   "cell_type": "markdown",
   "id": "38826307",
   "metadata": {
    "slideshow": {
     "slide_type": "fragment"
    }
   },
   "source": [
    "Construct a `RooGaussian` to model detector resolution effects:"
   ]
  },
  {
   "cell_type": "code",
   "execution_count": null,
   "id": "3b5684f9",
   "metadata": {},
   "outputs": [],
   "source": [
    "resolution = ROOT.RooRealVar(\"resolution\", \"resolution\", 0.2, 0.1, 1.0)\n",
    "sig_smearing_y = ROOT.RooGaussian(\"sig_smearing_y\", \"sig_smearing_y\", y, ROOT.RooFit.RooConst(0.0), resolution)"
   ]
  },
  {
   "cell_type": "markdown",
   "id": "284ee8f4",
   "metadata": {
    "slideshow": {
     "slide_type": "fragment"
    }
   },
   "source": [
    "The signal PDF is a convolution of the template and the resolution function:"
   ]
  },
  {
   "cell_type": "code",
   "execution_count": null,
   "id": "7ed6ec8f",
   "metadata": {},
   "outputs": [],
   "source": [
    "sig_y = ROOT.RooFFTConvPdf(\"sig_y\", \"sig_y\", y, sig_raw_y, sig_smearing_y)"
   ]
  },
  {
   "cell_type": "markdown",
   "id": "713343bb",
   "metadata": {
    "slideshow": {
     "slide_type": "fragment"
    }
   },
   "source": [
    "For the background, we use a Chebychev polynomial:"
   ]
  },
  {
   "cell_type": "code",
   "execution_count": null,
   "id": "f4046b28",
   "metadata": {
    "slideshow": {
     "slide_type": "-"
    }
   },
   "outputs": [],
   "source": [
    "bkg_y = ROOT.RooChebychev(\"bkg_y\", \"bkg_y\", y, [-0.5, 0.1])"
   ]
  },
  {
   "cell_type": "markdown",
   "id": "0feca5fc",
   "metadata": {
    "slideshow": {
     "slide_type": "fragment"
    }
   },
   "source": [
    "Finally, create **RooAddPdf** for the composite model:"
   ]
  },
  {
   "cell_type": "code",
   "execution_count": null,
   "id": "f0632977",
   "metadata": {},
   "outputs": [],
   "source": [
    "model_y = ROOT.RooAddPdf(\"model_y\", \"model_x\", [sig_y, bkg_y], [n_sig, n_bkg])"
   ]
  },
  {
   "cell_type": "markdown",
   "id": "afaa4d5d",
   "metadata": {
    "slideshow": {
     "slide_type": "slide"
    }
   },
   "source": [
    "Creating toy dataset and fitting"
   ]
  },
  {
   "cell_type": "code",
   "execution_count": null,
   "id": "10f60bfa",
   "metadata": {
    "slideshow": {
     "slide_type": "fragment"
    }
   },
   "outputs": [],
   "source": [
    "data_y = model_y.generate(y)"
   ]
  },
  {
   "cell_type": "code",
   "execution_count": null,
   "id": "74189b9e",
   "metadata": {
    "slideshow": {
     "slide_type": "fragment"
    }
   },
   "outputs": [],
   "source": [
    "fit_result = model_y.fitTo(data_y, PrintLevel=-1, Save=True)\n",
    "fit_result.Print()"
   ]
  },
  {
   "cell_type": "markdown",
   "id": "87a94b94",
   "metadata": {
    "slideshow": {
     "slide_type": "slide"
    }
   },
   "source": [
    "Plotting the model and the toy dataset"
   ]
  },
  {
   "cell_type": "code",
   "execution_count": null,
   "id": "e2922b0d",
   "metadata": {
    "slideshow": {
     "slide_type": "fragment"
    }
   },
   "outputs": [],
   "source": [
    "y_frame = y.frame(Title=\"Model for y\")\n",
    "\n",
    "data_y.plotOn(y_frame)\n",
    "model_y.plotOn(y_frame)\n",
    "\n",
    "c5 = ROOT.TCanvas()\n",
    "y_frame.Draw()\n",
    "c5.Draw()"
   ]
  },
  {
   "cell_type": "markdown",
   "id": "81d4ca27",
   "metadata": {
    "slideshow": {
     "slide_type": "slide"
    }
   },
   "source": [
    "### Overview of other PDF types"
   ]
  },
  {
   "cell_type": "markdown",
   "id": "d1fb099b",
   "metadata": {},
   "source": [
    "RooFit provides a collection of standard PDF classes, e.g.:\n",
    "\n",
    "![roofit_pdfs.png](roofit_pdfs.png)\n",
    "\n",
    "Easy to **extend the library**: each pdf is a separate C++ class"
   ]
  },
  {
   "cell_type": "markdown",
   "id": "a6c7b4c3",
   "metadata": {
    "slideshow": {
     "slide_type": "slide"
    }
   },
   "source": [
    "## Multivariate fit\n",
    "\n",
    "We have now modeled two observables:\n",
    "* `x` with Gaussian signal and exponential background\n",
    "* `y` with smeared template signal and Chebychev background"
   ]
  },
  {
   "cell_type": "markdown",
   "id": "f59eb873",
   "metadata": {
    "slideshow": {
     "slide_type": "fragment"
    }
   },
   "source": [
    "Create 2D model $p(x,y) = p(x) p(y)$ for signal and background"
   ]
  },
  {
   "cell_type": "code",
   "execution_count": null,
   "id": "2f57aa3b",
   "metadata": {},
   "outputs": [],
   "source": [
    "model_sig_xy = ROOT.RooProdPdf(\"model_sig_xy\", \"model_sig_xy\", [gauss, sig_y])\n",
    "model_bkg_xy = ROOT.RooProdPdf(\"model_bkg_xy\", \"model_bkg_xy\", [expo, bkg_y])"
   ]
  },
  {
   "cell_type": "markdown",
   "id": "08b8ed24",
   "metadata": {
    "slideshow": {
     "slide_type": "fragment"
    }
   },
   "source": [
    "Yet again, a RooAddPdf for the final model"
   ]
  },
  {
   "cell_type": "code",
   "execution_count": null,
   "id": "62c1cff7",
   "metadata": {},
   "outputs": [],
   "source": [
    "model_xy = ROOT.RooAddPdf(\"model_xy\", \"model_xy\", [model_sig_xy, model_bkg_xy], [n_sig, n_bkg])"
   ]
  },
  {
   "cell_type": "markdown",
   "id": "423b130a",
   "metadata": {
    "slideshow": {
     "slide_type": "slide"
    }
   },
   "source": [
    "Generating a 2D toy dataset"
   ]
  },
  {
   "cell_type": "code",
   "execution_count": null,
   "id": "f8262708",
   "metadata": {},
   "outputs": [],
   "source": [
    "data_xy = model_xy.generate({x, y}, 10000)"
   ]
  },
  {
   "cell_type": "markdown",
   "id": "ddcc5672",
   "metadata": {
    "slideshow": {
     "slide_type": "fragment"
    }
   },
   "source": [
    "Visualize the 2D data in a LEGO plot"
   ]
  },
  {
   "cell_type": "code",
   "execution_count": null,
   "id": "d7be2dec",
   "metadata": {},
   "outputs": [],
   "source": [
    "histo_xy = data_xy.createHistogram(\"histo_xy\", x, Binning=25, YVar=dict(var=data_xy.get()[\"y\"], Binning=15))\n",
    "histo_xy.SetTitle(\"\")\n",
    "\n",
    "c6 = ROOT.TCanvas()\n",
    "histo_xy.Draw(\"LEGO2\")\n",
    "c6.Draw()"
   ]
  },
  {
   "cell_type": "markdown",
   "id": "aa70d3ac",
   "metadata": {
    "slideshow": {
     "slide_type": "slide"
    }
   },
   "source": [
    "Fitting the 2D model"
   ]
  },
  {
   "cell_type": "markdown",
   "id": "739b6e53",
   "metadata": {
    "slideshow": {
     "slide_type": "fragment"
    }
   },
   "source": [
    "By now you know how it works:"
   ]
  },
  {
   "cell_type": "code",
   "execution_count": null,
   "id": "8d025a28",
   "metadata": {},
   "outputs": [],
   "source": [
    "fit_result_xy = model_xy.fitTo(data_xy, PrintLevel=-1, Save=True)"
   ]
  },
  {
   "cell_type": "markdown",
   "id": "69118a43",
   "metadata": {
    "slideshow": {
     "slide_type": "fragment"
    }
   },
   "source": [
    "Fit result has all parameters we saw before:"
   ]
  },
  {
   "cell_type": "code",
   "execution_count": null,
   "id": "f434b243",
   "metadata": {
    "slideshow": {
     "slide_type": "-"
    }
   },
   "outputs": [],
   "source": [
    "fit_result_xy.Print()"
   ]
  },
  {
   "cell_type": "markdown",
   "id": "4a82feb2",
   "metadata": {
    "slideshow": {
     "slide_type": "slide"
    }
   },
   "source": [
    "### Final visualization of 2D model and data"
   ]
  },
  {
   "cell_type": "code",
   "execution_count": null,
   "id": "2b75f93d",
   "metadata": {
    "slideshow": {
     "slide_type": "fragment"
    }
   },
   "outputs": [],
   "source": [
    "x_frame = x.frame(Title=\"Model for x\")\n",
    "y_frame = y.frame(Title=\"Model for y\")\n",
    "\n",
    "data_xy.plotOn(x_frame)\n",
    "model_xy.plotOn(x_frame)\n",
    "\n",
    "data_xy.plotOn(y_frame)\n",
    "model_xy.plotOn(y_frame)\n",
    "\n",
    "c7 = ROOT.TCanvas(\"c7\", \"c7\", 800, 400)\n",
    "c7.Divide(2)\n",
    "c7.cd(1)\n",
    "x_frame.Draw()\n",
    "c7.cd(2)\n",
    "y_frame.Draw()\n",
    "c7.Draw()"
   ]
  },
  {
   "cell_type": "markdown",
   "id": "98e94b40",
   "metadata": {},
   "source": [
    "### Likelihood scans"
   ]
  },
  {
   "cell_type": "markdown",
   "id": "e2d96b9e",
   "metadata": {},
   "source": [
    "It is very useful to plot and inspect the NLL and also the profiled NLL. For this, you can use `createNLL` to get a RooFit object that represents a likelihood directly. More examples can be found in the [rf605_profilell tutorial](https://root.cern/doc/master/rf605__profilell_8py.html)."
   ]
  },
  {
   "cell_type": "code",
   "execution_count": null,
   "id": "4bcda0ac",
   "metadata": {},
   "outputs": [],
   "source": [
    "# Create likelihood function\n",
    "nll = model_xy.createNLL(data_xy, BatchMode=\"cpu\")\n",
    "# The \"BatchMode\" is a performance optimization, it can also be used in `fitTo`\n",
    "\n",
    "# Minimize likelihood such that all other parameters (nuisance parameters) are at the best fit value.\n",
    "minimizer = ROOT.RooMinimizer(nll)\n",
    "minimizer.setPrintLevel(-1)\n",
    "minimizer.minimize(\"Minuit\", \"\")\n",
    "\n",
    "# Make RooPlot for our parameter of interest, let's say n_sig\n",
    "window = 5 * n_sig.getError()\n",
    "n_sig_frame = n_sig.frame(Bins=10, Range=(n_sig.getVal() - window, n_sig.getVal() + window))\n",
    "\n",
    "# Plot likelihood scan in parameter n_sig\n",
    "nll.plotOn(n_sig_frame, ShiftToZero=True)\n",
    "\n",
    "# Plot the profile likelihood in n_sig.\n",
    "# Now, the nuisance parameter are optimized for each scanned value of n_sig.\n",
    "pll_n_sig = nll.createProfile([n_sig])\n",
    "pll_n_sig.plotOn(n_sig_frame, LineColor=\"kRed\")\n",
    "\n",
    "# Set y axis limits\n",
    "n_sig_frame.SetMinimum(0)\n",
    "n_sig_frame.SetMaximum(5)\n",
    "\n",
    "c8 = ROOT.TCanvas()\n",
    "n_sig_frame.Draw()\n",
    "c8.Draw()"
   ]
  },
  {
   "cell_type": "markdown",
   "id": "7ea48e21",
   "metadata": {
    "slideshow": {
     "slide_type": "slide"
    }
   },
   "source": [
    "## Model inspection"
   ]
  },
  {
   "cell_type": "markdown",
   "id": "5a8479d8",
   "metadata": {
    "slideshow": {
     "slide_type": "fragment"
    }
   },
   "source": [
    "You already know the `Print(\"t\")` function:"
   ]
  },
  {
   "cell_type": "code",
   "execution_count": null,
   "id": "a25cbc2f",
   "metadata": {},
   "outputs": [],
   "source": [
    "model.Print(\"t\")"
   ]
  },
  {
   "cell_type": "markdown",
   "id": "7d7c242a",
   "metadata": {
    "slideshow": {
     "slide_type": "slide"
    }
   },
   "source": [
    "### Graphical model visualization"
   ]
  },
  {
   "cell_type": "markdown",
   "id": "29f14242",
   "metadata": {
    "slideshow": {
     "slide_type": "fragment"
    }
   },
   "source": [
    "Export the model to a `GraphViz` file"
   ]
  },
  {
   "cell_type": "code",
   "execution_count": null,
   "id": "ad78c6bb",
   "metadata": {
    "slideshow": {
     "slide_type": "-"
    }
   },
   "outputs": [],
   "source": [
    "model_xy.graphVizTree(\"model.dot\")"
   ]
  },
  {
   "cell_type": "markdown",
   "id": "a0e3a709",
   "metadata": {
    "slideshow": {
     "slide_type": "fragment"
    }
   },
   "source": [
    "Turn the `GraphViz` file into a GIF file in the shell:"
   ]
  },
  {
   "cell_type": "code",
   "execution_count": null,
   "id": "31e879b9",
   "metadata": {
    "slideshow": {
     "slide_type": "-"
    }
   },
   "outputs": [],
   "source": [
    "!dot -Tpng -o model.png model.png"
   ]
  },
  {
   "cell_type": "markdown",
   "id": "3906d4b4",
   "metadata": {
    "slideshow": {
     "slide_type": "slide"
    }
   },
   "source": [
    "![model.png](model.png)"
   ]
  },
  {
   "cell_type": "markdown",
   "id": "48f1422d",
   "metadata": {
    "slideshow": {
     "slide_type": "slide"
    }
   },
   "source": [
    "## The RooWorkspace"
   ]
  },
  {
   "cell_type": "markdown",
   "id": "b5bf3e0b",
   "metadata": {
    "slideshow": {
     "slide_type": "fragment"
    }
   },
   "source": [
    "The RooFit objects can be managed by a `RooWorkspace`:"
   ]
  },
  {
   "cell_type": "code",
   "execution_count": null,
   "id": "5139fbbd",
   "metadata": {
    "slideshow": {
     "slide_type": "-"
    }
   },
   "outputs": [],
   "source": [
    "ws = ROOT.RooWorkspace(\"myworkspace\")"
   ]
  },
  {
   "cell_type": "markdown",
   "id": "50b1b884",
   "metadata": {
    "slideshow": {
     "slide_type": "fragment"
    }
   },
   "source": [
    "You can for example import an existing model:"
   ]
  },
  {
   "cell_type": "code",
   "execution_count": null,
   "id": "c3184dff",
   "metadata": {},
   "outputs": [],
   "source": [
    "ws.Import(model_xy);"
   ]
  },
  {
   "cell_type": "markdown",
   "id": "4305eb37",
   "metadata": {
    "slideshow": {
     "slide_type": "slide"
    }
   },
   "source": [
    "You can `Print` the workspace for inspecting its content:"
   ]
  },
  {
   "cell_type": "code",
   "execution_count": null,
   "id": "655cbd5a",
   "metadata": {
    "slideshow": {
     "slide_type": "-"
    }
   },
   "outputs": [],
   "source": [
    "ws.Print()"
   ]
  },
  {
   "cell_type": "markdown",
   "id": "6f3a5ba5",
   "metadata": {
    "slideshow": {
     "slide_type": "slide"
    }
   },
   "source": [
    "Access any object in the RooWorkspace:"
   ]
  },
  {
   "cell_type": "code",
   "execution_count": null,
   "id": "b05c5667",
   "metadata": {},
   "outputs": [],
   "source": [
    "ws[\"model_xy\"].Print()"
   ]
  },
  {
   "cell_type": "markdown",
   "id": "075ba891",
   "metadata": {
    "slideshow": {
     "slide_type": "fragment"
    }
   },
   "source": [
    "Save the workspace to a ROOT file to reuse the model later"
   ]
  },
  {
   "cell_type": "code",
   "execution_count": null,
   "id": "af12caeb",
   "metadata": {},
   "outputs": [],
   "source": [
    "ws.writeToFile(\"myworkspace.root\");"
   ]
  },
  {
   "cell_type": "markdown",
   "id": "874eeda9",
   "metadata": {
    "slideshow": {
     "slide_type": "slide"
    }
   },
   "source": [
    "## Exercises"
   ]
  },
  {
   "cell_type": "markdown",
   "id": "ace57c6f",
   "metadata": {
    "slideshow": {
     "slide_type": "fragment"
    }
   },
   "source": [
    "1. Further improve the plot with the pull distribution by visualizing also the post-fit uncertainty of the model. Figure out how to do this by reading the documentation of [RooAbsPdf::plotOn()](https://root.cern.ch/doc/master/classRooAbsPdf.html#aa0f2f98d89525302a06a1b7f1b0c2aa6)."
   ]
  },
  {
   "cell_type": "markdown",
   "id": "211e1887",
   "metadata": {
    "slideshow": {
     "slide_type": "fragment"
    }
   },
   "source": [
    "2. Look at the [rf203_ranges.py RooFit tutorial](https://root.cern/doc/master/rf203__ranges_8py.html) to learn how to restrict the fit to a subrange. Redo the convoluted template fit to the $y$ variable, but restricted to the range from 3 to 7.\n",
    "\n",
    "   Why does the uncertainty of the `resolution` parameter increase, even though we are not excluding that much signal and `resolution` doesn't affect the background?"
   ]
  },
  {
   "cell_type": "markdown",
   "id": "1716755e",
   "metadata": {},
   "source": [
    "3. Interpret the likelihood plot over `n_sig`. Why is the profile NLL always below the other plotted NLL?"
   ]
  },
  {
   "cell_type": "markdown",
   "id": "bcb6149a",
   "metadata": {
    "slideshow": {
     "slide_type": "fragment"
    }
   },
   "source": [
    "4. In a fresh notebook, open the `RooWorkspace` we wrote to disk and create new toy data according to the 2D model. Re-fit the model to the new toy dataset."
   ]
  },
  {
   "cell_type": "markdown",
   "id": "600bb836",
   "metadata": {
    "slideshow": {
     "slide_type": "fragment"
    }
   },
   "source": [
    "5. Which parameters are strongly (anti)correlated in the final 2D fit? Can you explain why?"
   ]
  }
 ],
 "metadata": {
  "kernelspec": {
   "display_name": "Python 3 (ipykernel)",
   "language": "python",
   "name": "python3"
  },
  "language_info": {
   "codemirror_mode": {
    "name": "ipython",
    "version": 3
   },
   "file_extension": ".py",
   "mimetype": "text/x-python",
   "name": "python",
   "nbconvert_exporter": "python",
   "pygments_lexer": "ipython3",
   "version": "3.11.3"
  }
 },
 "nbformat": 4,
 "nbformat_minor": 5
}
