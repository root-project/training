{
 "cells": [
  {
   "cell_type": "markdown",
   "id": "1abf29ff",
   "metadata": {
    "slideshow": {
     "slide_type": "slide"
    }
   },
   "source": [
    "# RooFit Tutorial: Introduction to Unbinned Likelihood Models\n",
    "\n",
    "Jonas Rembser (CERN), 2022\n",
    "\n",
    "<https://github.com/root-project/training/blob/master/RooFit/2022/roofit-tutorial-01.ipynb>"
   ]
  },
  {
   "cell_type": "markdown",
   "id": "f3d339eb",
   "metadata": {
    "slideshow": {
     "slide_type": "slide"
    }
   },
   "source": [
    "## Setup"
   ]
  },
  {
   "cell_type": "markdown",
   "id": "e41bfd73",
   "metadata": {
    "slideshow": {
     "slide_type": "fragment"
    }
   },
   "source": [
    "Import ROOT and NumPy:"
   ]
  },
  {
   "cell_type": "code",
   "execution_count": null,
   "id": "08efb8bf",
   "metadata": {
    "slideshow": {
     "slide_type": "-"
    }
   },
   "outputs": [],
   "source": [
    "import ROOT\n",
    "import numpy as np"
   ]
  },
  {
   "cell_type": "markdown",
   "id": "0ce79b4b",
   "metadata": {
    "slideshow": {
     "slide_type": "skip"
    }
   },
   "source": [
    "Silence the RooFit logging:"
   ]
  },
  {
   "cell_type": "code",
   "execution_count": null,
   "id": "d477912c",
   "metadata": {
    "slideshow": {
     "slide_type": "skip"
    }
   },
   "outputs": [],
   "source": [
    "ROOT.RooMsgService.instance().setGlobalKillBelow(ROOT.RooFit.FATAL)"
   ]
  },
  {
   "cell_type": "markdown",
   "id": "6b3d2661",
   "metadata": {
    "slideshow": {
     "slide_type": "slide"
    }
   },
   "source": [
    "## The basics"
   ]
  },
  {
   "cell_type": "markdown",
   "id": "9d9847cd",
   "metadata": {
    "slideshow": {
     "slide_type": "-"
    }
   },
   "source": [
    "Mathematical concepts are represented by C++ objects:\n",
    "\n",
    "\n",
    "![roofit_classes.png](roofit_classes.png)"
   ]
  },
  {
   "cell_type": "markdown",
   "id": "ac5fd52d",
   "metadata": {
    "slideshow": {
     "slide_type": "slide"
    }
   },
   "source": [
    "### Creating your first RooFit model"
   ]
  },
  {
   "cell_type": "code",
   "execution_count": null,
   "id": "a46b42d9",
   "metadata": {
    "slideshow": {
     "slide_type": "fragment"
    }
   },
   "outputs": [],
   "source": [
    "import ROOT"
   ]
  },
  {
   "cell_type": "markdown",
   "id": "51da97a8",
   "metadata": {
    "slideshow": {
     "slide_type": "-"
    }
   },
   "source": [
    "Observable:"
   ]
  },
  {
   "cell_type": "code",
   "execution_count": null,
   "id": "42086510",
   "metadata": {},
   "outputs": [],
   "source": [
    "x = ROOT.RooRealVar(\"x\", \"x\", 0, 0, 10)"
   ]
  },
  {
   "cell_type": "markdown",
   "id": "eb1bd8e8",
   "metadata": {
    "slideshow": {
     "slide_type": "fragment"
    }
   },
   "source": [
    "Parameters:"
   ]
  },
  {
   "cell_type": "code",
   "execution_count": null,
   "id": "393f6cd0",
   "metadata": {},
   "outputs": [],
   "source": [
    "mean = ROOT.RooRealVar(\"mean\", \"mean of gaussian\", 5, 0, 10)\n",
    "sigma = ROOT.RooRealVar(\"sigma\", \"width of gaussian\", 1, 0.1, 10)"
   ]
  },
  {
   "cell_type": "markdown",
   "id": "b0b507fa",
   "metadata": {
    "slideshow": {
     "slide_type": "fragment"
    }
   },
   "source": [
    "Gaussian PDF:"
   ]
  },
  {
   "cell_type": "code",
   "execution_count": null,
   "id": "1857092f",
   "metadata": {},
   "outputs": [],
   "source": [
    "gauss = ROOT.RooGaussian(\"gauss\", \"gaussian PDF\", x, mean, sigma)"
   ]
  },
  {
   "cell_type": "markdown",
   "id": "c88520df",
   "metadata": {
    "slideshow": {
     "slide_type": "slide"
    }
   },
   "source": [
    "PDF inspection:"
   ]
  },
  {
   "cell_type": "code",
   "execution_count": null,
   "id": "03807768",
   "metadata": {
    "slideshow": {
     "slide_type": "-"
    }
   },
   "outputs": [],
   "source": [
    "gauss.Print(\"t\")"
   ]
  },
  {
   "cell_type": "markdown",
   "id": "87b63284",
   "metadata": {
    "slideshow": {
     "slide_type": "slide"
    }
   },
   "source": [
    "### Toy dataset generation and fitting"
   ]
  },
  {
   "cell_type": "markdown",
   "id": "e03de1f1",
   "metadata": {
    "slideshow": {
     "slide_type": "fragment"
    }
   },
   "source": [
    "Generate a toy dataset with 9000 entries sampled from the Gaussian PDF:"
   ]
  },
  {
   "cell_type": "code",
   "execution_count": null,
   "id": "a653e5c1",
   "metadata": {
    "slideshow": {
     "slide_type": "-"
    }
   },
   "outputs": [],
   "source": [
    "data = gauss.generate({x}, 9000)"
   ]
  },
  {
   "cell_type": "code",
   "execution_count": null,
   "id": "774624d9",
   "metadata": {
    "slideshow": {
     "slide_type": "fragment"
    }
   },
   "outputs": [],
   "source": [
    "data.Print()"
   ]
  },
  {
   "cell_type": "markdown",
   "id": "61c336c7",
   "metadata": {
    "slideshow": {
     "slide_type": "slide"
    }
   },
   "source": [
    "Fit the PDF to the toy data, saving the fit result:"
   ]
  },
  {
   "cell_type": "code",
   "execution_count": null,
   "id": "62c0ad9c",
   "metadata": {
    "slideshow": {
     "slide_type": "-"
    }
   },
   "outputs": [],
   "source": [
    "fit_result = gauss.fitTo(data, PrintLevel=-1, Save=True)"
   ]
  },
  {
   "cell_type": "code",
   "execution_count": null,
   "id": "6f6dd356",
   "metadata": {
    "slideshow": {
     "slide_type": "fragment"
    }
   },
   "outputs": [],
   "source": [
    "fit_result.Print()"
   ]
  },
  {
   "cell_type": "markdown",
   "id": "eabd42b9",
   "metadata": {
    "slideshow": {
     "slide_type": "fragment"
    }
   },
   "source": [
    "Inspect the correlation of your model parameters:"
   ]
  },
  {
   "cell_type": "code",
   "execution_count": null,
   "id": "bc50ad92",
   "metadata": {},
   "outputs": [],
   "source": [
    "fit_result.correlationMatrix().Print()"
   ]
  },
  {
   "cell_type": "markdown",
   "id": "7ef30dfd",
   "metadata": {
    "slideshow": {
     "slide_type": "slide"
    }
   },
   "source": [
    "## Plotting the data and the model"
   ]
  },
  {
   "cell_type": "markdown",
   "id": "591a4acb",
   "metadata": {
    "slideshow": {
     "slide_type": "fragment"
    }
   },
   "source": [
    "Create a `RooPlot` object on which the data and PDF is plotted:"
   ]
  },
  {
   "cell_type": "code",
   "execution_count": null,
   "id": "2f121004",
   "metadata": {
    "slideshow": {
     "slide_type": "-"
    }
   },
   "outputs": [],
   "source": [
    "x_frame = x.frame(Title=\"Gaussian PDF with data\")"
   ]
  },
  {
   "cell_type": "code",
   "execution_count": null,
   "id": "a5b929dc",
   "metadata": {
    "slideshow": {
     "slide_type": "fragment"
    }
   },
   "outputs": [],
   "source": [
    "data.plotOn(x_frame)\n",
    "gauss.plotOn(x_frame);"
   ]
  },
  {
   "cell_type": "markdown",
   "id": "15da3a82",
   "metadata": {
    "slideshow": {
     "slide_type": "fragment"
    }
   },
   "source": [
    "Draw the RooPlot on a `TCanvas`:"
   ]
  },
  {
   "cell_type": "code",
   "execution_count": null,
   "id": "8e653537",
   "metadata": {
    "slideshow": {
     "slide_type": "-"
    }
   },
   "outputs": [],
   "source": [
    "c1 = ROOT.TCanvas(\"c1\", \"c1\", 500, 300)\n",
    "x_frame.Draw()\n",
    "c1.Draw()"
   ]
  },
  {
   "cell_type": "markdown",
   "id": "a0dd7bc4",
   "metadata": {
    "slideshow": {
     "slide_type": "slide"
    }
   },
   "source": [
    "### Exporting your RooFit datasets"
   ]
  },
  {
   "cell_type": "markdown",
   "id": "fdce5f23",
   "metadata": {
    "slideshow": {
     "slide_type": "fragment"
    }
   },
   "source": [
    "You can export a RooDataSet to NumPy or Pandas:"
   ]
  },
  {
   "cell_type": "code",
   "execution_count": null,
   "id": "c6b19de2",
   "metadata": {
    "slideshow": {
     "slide_type": "-"
    }
   },
   "outputs": [],
   "source": [
    "df = data.to_pandas()"
   ]
  },
  {
   "cell_type": "code",
   "execution_count": null,
   "id": "2ae95197",
   "metadata": {
    "slideshow": {
     "slide_type": "fragment"
    }
   },
   "outputs": [],
   "source": [
    "df"
   ]
  },
  {
   "cell_type": "markdown",
   "id": "a4aa71ca",
   "metadata": {
    "slideshow": {
     "slide_type": "slide"
    }
   },
   "source": [
    "## Composite PDFs"
   ]
  },
  {
   "cell_type": "markdown",
   "id": "d71367fc",
   "metadata": {},
   "source": [
    "Composite PDF: model with mutiple components, like signal and background."
   ]
  },
  {
   "cell_type": "markdown",
   "id": "a4c14e51",
   "metadata": {
    "slideshow": {
     "slide_type": "fragment"
    }
   },
   "source": [
    "Adding random \"background\" values sampled from exponential PDF to the dataset:"
   ]
  },
  {
   "cell_type": "code",
   "execution_count": null,
   "id": "d65ccea0",
   "metadata": {
    "slideshow": {
     "slide_type": "-"
    }
   },
   "outputs": [],
   "source": [
    "exp_tau = -0.18\n",
    "arr_new = np.concatenate([data.to_numpy()[\"x\"],\n",
    "                          np.random.exponential(-1./exp_tau, size=4* data.numEntries())])"
   ]
  },
  {
   "cell_type": "markdown",
   "id": "c0a80ea4",
   "metadata": {
    "slideshow": {
     "slide_type": "fragment"
    }
   },
   "source": [
    "Import the new array back to a RooDataSet:"
   ]
  },
  {
   "cell_type": "code",
   "execution_count": null,
   "id": "8ff1789d",
   "metadata": {
    "slideshow": {
     "slide_type": "-"
    }
   },
   "outputs": [],
   "source": [
    "data_x = ROOT.RooDataSet.from_numpy({\"x\" : arr_new[arr_new < x.getMax()]}, {x}, name=\"data_new\")"
   ]
  },
  {
   "cell_type": "code",
   "execution_count": null,
   "id": "950f047f",
   "metadata": {
    "slideshow": {
     "slide_type": "fragment"
    }
   },
   "outputs": [],
   "source": [
    "data_x.Print()"
   ]
  },
  {
   "cell_type": "markdown",
   "id": "4b70d5d5",
   "metadata": {
    "slideshow": {
     "slide_type": "slide"
    }
   },
   "source": [
    "Visualize the dataset:"
   ]
  },
  {
   "cell_type": "code",
   "execution_count": null,
   "id": "57dfc72f",
   "metadata": {
    "slideshow": {
     "slide_type": "-"
    }
   },
   "outputs": [],
   "source": [
    "x_frame = x.frame(Title=\"Plotting Gaussian plus exp. background\")\n",
    "data_x.plotOn(x_frame)\n",
    "\n",
    "c2 = ROOT.TCanvas()\n",
    "x_frame.Draw()\n",
    "c2.Draw()"
   ]
  },
  {
   "cell_type": "markdown",
   "id": "546770b7",
   "metadata": {
    "slideshow": {
     "slide_type": "slide"
    }
   },
   "source": [
    "### Creating the composite fit model"
   ]
  },
  {
   "cell_type": "markdown",
   "id": "05579001",
   "metadata": {
    "slideshow": {
     "slide_type": "fragment"
    }
   },
   "source": [
    "Create exponential PDF with parameter \"tau\":"
   ]
  },
  {
   "cell_type": "code",
   "execution_count": null,
   "id": "2cfcc2a8",
   "metadata": {
    "slideshow": {
     "slide_type": "-"
    }
   },
   "outputs": [],
   "source": [
    "tau = ROOT.RooRealVar(\"tau\", \"tau\", -0.2, -10.0, -0.01)\n",
    "expo = ROOT.RooExponential(\"expo\", \"expo\", x, tau)"
   ]
  },
  {
   "cell_type": "markdown",
   "id": "4bc4ab2e",
   "metadata": {
    "slideshow": {
     "slide_type": "fragment"
    }
   },
   "source": [
    "Define parameters for the number of signal and background events:"
   ]
  },
  {
   "cell_type": "code",
   "execution_count": null,
   "id": "4cc2e2ad",
   "metadata": {
    "slideshow": {
     "slide_type": "-"
    }
   },
   "outputs": [],
   "source": [
    "n_sig = ROOT.RooRealVar(\"n_sig\", \"n_sig\", 10000, 1000, 100000)\n",
    "n_bkg = ROOT.RooRealVar(\"n_bkg\", \"n_bkg\", 50000, 5000, 500000)"
   ]
  },
  {
   "cell_type": "markdown",
   "id": "267330d1",
   "metadata": {
    "slideshow": {
     "slide_type": "fragment"
    }
   },
   "source": [
    "Create a composite model that automatically includes a Poisson term for the total number of events:"
   ]
  },
  {
   "cell_type": "code",
   "execution_count": null,
   "id": "3c56a310",
   "metadata": {
    "slideshow": {
     "slide_type": "-"
    }
   },
   "outputs": [],
   "source": [
    "model = ROOT.RooAddPdf(\"model\", \"model\", [gauss, expo], [n_sig, n_bkg])"
   ]
  },
  {
   "cell_type": "markdown",
   "id": "dd8e94d7",
   "metadata": {
    "slideshow": {
     "slide_type": "slide"
    }
   },
   "source": [
    "Do the fit:"
   ]
  },
  {
   "cell_type": "code",
   "execution_count": null,
   "id": "e8e5e178",
   "metadata": {
    "slideshow": {
     "slide_type": "-"
    }
   },
   "outputs": [],
   "source": [
    "fit_result = model.fitTo(data_x, PrintLevel=-1, Save=True)\n",
    "fit_result.Print()"
   ]
  },
  {
   "cell_type": "markdown",
   "id": "28139c6c",
   "metadata": {
    "slideshow": {
     "slide_type": "slide"
    }
   },
   "source": [
    "## Creating a nice plot"
   ]
  },
  {
   "cell_type": "markdown",
   "id": "94e7c1a6",
   "metadata": {
    "slideshow": {
     "slide_type": "fragment"
    }
   },
   "source": [
    "Create RooPlot and draw data, PDF, and components:"
   ]
  },
  {
   "cell_type": "code",
   "execution_count": null,
   "id": "c15ba330",
   "metadata": {
    "slideshow": {
     "slide_type": "-"
    }
   },
   "outputs": [],
   "source": [
    "x_frame = x.frame(Title=\"Gaussian plus exp. background\")\n",
    "\n",
    "data_x.plotOn(x_frame, Name=\"data\")\n",
    "\n",
    "model.plotOn(x_frame, Components=gauss, LineColor=\"r\", LineStyle=\"--\", Name=\"gauss\")\n",
    "model.plotOn(x_frame, Components=expo, LineColor=\"k\", LineStyle=\"--\", Name=\"expo\")\n",
    "model.plotOn(x_frame, Name=\"model\");"
   ]
  },
  {
   "cell_type": "markdown",
   "id": "c884c1e6",
   "metadata": {
    "slideshow": {
     "slide_type": "fragment"
    }
   },
   "source": [
    "Add a legend:"
   ]
  },
  {
   "cell_type": "code",
   "execution_count": null,
   "id": "c04a0f05",
   "metadata": {},
   "outputs": [],
   "source": [
    "legend = ROOT.TLegend(0.7, 0.55, 0.92, 0.87)\n",
    "legend.SetBorderSize(0)\n",
    "legend.SetFillStyle(0)\n",
    "legend.AddEntry(x_frame.findObject(\"data\"), \"data\", \"P\")\n",
    "\n",
    "for name in [\"model\", \"gauss\", \"expo\"]:\n",
    "    legend.AddEntry(x_frame.findObject(name), name, \"L\")"
   ]
  },
  {
   "cell_type": "markdown",
   "id": "cbba30e0",
   "metadata": {
    "slideshow": {
     "slide_type": "slide"
    }
   },
   "source": [
    "Create a second frame with the residuals:"
   ]
  },
  {
   "cell_type": "code",
   "execution_count": null,
   "id": "16bfc73c",
   "metadata": {
    "slideshow": {
     "slide_type": "-"
    }
   },
   "outputs": [],
   "source": [
    "resid_hist = x_frame.residHist()\n",
    "\n",
    "resid_frame = x.frame(Title=\";x;residuals\")\n",
    "resid_frame.addPlotable(resid_hist, \"P\")"
   ]
  },
  {
   "cell_type": "markdown",
   "id": "c2c563cd",
   "metadata": {
    "slideshow": {
     "slide_type": "slide"
    }
   },
   "source": [
    "Create a canvas that is divided into two drawing pads:"
   ]
  },
  {
   "cell_type": "code",
   "execution_count": null,
   "id": "6d7bc819",
   "metadata": {
    "slideshow": {
     "slide_type": "-"
    }
   },
   "outputs": [],
   "source": [
    "c3 = ROOT.TCanvas(\"c3\", \"c3\", 600, 600)\n",
    "c3.Divide(1, 2)"
   ]
  },
  {
   "cell_type": "markdown",
   "id": "a64b11cb",
   "metadata": {
    "slideshow": {
     "slide_type": "fragment"
    }
   },
   "source": [
    "First pad is for the main plot and the legend:"
   ]
  },
  {
   "cell_type": "code",
   "execution_count": null,
   "id": "e66671bd",
   "metadata": {},
   "outputs": [],
   "source": [
    "pad_1 = c3.cd(1)\n",
    "x_frame.Draw()\n",
    "legend.Draw()\n",
    "pad_1.SetPad(0.0, 0.2, 1, 1)"
   ]
  },
  {
   "cell_type": "markdown",
   "id": "ccc85d3b",
   "metadata": {
    "slideshow": {
     "slide_type": "fragment"
    }
   },
   "source": [
    "Second pad is for the residuals:"
   ]
  },
  {
   "cell_type": "code",
   "execution_count": null,
   "id": "9de06c13",
   "metadata": {
    "slideshow": {
     "slide_type": "fragment"
    }
   },
   "outputs": [],
   "source": [
    "pad_2 = c3.cd(2)\n",
    "pad_2.SetPad(0., 0.0, 1, 0.25)\n",
    "resid_frame.Draw()\n",
    "resid_frame.GetXaxis().SetLabelSize(0.12)\n",
    "resid_frame.GetYaxis().SetLabelSize(0.12)\n",
    "resid_frame.GetYaxis().SetTitleSize(0.12)\n",
    "resid_frame.GetYaxis().SetTitleOffset(0.25)"
   ]
  },
  {
   "cell_type": "markdown",
   "id": "c71b41cd",
   "metadata": {
    "slideshow": {
     "slide_type": "slide"
    }
   },
   "source": [
    "Draw the canvas:"
   ]
  },
  {
   "cell_type": "code",
   "execution_count": null,
   "id": "d6542c19",
   "metadata": {
    "slideshow": {
     "slide_type": "-"
    }
   },
   "outputs": [],
   "source": [
    "c3.Draw()"
   ]
  },
  {
   "cell_type": "markdown",
   "id": "62904a81",
   "metadata": {
    "slideshow": {
     "slide_type": "slide"
    }
   },
   "source": [
    "## Template fits with convolutions"
   ]
  },
  {
   "cell_type": "code",
   "execution_count": null,
   "id": "f3aa45bd",
   "metadata": {},
   "outputs": [],
   "source": [
    "template_hist = ROOT.TH1D(\"h1\", \"h1\", 100, 0, 10)\n",
    "f1 = ROOT.TF1(\"f1\", \"std::exp(-std::abs((x-5)))\", 0, 10)\n",
    "template_hist.FillRandom(\"f1\", 100000)"
   ]
  },
  {
   "cell_type": "code",
   "execution_count": null,
   "id": "71e36c0c",
   "metadata": {},
   "outputs": [],
   "source": [
    "c4 = ROOT.TCanvas()\n",
    "template_hist.Draw()\n",
    "c4.Draw()"
   ]
  },
  {
   "cell_type": "code",
   "execution_count": null,
   "id": "f4046b28",
   "metadata": {},
   "outputs": [],
   "source": [
    "y = ROOT.RooRealVar(\"y\", \"y\", 0, 10)\n",
    "\n",
    "roo_template_hist = ROOT.RooDataHist(\"roo_template_hist\", \"roo_template_hist\", y, template_hist)\n",
    "\n",
    "sig_raw_y = ROOT.RooHistPdf(\"sig__raw_y\", \"sig_raw_y\", y, roo_template_hist)\n",
    "\n",
    "resolution = ROOT.RooRealVar(\"resolution\", \"resolution\", 0.2, 0.1, 1.0)\n",
    "sig_smearing_y = ROOT.RooGaussian(\"sig_smearing_y\", \"sig_smearing_y\", y, ROOT.RooFit.RooConst(0.0), resolution)\n",
    "\n",
    "sig_y = ROOT.RooFFTConvPdf(\"sig_y\", \"sig_y\", y, sig_raw_y, sig_smearing_y)\n",
    "\n",
    "bkg_y = ROOT.RooChebychev(\"bkg_y\", \"bkg_y\", y, [-0.5, 0.1])\n",
    "\n",
    "model_y = ROOT.RooAddPdf(\"model_y\", \"model_x\", [sig_y, bkg_y], [n_sig, n_bkg])"
   ]
  },
  {
   "cell_type": "code",
   "execution_count": null,
   "id": "10f60bfa",
   "metadata": {},
   "outputs": [],
   "source": [
    "data_y = model_y.generate(y)"
   ]
  },
  {
   "cell_type": "code",
   "execution_count": null,
   "id": "74189b9e",
   "metadata": {},
   "outputs": [],
   "source": [
    "fit_result = model_y.fitTo(data_y, PrintLevel=-1, Save=True)\n",
    "fit_result.Print()"
   ]
  },
  {
   "cell_type": "code",
   "execution_count": null,
   "id": "e2922b0d",
   "metadata": {},
   "outputs": [],
   "source": [
    "y_frame = y.frame(Title=\"Model for y\")\n",
    "\n",
    "data_y.plotOn(y_frame)\n",
    "model_y.plotOn(y_frame)\n",
    "\n",
    "c5 = ROOT.TCanvas()\n",
    "y_frame.Draw()\n",
    "c5.Draw()"
   ]
  },
  {
   "cell_type": "markdown",
   "id": "81d4ca27",
   "metadata": {
    "slideshow": {
     "slide_type": "slide"
    }
   },
   "source": [
    "### Overview of other PDF types"
   ]
  },
  {
   "cell_type": "markdown",
   "id": "d1fb099b",
   "metadata": {},
   "source": [
    "RooFit provides a collection of standard PDF classes, e.g.:\n",
    "\n",
    "![roofit_pdfs.png](roofit_pdfs.png)"
   ]
  },
  {
   "cell_type": "markdown",
   "id": "37556914",
   "metadata": {
    "slideshow": {
     "slide_type": "fragment"
    }
   },
   "source": [
    "Easy to **extend the library**: each pdf is a separate C++ class"
   ]
  },
  {
   "cell_type": "markdown",
   "id": "a6c7b4c3",
   "metadata": {
    "slideshow": {
     "slide_type": "slide"
    }
   },
   "source": [
    "## Multivariate fit"
   ]
  },
  {
   "cell_type": "code",
   "execution_count": null,
   "id": "62c1cff7",
   "metadata": {},
   "outputs": [],
   "source": [
    "model_sig_xy = ROOT.RooProdPdf(\"model_sig_xy\", \"model_sig_xy\", [gauss, sig_y])\n",
    "model_bkg_xy = ROOT.RooProdPdf(\"model_bkg_xy\", \"model_bkg_xy\", [expo, bkg_y])\n",
    "\n",
    "model_xy = ROOT.RooAddPdf(\"model_xy\", \"model_xy\", [model_sig_xy, model_bkg_xy], [n_sig, n_bkg])"
   ]
  },
  {
   "cell_type": "code",
   "execution_count": null,
   "id": "f8262708",
   "metadata": {},
   "outputs": [],
   "source": [
    "data_xy = model_xy.generate({x, y}, 10000)"
   ]
  },
  {
   "cell_type": "code",
   "execution_count": null,
   "id": "f434b243",
   "metadata": {},
   "outputs": [],
   "source": [
    "fit_result_xy = model_xy.fitTo(data_xy, PrintLevel=-1, Save=True)\n",
    "fit_result_xy.Print()"
   ]
  },
  {
   "cell_type": "code",
   "execution_count": null,
   "id": "2b75f93d",
   "metadata": {},
   "outputs": [],
   "source": [
    "x_frame = x.frame(Title=\"Model for x\")\n",
    "y_frame = y.frame(Title=\"Model for y\")\n",
    "\n",
    "data_xy.plotOn(x_frame)\n",
    "model_xy.plotOn(x_frame)\n",
    "\n",
    "data_xy.plotOn(y_frame)\n",
    "model_xy.plotOn(y_frame)\n",
    "\n",
    "c6 = ROOT.TCanvas(\"c6\", \"c6\", 800, 400)\n",
    "c6.Divide(2)\n",
    "\n",
    "c6.cd(1)\n",
    "x_frame.Draw()\n",
    "c6.cd(2)\n",
    "y_frame.Draw()\n",
    "\n",
    "c6.Draw()"
   ]
  },
  {
   "cell_type": "markdown",
   "id": "7ea48e21",
   "metadata": {},
   "source": [
    "## Model inspection"
   ]
  },
  {
   "cell_type": "code",
   "execution_count": null,
   "id": "a25cbc2f",
   "metadata": {},
   "outputs": [],
   "source": [
    "model.Print(\"t\")"
   ]
  },
  {
   "cell_type": "code",
   "execution_count": null,
   "id": "ad78c6bb",
   "metadata": {},
   "outputs": [],
   "source": [
    "model_xy.graphVizTree(\"model.dot\")"
   ]
  },
  {
   "cell_type": "code",
   "execution_count": null,
   "id": "31e879b9",
   "metadata": {},
   "outputs": [],
   "source": [
    "!dot -Tgif -o model.gif model.dot"
   ]
  },
  {
   "cell_type": "markdown",
   "id": "3906d4b4",
   "metadata": {},
   "source": [
    "![model.gif](model.gif)"
   ]
  },
  {
   "cell_type": "markdown",
   "id": "48f1422d",
   "metadata": {},
   "source": [
    "## The RooWorkspace"
   ]
  },
  {
   "cell_type": "code",
   "execution_count": null,
   "id": "5139fbbd",
   "metadata": {},
   "outputs": [],
   "source": [
    "ws = ROOT.RooWorkspace(\"myworkspace\")\n",
    "ws.Import(model_xy);"
   ]
  },
  {
   "cell_type": "code",
   "execution_count": null,
   "id": "655cbd5a",
   "metadata": {},
   "outputs": [],
   "source": [
    "ws.Print()"
   ]
  },
  {
   "cell_type": "code",
   "execution_count": null,
   "id": "b05c5667",
   "metadata": {},
   "outputs": [],
   "source": [
    "ws[\"model_xy\"].Print()"
   ]
  },
  {
   "cell_type": "code",
   "execution_count": null,
   "id": "af12caeb",
   "metadata": {},
   "outputs": [],
   "source": [
    "ws.writeToFile(\"myworkspace.root\");"
   ]
  },
  {
   "cell_type": "markdown",
   "id": "874eeda9",
   "metadata": {
    "slideshow": {
     "slide_type": "slide"
    }
   },
   "source": [
    "## Exercises"
   ]
  },
  {
   "cell_type": "markdown",
   "id": "ace57c6f",
   "metadata": {
    "slideshow": {
     "slide_type": "fragment"
    }
   },
   "source": [
    "1. Further improve the plot with the pull distribution by visualizing also the post-fit uncertainty of the model. Figure out how to do this by reading the documentation of [RooAbsPdf::plotOn()](https://root.cern.ch/doc/master/classRooAbsPdf.html#aa0f2f98d89525302a06a1b7f1b0c2aa6). *Hint: use one of the many keyword arguments.*"
   ]
  },
  {
   "cell_type": "markdown",
   "id": "211e1887",
   "metadata": {
    "slideshow": {
     "slide_type": "fragment"
    }
   },
   "source": [
    "2. Look at the [rf203_ranges.py RooFit tutorial](https://root.cern/doc/master/rf203__ranges_8py.html) to learn how to restrict the fit to a subrange. Redo the convoluted template fit to the $y$ variable, but restricted to the range from 3 to 7.\n",
    "\n",
    "   Why does the uncertainty of the `resolution` parameter increase, even though we are not excluding that much signal and `resolution` doesn't affect the background?"
   ]
  },
  {
   "cell_type": "markdown",
   "id": "bcb6149a",
   "metadata": {
    "slideshow": {
     "slide_type": "fragment"
    }
   },
   "source": [
    "3. In a fresh notebook, open the `RooWorkspace` we wrote to disk and create new toy data according to the multidimensional model. Then, fit the model to the new data and look at the fit result. Is it compatible with the one in this notebook?"
   ]
  },
  {
   "cell_type": "markdown",
   "id": "600bb836",
   "metadata": {
    "slideshow": {
     "slide_type": "fragment"
    }
   },
   "source": [
    "4. By calling [covarianceMatrix()](https://root.cern.ch/doc/master/classRooFitResult.html#afed3209d7be07a028e5c2131666c9c19) on a `RooFitResult` object, you can ispect the correlation between the fit parameters:\n",
    "\n",
    "   `fit_result.correlationMatrix().Print()`\n",
    "\n",
    "  Which parameters are strongly (anti)correlated in the final multidimensional fit? Can you explain why?"
   ]
  },
  {
   "cell_type": "markdown",
   "id": "1ae91bc8",
   "metadata": {
    "slideshow": {
     "slide_type": "fragment"
    }
   },
   "source": [
    "5. For the multidimensional model, why did we not just create a single `RooProdPdf` that multiples the model for $x$ and the model for $y$? *Hint: think about the model from a mathematical point of view.*"
   ]
  },
  {
   "cell_type": "markdown",
   "id": "f9d5547b",
   "metadata": {
    "slideshow": {
     "slide_type": "fragment"
    }
   },
   "source": [
    "## Exercise solutions"
   ]
  },
  {
   "cell_type": "markdown",
   "id": "bc529f43",
   "metadata": {
    "slideshow": {
     "slide_type": "slide"
    }
   },
   "source": [
    "### Exercise 1 - Visualizing fit uncertainties"
   ]
  },
  {
   "cell_type": "markdown",
   "id": "23c09221",
   "metadata": {
    "slideshow": {
     "slide_type": "slide"
    }
   },
   "source": [
    "### Exercise 2 - Ranged fit"
   ]
  },
  {
   "cell_type": "markdown",
   "id": "5f310bfd",
   "metadata": {
    "slideshow": {
     "slide_type": "slide"
    }
   },
   "source": [
    "### Exercise 3 - Reusing the RooWorkspace"
   ]
  },
  {
   "cell_type": "markdown",
   "id": "cd608eff",
   "metadata": {
    "slideshow": {
     "slide_type": "slide"
    }
   },
   "source": [
    "### Exercise 4 - The correlation matrix"
   ]
  },
  {
   "cell_type": "markdown",
   "id": "9a354a35",
   "metadata": {
    "slideshow": {
     "slide_type": "slide"
    }
   },
   "source": [
    "### Exercise 5 - Why can't we take the naive product?"
   ]
  },
  {
   "cell_type": "code",
   "execution_count": null,
   "id": "a66d759f",
   "metadata": {
    "slideshow": {
     "slide_type": "fragment"
    }
   },
   "outputs": [],
   "source": [
    "df_xy = data_xy.to_pandas()\n",
    "df_xy_sel = df_xy.query(\"x >= 3 & x <= 6\")\n",
    "data_xy_sel = ROOT.RooDataSet.from_pandas(df_xy_sel, {x, y})"
   ]
  },
  {
   "cell_type": "code",
   "execution_count": null,
   "id": "39986bf6",
   "metadata": {
    "slideshow": {
     "slide_type": "fragment"
    }
   },
   "outputs": [],
   "source": [
    "x_frame = x.frame(Title=\"Data for x\")\n",
    "y_frame = y.frame(Title=\"Data for y\")\n",
    "\n",
    "data_xy.plotOn(x_frame)\n",
    "data_xy.plotOn(y_frame)\n",
    "data_xy_sel.plotOn(x_frame, MarkerColor=\"r\")\n",
    "data_xy_sel.plotOn(y_frame, MarkerColor=\"r\")\n",
    "\n",
    "c7 = ROOT.TCanvas()\n",
    "c7.Divide(2)\n",
    "\n",
    "c7.cd(1)\n",
    "x_frame.Draw()\n",
    "c7.cd(2)\n",
    "y_frame.Draw()\n",
    "\n",
    "c7.Draw()"
   ]
  }
 ],
 "metadata": {
  "celltoolbar": "Slideshow",
  "kernelspec": {
   "display_name": "Python 3 (ipykernel)",
   "language": "python",
   "name": "python3"
  },
  "language_info": {
   "codemirror_mode": {
    "name": "ipython",
    "version": 3
   },
   "file_extension": ".py",
   "mimetype": "text/x-python",
   "name": "python",
   "nbconvert_exporter": "python",
   "pygments_lexer": "ipython3",
   "version": "3.10.7"
  }
 },
 "nbformat": 4,
 "nbformat_minor": 5
}
