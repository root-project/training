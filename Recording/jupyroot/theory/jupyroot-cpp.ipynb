{
 "cells": [
  {
   "cell_type": "markdown",
   "metadata": {
    "slideshow": {
     "slide_type": "slide"
    }
   },
   "source": [
    "# C++\n",
    "\n",
    "ROOT comes with a C++ interpreter, [Cling](https://root.cern/cling/), that allows us to write interactive C++ in a Jupyter notebook.\n",
    "\n",
    "In a ROOT C++ notebook, cells contain C++ code:"
   ]
  },
  {
   "cell_type": "code",
   "execution_count": null,
   "metadata": {
    "slideshow": {
     "slide_type": "fragment"
    }
   },
   "outputs": [],
   "source": [
    "int i = 0;"
   ]
  },
  {
   "cell_type": "markdown",
   "metadata": {
    "slideshow": {
     "slide_type": "subslide"
    }
   },
   "source": [
    "Cells can also contain function or type definitions:"
   ]
  },
  {
   "cell_type": "code",
   "execution_count": null,
   "metadata": {
    "slideshow": {
     "slide_type": "fragment"
    }
   },
   "outputs": [],
   "source": [
    "double add(double a, double b) {\n",
    "    return a + b;\n",
    "}\n",
    "\n",
    "class MyClass {\n",
    "    private:\n",
    "        int data;\n",
    "    public:\n",
    "        MyClass(int i) : data(i) {}\n",
    "        int get_data() { return data; }\n",
    "};"
   ]
  },
  {
   "cell_type": "code",
   "execution_count": null,
   "metadata": {
    "slideshow": {
     "slide_type": "fragment"
    }
   },
   "outputs": [],
   "source": [
    "std::cout << \"Calling a function we just defined: \" << add(2.,1.) << std::endl;\n",
    "\n",
    "std::cout << \"Using a class we just defined: \" << MyClass(1).get_data() << std::endl;"
   ]
  },
  {
   "cell_type": "markdown",
   "metadata": {
    "slideshow": {
     "slide_type": "slide"
    }
   },
   "source": [
    "## Using ROOT\n",
    "\n",
    "Let's see how to create a histogram with ROOT, this time in C++:"
   ]
  },
  {
   "cell_type": "code",
   "execution_count": null,
   "metadata": {
    "slideshow": {
     "slide_type": "fragment"
    }
   },
   "outputs": [],
   "source": [
    "TH1F h(\"myhisto\", \"Gauss\", 64, -4, 4);\n",
    "h.FillRandom(\"gaus\");"
   ]
  },
  {
   "cell_type": "markdown",
   "metadata": {
    "slideshow": {
     "slide_type": "subslide"
    }
   },
   "source": [
    "Let's now plot the histogram in the notebook, with interactive graphics -- note that the `@jsroot` magic can also be used in C++!"
   ]
  },
  {
   "cell_type": "code",
   "execution_count": null,
   "metadata": {
    "slideshow": {
     "slide_type": "fragment"
    }
   },
   "outputs": [],
   "source": [
    "%jsroot on\n",
    "\n",
    "TCanvas c;\n",
    "h.Draw();\n",
    "c.Draw(); // don't forget to draw the canvas too!"
   ]
  },
  {
   "cell_type": "markdown",
   "metadata": {
    "slideshow": {
     "slide_type": "slide"
    }
   },
   "source": [
    "## C++ and Python in the same notebook\n",
    "\n",
    "Symmetrically to what happens in Python notebooks, in a C++ notebook we can also define Python cells via the `%%python` magic:"
   ]
  },
  {
   "cell_type": "code",
   "execution_count": null,
   "metadata": {
    "slideshow": {
     "slide_type": "fragment"
    }
   },
   "outputs": [],
   "source": [
    "%%python\n",
    "\n",
    "import ROOT\n",
    "\n",
    "print(ROOT.add(2,1)) # call a function we previously defined in C++"
   ]
  },
  {
   "cell_type": "markdown",
   "metadata": {
    "slideshow": {
     "slide_type": "slide"
    }
   },
   "source": [
    "## Redefining C++ entities\n",
    "\n",
    "In C++, redefinition of entities such as variables is not allowed. However, ROOT provides a cool redefinition feature that is especially useful in interactive interfaces like notebooks. This feature works for variables, types and functions defined in the global namespace.\n",
    "\n",
    "You can check it by running the next cells, even multiple times!"
   ]
  },
  {
   "cell_type": "code",
   "execution_count": null,
   "metadata": {
    "slideshow": {
     "slide_type": "fragment"
    }
   },
   "outputs": [],
   "source": [
    "float foo = 7.5;\n",
    "\n",
    "std::cout << \"foo is a variable: \" << foo << std::endl;"
   ]
  },
  {
   "cell_type": "code",
   "execution_count": null,
   "metadata": {
    "slideshow": {
     "slide_type": "fragment"
    }
   },
   "outputs": [],
   "source": [
    "class foo {\n",
    "public:\n",
    "    int data = 7;\n",
    "};\n",
    "\n",
    "std::cout << \"foo is now a class: \" << foo().data << std::endl;"
   ]
  },
  {
   "cell_type": "code",
   "execution_count": null,
   "metadata": {
    "slideshow": {
     "slide_type": "fragment"
    }
   },
   "outputs": [],
   "source": [
    "int foo() { return 7; }\n",
    "\n",
    "std::cout << \"foo is now a function: \" << foo() << std::endl;"
   ]
  }
 ],
 "metadata": {
  "celltoolbar": "Slideshow",
  "kernelspec": {
   "display_name": "ROOT C++",
   "language": "c++",
   "name": "root"
  },
  "language_info": {
   "codemirror_mode": "text/x-c++src",
   "file_extension": ".C",
   "mimetype": " text/x-c++src",
   "name": "c++"
  }
 },
 "nbformat": 4,
 "nbformat_minor": 2
}
