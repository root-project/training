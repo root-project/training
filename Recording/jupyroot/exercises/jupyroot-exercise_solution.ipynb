{
 "cells": [
  {
   "cell_type": "markdown",
   "id": "8fe97c57",
   "metadata": {
    "slideshow": {
     "slide_type": "slide"
    }
   },
   "source": [
    "# JupyROOT exercise (solution)\n",
    "\n",
    "In this exercise, we will practise how to use ROOT from a (Python) Jupyter notebook.\n",
    "\n",
    "First, import the ROOT module."
   ]
  },
  {
   "cell_type": "code",
   "execution_count": null,
   "id": "343d323b",
   "metadata": {
    "slideshow": {
     "slide_type": "fragment"
    }
   },
   "outputs": [],
   "source": [
    "import ROOT"
   ]
  },
  {
   "cell_type": "markdown",
   "id": "9782099a",
   "metadata": {
    "slideshow": {
     "slide_type": "slide"
    }
   },
   "source": [
    "## Getting help\n",
    "\n",
    "The ROOT module provides access to all the ROOT C++ functionality from Python. One of the C++ classes provided by ROOT is `TF1`, which represents a one-dimensional function.\n",
    "\n",
    "To find information about `TF1`, you can browse the [TF1 documentation](https://root.cern.ch/doc/master/classTF1.html)."
   ]
  },
  {
   "cell_type": "markdown",
   "id": "73cac26f",
   "metadata": {
    "slideshow": {
     "slide_type": "subslide"
    }
   },
   "source": [
    "Construct a `TF1` object with the information you got from the reference guide. For example, you can use `sin(x)/x` as formula.\n",
    "\n",
    "The cell below is completed with the drawing of such function. Play with `xmin` and `xmax` to have a better view of the function."
   ]
  },
  {
   "cell_type": "code",
   "execution_count": null,
   "id": "bd45291c",
   "metadata": {
    "slideshow": {
     "slide_type": "fragment"
    }
   },
   "outputs": [],
   "source": [
    "f1 = ROOT.TF1(\"f1\",\"sin(x)/x\", 0, 10)\n",
    "\n",
    "c = ROOT.TCanvas()\n",
    "f1.Draw()\n",
    "c.Draw()"
   ]
  },
  {
   "cell_type": "markdown",
   "id": "f4705eed",
   "metadata": {
    "slideshow": {
     "slide_type": "slide"
    }
   },
   "source": [
    "## Interactive graphics\n",
    "\n",
    "The plot of the function you obtained in the previous cell is a static image, but ROOT also supports interactive JavaScript display of its graphics.\n",
    "\n",
    "Activate the interactive graphics mode of ROOT and draw again the canvas. The resulting plot should no longer be static!"
   ]
  },
  {
   "cell_type": "code",
   "execution_count": null,
   "id": "36f8b50c",
   "metadata": {
    "slideshow": {
     "slide_type": "fragment"
    }
   },
   "outputs": [],
   "source": [
    "%jsroot on\n",
    "\n",
    "c.Draw()"
   ]
  },
  {
   "cell_type": "markdown",
   "id": "f75fdfbd",
   "metadata": {
    "slideshow": {
     "slide_type": "slide"
    }
   },
   "source": [
    "## Defining C++ code cells\n",
    "\n",
    "Use the `%%cpp` magic to define C++ code in a cell. For example, define a C++ function that returns the maximum of two integers."
   ]
  },
  {
   "cell_type": "code",
   "execution_count": null,
   "id": "e58cd28c",
   "metadata": {
    "slideshow": {
     "slide_type": "fragment"
    }
   },
   "outputs": [],
   "source": [
    "%%cpp\n",
    "\n",
    "int my_max(int i, int j) {\n",
    "    if (i > j) return i;\n",
    "    else return j;\n",
    "}"
   ]
  },
  {
   "cell_type": "markdown",
   "id": "ced5ae88",
   "metadata": {
    "slideshow": {
     "slide_type": "fragment"
    }
   },
   "source": [
    "Now invoke the C++ function you just defined from Python and verify it works!"
   ]
  },
  {
   "cell_type": "code",
   "execution_count": null,
   "id": "a06e117f",
   "metadata": {
    "slideshow": {
     "slide_type": "fragment"
    }
   },
   "outputs": [],
   "source": [
    "ROOT.my_max(1,2)"
   ]
  }
 ],
 "metadata": {
  "celltoolbar": "Slideshow",
  "kernelspec": {
   "display_name": "Python 3",
   "language": "python",
   "name": "python3"
  },
  "language_info": {
   "codemirror_mode": {
    "name": "ipython",
    "version": 3
   },
   "file_extension": ".py",
   "mimetype": "text/x-python",
   "name": "python",
   "nbconvert_exporter": "python",
   "pygments_lexer": "ipython3",
   "version": "3.9.12"
  }
 },
 "nbformat": 4,
 "nbformat_minor": 5
}
