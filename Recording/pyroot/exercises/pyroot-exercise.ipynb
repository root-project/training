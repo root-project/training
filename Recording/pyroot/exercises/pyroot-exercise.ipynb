{
 "cells": [
  {
   "cell_type": "markdown",
   "id": "1b84e5af",
   "metadata": {
    "slideshow": {
     "slide_type": "slide"
    }
   },
   "source": [
    "# PyROOT exercise\n",
    "\n",
    "In this exercise, we will practise how to use PyROOT to invoke C++ code from Python.\n",
    "\n",
    "First import the ROOT module."
   ]
  },
  {
   "cell_type": "code",
   "execution_count": null,
   "id": "a9c455d2",
   "metadata": {
    "slideshow": {
     "slide_type": "fragment"
    }
   },
   "outputs": [],
   "source": [
    "import ROOT"
   ]
  },
  {
   "cell_type": "markdown",
   "id": "2f3b6623",
   "metadata": {
    "slideshow": {
     "slide_type": "slide"
    }
   },
   "source": [
    "## Using ROOT"
   ]
  },
  {
   "cell_type": "markdown",
   "id": "3977e22d",
   "metadata": {
    "slideshow": {
     "slide_type": "fragment"
    }
   },
   "source": [
    "To practise the use of ROOT from Python, start by creating a histogram with 64 bins and an x-axis ranging from 0 to 16. See [TH1F docs](https://root.cern.ch/doc/master/classTH1F.html) to get some help on the constructor parameters."
   ]
  },
  {
   "cell_type": "code",
   "execution_count": null,
   "id": "fc7d53b2",
   "metadata": {
    "slideshow": {
     "slide_type": "fragment"
    }
   },
   "outputs": [],
   "source": [
    "# Your code here"
   ]
  },
  {
   "cell_type": "markdown",
   "id": "eb4865fc",
   "metadata": {
    "slideshow": {
     "slide_type": "subslide"
    }
   },
   "source": [
    "Fill the histogram with random numbers distributed according to a Landau function (`landau`). See [TH1 docs](https://root.cern.ch/doc/master/classTH1.html) to find the right method to use."
   ]
  },
  {
   "cell_type": "code",
   "execution_count": null,
   "id": "43a625b1",
   "metadata": {
    "slideshow": {
     "slide_type": "fragment"
    }
   },
   "outputs": [],
   "source": [
    "# Your code here"
   ]
  },
  {
   "cell_type": "markdown",
   "id": "32b4b97c",
   "metadata": {
    "slideshow": {
     "slide_type": "fragment"
    }
   },
   "source": [
    "Change the style of the histogram by making the line width a bit larger. See [TAttrLine docs](https://root.cern.ch/doc/master/classTAttLine.html) to find the right method to use."
   ]
  },
  {
   "cell_type": "code",
   "execution_count": null,
   "id": "967b8d9e",
   "metadata": {
    "slideshow": {
     "slide_type": "fragment"
    }
   },
   "outputs": [],
   "source": [
    "# Your code here"
   ]
  },
  {
   "cell_type": "markdown",
   "id": "67f0a813",
   "metadata": {
    "slideshow": {
     "slide_type": "subslide"
    }
   },
   "source": [
    "Draw the histogram."
   ]
  },
  {
   "cell_type": "code",
   "execution_count": null,
   "id": "de8055f0",
   "metadata": {
    "slideshow": {
     "slide_type": "fragment"
    }
   },
   "outputs": [],
   "source": [
    "# Your code here"
   ]
  },
  {
   "cell_type": "markdown",
   "id": "4b2ba12d",
   "metadata": {
    "slideshow": {
     "slide_type": "slide"
    }
   },
   "source": [
    "## Invoking user-defined C++ code\n",
    "\n",
    "Let's now define some C++ code and use it right away from Python. Define a C++ function that receives an integer as a parameter and prints it."
   ]
  },
  {
   "cell_type": "code",
   "execution_count": null,
   "id": "43e5620e",
   "metadata": {
    "slideshow": {
     "slide_type": "fragment"
    }
   },
   "outputs": [],
   "source": [
    "ROOT.gInterpreter.ProcessLine(\"\"\"\n",
    "// Your code here\n",
    "\"\"\")"
   ]
  },
  {
   "cell_type": "markdown",
   "id": "5ccf21bf",
   "metadata": {
    "slideshow": {
     "slide_type": "fragment"
    }
   },
   "source": [
    "Invoke the C++ function you just defined from Python. Notice how you can pass a Python integer argument to the call, and internally it gets translated into a C++ `int`!"
   ]
  },
  {
   "cell_type": "code",
   "execution_count": null,
   "id": "fe73d785",
   "metadata": {
    "slideshow": {
     "slide_type": "fragment"
    }
   },
   "outputs": [],
   "source": [
    "# Your code here"
   ]
  }
 ],
 "metadata": {
  "celltoolbar": "Slideshow",
  "kernelspec": {
   "display_name": "Python 3",
   "language": "python",
   "name": "python3"
  },
  "language_info": {
   "codemirror_mode": {
    "name": "ipython",
    "version": 3
   },
   "file_extension": ".py",
   "mimetype": "text/x-python",
   "name": "python",
   "nbconvert_exporter": "python",
   "pygments_lexer": "ipython3",
   "version": "3.9.12"
  }
 },
 "nbformat": 4,
 "nbformat_minor": 5
}
