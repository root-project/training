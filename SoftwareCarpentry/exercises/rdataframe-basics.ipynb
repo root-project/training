{
 "cells": [
  {
   "cell_type": "markdown",
   "metadata": {},
   "source": [
    "# Create a histogram with RDataFrame\n",
    "\n",
    "Create an RDataFrame and **define** a new column with 1000 random gaussian numbers. Then create an histogram from that column, set its color to blue and draw it."
   ]
  },
  {
   "cell_type": "code",
   "execution_count": null,
   "metadata": {},
   "outputs": [],
   "source": [
    "import ROOT"
   ]
  },
  {
   "cell_type": "code",
   "execution_count": null,
   "metadata": {},
   "outputs": [],
   "source": [
    "df = ROOT.RDataFrame(1000).Define(\"mycolumn\", \"gRandom->Gaus()\")"
   ]
  },
  {
   "cell_type": "code",
   "execution_count": null,
   "metadata": {},
   "outputs": [],
   "source": [
    "h = df.Histo1D(\"mycolumn\")"
   ]
  },
  {
   "cell_type": "code",
   "execution_count": null,
   "metadata": {},
   "outputs": [],
   "source": [
    "c = ROOT.TCanvas()\n",
    "h.SetFillColor(ROOT.kBlue)\n",
    "h.Draw()\n",
    "c.Draw()"
   ]
  },
  {
   "cell_type": "code",
   "execution_count": null,
   "metadata": {},
   "outputs": [],
   "source": [
    "g = df.Graph(\"x\", \"y\")"
   ]
  },
  {
   "cell_type": "code",
   "execution_count": null,
   "metadata": {},
   "outputs": [],
   "source": [
    "c = ROOT.TCanvas()\n",
    "# To change the titles: either one between\n",
    "# g.SetTitle(\"Graph Title; Horizontal Axis; Vertical Axis\")\n",
    "# or\n",
    "# g.SetTitle(\"Graph Title\")\n",
    "# g.GetXaxis().SetTitle(\"Horizontal Axis\")\n",
    "# g.GetYaxis().SetTitle(\"Vertical Axis\")\n",
    "g.SetTitle(\"Graph Title; Horizontal Axis; Vertical Axis\")\n",
    "# Change line color and width\n",
    "g.SetLineColor(ROOT.kBlue)\n",
    "g.SetLineWidth(3)\n",
    "# Draw the graph\n",
    "g.Draw()\n",
    "c.Draw()"
   ]
  }
 ],
 "metadata": {
  "kernelspec": {
   "display_name": "Python 3",
   "language": "python",
   "name": "python3"
  },
  "language_info": {
   "codemirror_mode": {
    "name": "ipython",
    "version": 3
   },
   "file_extension": ".py",
   "mimetype": "text/x-python",
   "name": "python",
   "nbconvert_exporter": "python",
   "pygments_lexer": "ipython3",
   "version": "3.9.6"
  }
 },
 "nbformat": 4,
 "nbformat_minor": 4
}
