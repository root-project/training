{
 "cells": [
  {
   "cell_type": "markdown",
   "metadata": {
    "slideshow": {
     "slide_type": "slide"
    }
   },
   "source": [
    "# Working with ROOT during this course"
   ]
  },
  {
   "cell_type": "markdown",
   "metadata": {
    "slideshow": {
     "slide_type": "slide"
    }
   },
   "source": [
    "**NO NEED to install anything!** \n",
    "\n",
    "Two options to follow the course:\n",
    " * [SWAN](https://swan.cern.ch): CERN's notebook service, **requires CERN account**\n",
    " * [Binder](https://mybinder.org/): public notebook service, no account needed"
   ]
  },
  {
   "cell_type": "markdown",
   "metadata": {
    "slideshow": {
     "slide_type": "slide"
    }
   },
   "source": [
    "## SWAN (Service for Web-based ANalysis)\n",
    "https://swan.cern.ch"
   ]
  },
  {
   "cell_type": "markdown",
   "metadata": {
    "slideshow": {
     "slide_type": "subslide"
    }
   },
   "source": [
    "### What is SWAN?\n",
    "\n",
    "**SWAN (Service for Web-based ANalysis)** is a CERN service that allows users to perform interactive data analysis in the cloud, following a \"software as a service\" model. It is built upon the widely-used Jupyter notebooks, which allows users to write - and run - their data analyses using only a web browser.\n",
    "\n",
    "By connecting to SWAN, users have immediate access to the CERN storage, software and computing resources they need to do their analyses!"
   ]
  },
  {
   "cell_type": "markdown",
   "metadata": {
    "slideshow": {
     "slide_type": "subslide"
    }
   },
   "source": [
    "<center><img src=\"images/swan1.png\"></center>"
   ]
  },
  {
   "cell_type": "markdown",
   "metadata": {
    "slideshow": {
     "slide_type": "subslide"
    }
   },
   "source": [
    "<center><img src=\"images/swan2.png\"></center>"
   ]
  },
  {
   "cell_type": "markdown",
   "metadata": {
    "slideshow": {
     "slide_type": "subslide"
    }
   },
   "source": [
    "<center><img src=\"images/swan3.png\"></center>"
   ]
  },
  {
   "cell_type": "markdown",
   "metadata": {
    "slideshow": {
     "slide_type": "subslide"
    }
   },
   "source": [
    "<center><img src=\"images/swan4.png\"></center>"
   ]
  },
  {
   "cell_type": "markdown",
   "metadata": {
    "slideshow": {
     "slide_type": "subslide"
    }
   },
   "source": [
    "<center><img src=\"images/swan5.png\"></center>"
   ]
  },
  {
   "cell_type": "markdown",
   "metadata": {
    "slideshow": {
     "slide_type": "subslide"
    }
   },
   "source": [
    "Useful links:\n",
    "    \n",
    "- SWAN help (also available in the service itself): https://github.com/swan-cern/help\n",
    "- SWAN galleries (notebook examples): https://swan-gallery.web.cern.ch/"
   ]
  },
  {
   "cell_type": "markdown",
   "metadata": {
    "slideshow": {
     "slide_type": "subslide"
    }
   },
   "source": [
    "### Working with SWAN for this course\n",
    "\n",
    "The material for this course is available at the [ROOT training repository](https://github.com/root-project/training/tree/master/SoftwareCarpentry).\n",
    "\n",
    "In order to open the course material with SWAN:\n",
    "1. Open the Github repository where the material is: https://github.com/root-project/training/tree/master/SoftwareCarpentry\n",
    "2. Click on the **\"Open in SWAN\"** badge\n",
    "3. Start your SWAN session (the default values of the form are ok)\n",
    "\n",
    "Once the steps above are completed, SWAN will download the ROOT training material into a SWAN project in your CERNBox space and open that project. The Software Carpentry notebooks are located in the `SoftwareCarpentry` folder of the project.\n",
    "\n",
    "SWAN already provides a ROOT installation that you can use, so no need to worry about that!"
   ]
  },
  {
   "cell_type": "markdown",
   "metadata": {
    "slideshow": {
     "slide_type": "slide"
    }
   },
   "source": [
    "## Binder\n",
    "https://mybinder.org"
   ]
  },
  {
   "cell_type": "markdown",
   "metadata": {
    "slideshow": {
     "slide_type": "subslide"
    }
   },
   "source": [
    "### What is Binder?\n",
    "\n",
    "Binder is a public service that allows you to edit and run Jupyter notebooks.\n",
    "\n",
    "It does not require any credentials. Temporary user sessions are created on demand."
   ]
  },
  {
   "cell_type": "markdown",
   "metadata": {
    "slideshow": {
     "slide_type": "subslide"
    }
   },
   "source": [
    "### A Binder repository\n",
    "\n",
    "In order to open your notebooks with Binder, you need to add them to a public code repository (e.g. on GitHub, GitLab or Bitbucket). Such repository must contain at least two things:\n",
    "\n",
    "* **Code** or content that you would like people to run, e.g. notebooks.\n",
    "* **Configuration files**: used by Binder to build the environment needed to run your code."
   ]
  },
  {
   "cell_type": "markdown",
   "metadata": {
    "slideshow": {
     "slide_type": "subslide"
    }
   },
   "source": [
    "<center><img src=\"images/binder1.png\"></center>"
   ]
  },
  {
   "cell_type": "markdown",
   "metadata": {
    "slideshow": {
     "slide_type": "subslide"
    }
   },
   "source": [
    "### Working with Binder for this course\n",
    "\n",
    "The material for this course is available at the [ROOT training repository](https://github.com/root-project/training/tree/master/SoftwareCarpentry).\n",
    "\n",
    "In order to open the course material with Binder:\n",
    "1. Open the Github repository where the material is: https://github.com/root-project/training/tree/master/SoftwareCarpentry\n",
    "2. Click on the **\"launch binder\"** badge\n",
    "\n",
    "Once the steps above are completed, Binder will create a temporary Jupyter session for you and open the contents of the repository. The Software Carpentry notebooks are located in the `SoftwareCarpentry` folder. Note that the storage of this temporary session is **volatile**: any modifications made to the notebooks will disappear after the session ends.\n",
    "\n",
    "The repository with the course material already contains an `environment.xml` configuration file for Binder to install the ROOT conda distribution, so no need to worry about that!"
   ]
  },
  {
   "cell_type": "markdown",
   "metadata": {
    "slideshow": {
     "slide_type": "slide"
    }
   },
   "source": [
    "## Installing ROOT locally\n",
    "\n",
    "For people interested in having a local installation of ROOT to use **after this course**, please visit the following link\n",
    "\n",
    "https://root.cern/install\n",
    "\n",
    "for information about the different available installation options."
   ]
  }
 ],
 "metadata": {
  "celltoolbar": "Slideshow",
  "kernelspec": {
   "display_name": "Python 3 (ipykernel)",
   "language": "python",
   "name": "python3"
  },
  "language_info": {
   "codemirror_mode": {
    "name": "ipython",
    "version": 3
   },
   "file_extension": ".py",
   "mimetype": "text/x-python",
   "name": "python",
   "nbconvert_exporter": "python",
   "pygments_lexer": "ipython3",
   "version": "3.9.6"
  }
 },
 "nbformat": 4,
 "nbformat_minor": 2
}
