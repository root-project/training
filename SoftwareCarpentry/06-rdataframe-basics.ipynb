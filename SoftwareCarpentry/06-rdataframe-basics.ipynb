{
 "cells": [
  {
   "cell_type": "markdown",
   "metadata": {
    "slideshow": {
     "slide_type": "slide"
    }
   },
   "source": [
    "# The HEP dataset\n",
    "\n",
    "High Energy Physics data is made of many statistically independent collision events. Laying data into an \"event class\", then serialise and write out `N` instances of the class into a file would be very inefficient. In ROOT, a dataset is organised columns that can store elements of any C++ type:\n",
    "* fundamental types: `int`, `float`\n",
    "* C++ standard collections: `std::vector`, `std::map`\n",
    "* User created C++ classes\n",
    "\n",
    "The ROOT dataset is represented by the `TTree` class and can be simply called a tree. Columns in the dataset are instances of the `TBranch` class and can be also called branches. ROOT format is logically and phisically (on disk) a columnar format. Different columns can be read independently from disk. This translates into faster IO performance with respect to other dataset formats (HDF5, SQL)."
   ]
  },
  {
   "cell_type": "markdown",
   "metadata": {
    "slideshow": {
     "slide_type": "subslide"
    }
   },
   "source": [
    "<center><img src=\"images/rdf_2.png\"></center>"
   ]
  },
  {
   "cell_type": "markdown",
   "metadata": {
    "slideshow": {
     "slide_type": "slide"
    }
   },
   "source": [
    "# ROOT RDataFrame\n",
    "\n",
    "ROOT's declarative analysis interface. Users define their analysis as a sequence of operations to be performed on the data-frame object; the framework takes care of the management of the loop over entries as well as low-level details such as I/O and parallelisation. RDataFrame provides methods to perform most common operations required by ROOT analyses; at the same time, users can just as easily specify custom code that will be executed in the event loop.\n",
    "<img src=\"images/rdf_1.png\">"
   ]
  },
  {
   "cell_type": "markdown",
   "metadata": {
    "slideshow": {
     "slide_type": "slide"
    }
   },
   "source": [
    "# HEP data analysis with RDataFrame\n",
    "RDataFrame allows reading and writing trees, aiming at making HEP analysis easy to write and fast to perform."
   ]
  },
  {
   "cell_type": "code",
   "execution_count": null,
   "metadata": {
    "slideshow": {
     "slide_type": "subslide"
    }
   },
   "outputs": [],
   "source": [
    "import ROOT\n",
    "\n",
    "treename = \"mydataset\"\n",
    "filename = \"data/example_dataset.root\"\n",
    "df = ROOT.RDataFrame(treename, filename)\n",
    "\n",
    "print(f\"Columns in the dataset: {df.GetColumnNames()}\")"
   ]
  },
  {
   "cell_type": "code",
   "execution_count": null,
   "metadata": {
    "slideshow": {
     "slide_type": "subslide"
    }
   },
   "outputs": [],
   "source": [
    "def1 = df.Define(\"e\", \"a+b\")\n",
    "\n",
    "fil1 = def1.Filter(\"e < 75\")\n",
    "\n",
    "count = fil1.Count()\n",
    "mean = fil1.Mean(\"e\")\n",
    "display = fil1.Display()\n",
    "\n",
    "print(f\"Number of rows after filter: {count.GetValue()}\")\n",
    "print(f\"Mean pf column d after filter: {mean.GetValue()}\")\n",
    "print(\"Dataset contents:\")\n",
    "display.Print()"
   ]
  },
  {
   "cell_type": "markdown",
   "metadata": {
    "slideshow": {
     "slide_type": "slide"
    }
   },
   "source": [
    "# Think about data-flow\n",
    "RDataFrame is built with a modular and flexible workflow in mind, summarised as follows:\n",
    "\n",
    "* build a data-frame object by specifying your data-set\n",
    "* apply a series of transformations to your data\n",
    "  * filter (e.g. apply some cuts) or\n",
    "  * define a new column (e.g. the result of an expensive computation on columns)\n",
    "* apply actions to the transformed data to produce results (e.g. fill a histogram)"
   ]
  },
  {
   "cell_type": "markdown",
   "metadata": {
    "slideshow": {
     "slide_type": "subslide"
    }
   },
   "source": [
    "### Important Note\n",
    "Make sure to book all transformations and actions before you access the contents of any of the results: this lets RDataFrame accumulate work and then produce all results at the same time, upon first access to any of them."
   ]
  },
  {
   "cell_type": "code",
   "execution_count": null,
   "metadata": {
    "slideshow": {
     "slide_type": "subslide"
    }
   },
   "outputs": [],
   "source": [
    "# Consider events after the 50th\n",
    "df1 = df.Filter(\"a >= 50\")\n",
    "\n",
    "# Book in advance all Mean operations on the dataset columns\n",
    "cols = df.GetColumnNames()\n",
    "mean_ops = [df1.Mean(col) for col in cols]\n",
    "\n",
    "# Later get the result from the operations\n",
    "# The RDataFrame event loop will process all actions in one go\n",
    "for col, mean_op in zip(cols, mean_ops):\n",
    "    print(f\"Mean value of {col}: {mean_op.GetValue()}\")\n"
   ]
  },
  {
   "cell_type": "markdown",
   "metadata": {
    "slideshow": {
     "slide_type": "slide"
    }
   },
   "source": [
    "# Operation categories in RDataFrame\n",
    "There are 2 main types of operations you can act on on your dataset with RDataFrame:"
   ]
  },
  {
   "cell_type": "markdown",
   "metadata": {
    "slideshow": {
     "slide_type": "subslide"
    }
   },
   "source": [
    "**Transformations**: manipulate the dataset, not asking for a final result.\n",
    "\n",
    "| Transformation    | Description                                                |\n",
    "|-------------------|------------------------------------------------------------|\n",
    "| Define()          | Creates  a new column in the dataset.                      |\n",
    "| Filter()          | Filter rows based on user-defined conditions.              |"
   ]
  },
  {
   "cell_type": "markdown",
   "metadata": {
    "slideshow": {
     "slide_type": "subslide"
    }
   },
   "source": [
    "**Actions**: aggregate (parts of) the dataset into a result.\n",
    "\n",
    "| Action                        | Description                                                                          |\n",
    "|------------------------------------|--------------------------------------------------------------------------------------|\n",
    "| Count()                            | Return the number of events processed.                                               |\n",
    "| Display()                          | Provides a printable object representing the dataset contents.                       |\n",
    "| Graph()                            | Fills a TGraph  with the two columns provided.                                       |\n",
    "| Histo1D(), Histo2D(), Histo3D()    | Fill a one-, two-, three-dimensional histogram with the processed column values.     |\n",
    "| Max(), Min()                       | Return the maximum(minimum) of processed column values.                              |\n",
    "| Snapshot()        | Writes processed data-set to disk.              |\n",
    "| ...                                | ...  "
   ]
  },
  {
   "cell_type": "markdown",
   "metadata": {
    "slideshow": {
     "slide_type": "subslide"
    }
   },
   "source": [
    "There are also other operations that do not fall in the previous categories, useful to query information about your dataset and the RDataFrame status.\n",
    "\n",
    "| Operation           | Description                                                                              |\n",
    "|---------------------|------------------------------------------------------------------------------------------|\n",
    "| Alias()             | Introduce an alias for a particular column name.                                         |\n",
    "| GetColumnNames()    | Get the names of all the available columns of the dataset.                               |\n",
    "| GetColumnType()     | Return the type of a given column as a string.                                           |\n",
    "| SaveGraph()         | Store the computation graph of an RDataFrame in graphviz format for easy inspection.     |\n",
    "| ...                 | ...                                                                                      |"
   ]
  },
  {
   "cell_type": "markdown",
   "metadata": {
    "slideshow": {
     "slide_type": "slide"
    }
   },
   "source": [
    "# Documentation\n",
    "https://root.cern/doc/master/classROOT_1_1RDataFrame.html"
   ]
  },
  {
   "cell_type": "markdown",
   "metadata": {
    "slideshow": {
     "slide_type": "slide"
    }
   },
   "source": [
    "* ROOT website: https://root.cern\n",
    "* Have a question about ROOT? https://root-forum.cern.ch\n",
    "* Have a bug to report? https://github.com/root-project/root/issues\n",
    "* Have some code ready to go in the next ROOT release?\n",
    " * https://github.com/root-project/root/pulls\n",
    " * Github pull requests are always welcome: simple (and not so simple)\n",
    " * bug fixes, typos, missing documentation, tutorials...\n"
   ]
  }
 ],
 "metadata": {
  "celltoolbar": "Slideshow",
  "kernelspec": {
   "display_name": "Python 3",
   "language": "python",
   "name": "python3"
  },
  "language_info": {
   "codemirror_mode": {
    "name": "ipython",
    "version": 3
   },
   "file_extension": ".py",
   "mimetype": "text/x-python",
   "name": "python",
   "nbconvert_exporter": "python",
   "pygments_lexer": "ipython3",
   "version": "3.9.6"
  }
 },
 "nbformat": 4,
 "nbformat_minor": 2
}
