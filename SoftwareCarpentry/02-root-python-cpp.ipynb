{
 "cells": [
  {
   "cell_type": "markdown",
   "metadata": {
    "slideshow": {
     "slide_type": "slide"
    }
   },
   "source": [
    "# Using ROOT to bind Python and C++"
   ]
  },
  {
   "cell_type": "markdown",
   "metadata": {
    "slideshow": {
     "slide_type": "slide"
    }
   },
   "source": [
    "## What is PyROOT?\n",
    "\n",
    "* **PyROOT** is the name of the Python bindings offered by ROOT\n",
    "* All the ROOT C++ functions and classes are accessible from Python via PyROOT\n",
    "  * Python façade, C++ performance\n",
    "* But PyROOT is not just for ROOT!\n",
    "  * It can also call into user-defined C++ code"
   ]
  },
  {
   "cell_type": "markdown",
   "metadata": {
    "slideshow": {
     "slide_type": "slide"
    }
   },
   "source": [
    "## How does PyROOT work?\n",
    "\n",
    "* PyROOT is a special type of bindings, since it's **automatic** and **dynamic**\n",
    " * No static wrapper generation\n",
    " * Dynamic python proxies are created for C++ entities\n",
    " * Lazy class/variable lookup\n",
    "* Powered by [cppyy](https://cppyy.readthedocs.io/), the ROOT type system and [Cling](https://root.cern/cling/)\n",
    " * Reflection information\n",
    " * JIT C++ compilation and execution\n",
    "* And on top of the automatic bindings: **pythonizations**\n",
    " * To make the use of C++ from Python simpler, more pythonic"
   ]
  },
  {
   "cell_type": "markdown",
   "metadata": {
    "slideshow": {
     "slide_type": "slide"
    }
   },
   "source": [
    "## Using ROOT from Python\n",
    "\n",
    "To start working with PyROOT, we need to import the ROOT module."
   ]
  },
  {
   "cell_type": "code",
   "execution_count": null,
   "metadata": {
    "slideshow": {
     "slide_type": "fragment"
    }
   },
   "outputs": [],
   "source": [
    "import ROOT"
   ]
  },
  {
   "cell_type": "markdown",
   "metadata": {
    "slideshow": {
     "slide_type": "fragment"
    }
   },
   "source": [
    "The ROOT Python module is the entry point for all the ROOT C++ functionality.\n",
    "\n",
    "For example, we can create a histogram with ROOT using the `TH1F` C++ class from Python:"
   ]
  },
  {
   "cell_type": "code",
   "execution_count": null,
   "metadata": {
    "slideshow": {
     "slide_type": "fragment"
    }
   },
   "outputs": [],
   "source": [
    "h = ROOT.TH1F(\"my_histo\", \"Example histogram\", nbinsx=100, xlow=-4, xup=4)"
   ]
  },
  {
   "cell_type": "markdown",
   "metadata": {
    "slideshow": {
     "slide_type": "slide"
    }
   },
   "source": [
    "## Calling user-defined C++ code via PyROOT\n",
    "\n",
    "We've seen how PyROOT allows to access all the functions and classes that the ROOT C++ libraries define.\n",
    "\n",
    "In addition, it is possible to make PyROOT call into user-defined C++. For example, it is possible to declare a C++ function:"
   ]
  },
  {
   "cell_type": "code",
   "execution_count": null,
   "metadata": {
    "slideshow": {
     "slide_type": "fragment"
    }
   },
   "outputs": [],
   "source": [
    "ROOT.gInterpreter.ProcessLine(\"\"\"\n",
    "double add(double a, double b) {\n",
    "    return a + b;\n",
    "}\n",
    "\"\"\")"
   ]
  },
  {
   "cell_type": "markdown",
   "metadata": {
    "slideshow": {
     "slide_type": "fragment"
    }
   },
   "source": [
    "and use it right away from Python:"
   ]
  },
  {
   "cell_type": "code",
   "execution_count": null,
   "metadata": {
    "slideshow": {
     "slide_type": "fragment"
    }
   },
   "outputs": [],
   "source": [
    "ROOT.add(3.14, 100)"
   ]
  },
  {
   "cell_type": "markdown",
   "metadata": {
    "slideshow": {
     "slide_type": "subslide"
    }
   },
   "source": [
    "### What about code in C++ libraries?\n",
    "\n",
    "In the example we just saw, the user-defined C++ code is contained in strings in our program, but PyROOT can also load and call into C++ libraries. This enables you to write high-performance C++, compile it and use it from Python.\n",
    "\n",
    "More information can be found [here](https://root.cern/manual/python/#loading-user-libraries-and-just-in-time-compilation-jitting)."
   ]
  },
  {
   "cell_type": "markdown",
   "metadata": {
    "slideshow": {
     "slide_type": "slide"
    }
   },
   "source": [
    "## Type conversions\n",
    "\n",
    "When calling C++ from Python via PyROOT, there needs to be a conversion between the Python arguments we pass and the C++ arguments that the C++ side expects. PyROOT takes care of such conversion automatically, for example from Python integer to C++ integer:"
   ]
  },
  {
   "cell_type": "code",
   "execution_count": null,
   "metadata": {
    "slideshow": {
     "slide_type": "fragment"
    }
   },
   "outputs": [],
   "source": [
    "ROOT.gInterpreter.ProcessLine(\"void print_integer(int i) { std::cout << i << std::endl; }\")\n",
    "\n",
    "ROOT.print_integer(7)"
   ]
  },
  {
   "cell_type": "markdown",
   "metadata": {
    "slideshow": {
     "slide_type": "fragment"
    }
   },
   "source": [
    "Of course not every conversion is allowed!"
   ]
  },
  {
   "cell_type": "code",
   "execution_count": null,
   "metadata": {
    "slideshow": {
     "slide_type": "fragment"
    }
   },
   "outputs": [],
   "source": [
    "ROOT.print_integer([]) # fails with TypeError"
   ]
  },
  {
   "cell_type": "markdown",
   "metadata": {
    "slideshow": {
     "slide_type": "slide"
    }
   },
   "source": [
    "An example of a useful allowed conversion is Python list to `std::vector`:"
   ]
  },
  {
   "cell_type": "code",
   "execution_count": null,
   "metadata": {
    "slideshow": {
     "slide_type": "fragment"
    }
   },
   "outputs": [],
   "source": [
    "ROOT.gInterpreter.ProcessLine(\"\"\"\n",
    "void print_vector(const std::vector<std::string> &v) {\n",
    "    for (auto &s : v) {\n",
    "        std::cout << s << std::endl;\n",
    "    }\n",
    "}\n",
    "\"\"\"\")\n",
    "\n",
    "ROOT.print_vector(['Two', 'Words'])"
   ]
  },
  {
   "cell_type": "markdown",
   "metadata": {
    "slideshow": {
     "slide_type": "slide"
    }
   },
   "source": [
    "## A final note on performance\n",
    "\n",
    "Being able to call into C++ from Python does not guarantee that the performance of your Python script will always be the best, no matter what code you write!\n",
    "\n",
    "In general, any heavy computation should be pushed to C++, e.g. encapsulating it in some C++ function that you call from Python or relying on libraries with fast C/C++ implementations (e.g. ROOT, NumPy).\n",
    "\n",
    "In the context of high-energy physics, iterating over the collision events in a dataset is a common operation. Such iteration in Python can be slow for big datasets and should only be done during short exploratory work. Later in this course we will see how the event loop can be efficiently executed in C++, even from a Python script, with the help of ROOT's [RDataFrame](https://root.cern/doc/master/classROOT_1_1RDataFrame.html).\n",
    "\n",
    "```python\n",
    "# This can be slow!\n",
    "for event in dataset:\n",
    "    h.Fill(event.field)\n",
    "```"
   ]
  }
 ],
 "metadata": {
  "celltoolbar": "Slideshow",
  "kernelspec": {
   "display_name": "Python 3",
   "language": "python",
   "name": "python3"
  },
  "language_info": {
   "codemirror_mode": {
    "name": "ipython",
    "version": 3
   },
   "file_extension": ".py",
   "mimetype": "text/x-python",
   "name": "python",
   "nbconvert_exporter": "python",
   "pygments_lexer": "ipython3",
   "version": "3.8.6"
  }
 },
 "nbformat": 4,
 "nbformat_minor": 2
}
